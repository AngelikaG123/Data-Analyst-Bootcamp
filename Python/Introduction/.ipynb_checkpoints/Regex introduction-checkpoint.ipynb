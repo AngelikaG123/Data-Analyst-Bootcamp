{
 "cells": [
  {
   "cell_type": "code",
   "execution_count": null,
   "id": "656fb4e9",
   "metadata": {},
   "outputs": [],
   "source": [
    "# Write a function find_emails_in_file(filename) that will take one argument: the name of the file to search.\n",
    "# The function should return a list of strings - email addresses found in the specified file.\n",
    "\n",
    "\n",
    "import re\n",
    "def find_emails_in_file(filename):\n",
    "    with open(filename) as file:\n",
    "        regex = r\"[a-zA-Z0-9_.+-]+@[a-zA-Z0-9-]+\\.[a-zA-Z0-9-.]+\"\n",
    "        file_read = file.read()\n",
    "        match = re.findall(regex,file_read)\n",
    "        #print(match)\n",
    "        return match\n",
    "\n",
    "# Test data\n",
    "print(\n",
    "    'Function find_emails_in_file found',\n",
    "    len(find_emails_in_file('files/data.txt')),\n",
    "    'e-mail addresses (expected 40)'\n",
    ")\n",
    "\n",
    "if find_emails_in_file('files/data.txt')[0] == 'kszpyra@gmail.com':\n",
    "    print('The first address found is kszpyra@gmail.com - as expected')\n",
    "else:\n",
    "    print(\n",
    "        f'The first address returned by the function is '\n",
    "        f'{find_emails_in_file(\"files/data.txt\")[0]!r} - expected kszpyra@gmail.com'\n",
    "    )\n",
    "\n",
    "if find_emails_in_file('files/data.txt')[-1] == 'n.strzelczak@wp.pl':\n",
    "    print('Last address found is n.strzelczak@wp.pl - as expected')\n",
    "else:\n",
    "    print(\n",
    "        f'The last address returned by the function is'\n",
    "        f'{find_emails_in_file(\"files/data.txt\")[-1]!r} - expcted n.strzelczak@wp.pl'\n",
    "    )"
   ]
  },
  {
   "cell_type": "code",
   "execution_count": null,
   "id": "3344ab82",
   "metadata": {},
   "outputs": [],
   "source": [
    "# Write a function strip_non_letters(text) that will accept text as an argument and return it\n",
    "# leaving only lowercase and uppercase letters, without accents and diacritics.\n",
    "\n",
    "import re\n",
    "def strip_non_letters(text):\n",
    "    result = re.sub(r'[^a-zA-Z ]', '', text)\n",
    "    return result\n",
    "\n",
    "# Test data\n",
    "if strip_non_letters('Zażółć gęślą jaźń') == 'Za gl ja':\n",
    "    print('The function correctly removes Polish characters')\n",
    "else:\n",
    "    print('For a phrase \"Zażółć gęślą jaźń\" the result expected is \"Za gl ja\",')\n",
    "    print('but the function returned', repr(strip_non_letters('Zażółć gęślą jaźń')))"
   ]
  },
  {
   "cell_type": "code",
   "execution_count": null,
   "id": "20e40ebf",
   "metadata": {},
   "outputs": [],
   "source": []
  }
 ],
 "metadata": {
  "kernelspec": {
   "display_name": "Python 3 (ipykernel)",
   "language": "python",
   "name": "python3"
  },
  "language_info": {
   "codemirror_mode": {
    "name": "ipython",
    "version": 3
   },
   "file_extension": ".py",
   "mimetype": "text/x-python",
   "name": "python",
   "nbconvert_exporter": "python",
   "pygments_lexer": "ipython3",
   "version": "3.11.4"
  }
 },
 "nbformat": 4,
 "nbformat_minor": 5
}
