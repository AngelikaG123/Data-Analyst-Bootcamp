{
 "cells": [
  {
   "cell_type": "code",
   "execution_count": null,
   "id": "7915c7a9",
   "metadata": {},
   "outputs": [],
   "source": [
    "# Let's try to open a file that does not exist\n",
    "\n",
    "try:\n",
    "    with open('files/text.txt') as file:\n",
    "        print(file.read())\n",
    "except FileNotFoundError:\n",
    "    print(\"File not found\")"
   ]
  },
  {
   "cell_type": "code",
   "execution_count": null,
   "id": "5de964dd",
   "metadata": {},
   "outputs": [],
   "source": [
    "# Write a function check_zip_code(code) that will check the validity of the zip code.\n",
    "\n",
    "def check_zip_code(code):\n",
    "    if len(code) != 6:\n",
    "        raise ValueError(\"Incorrect length\")\n",
    "    if code[2] != '-':\n",
    "        raise ValueError(\"No minus\")\n",
    "    for digit in code[:1]+code[3:]:\n",
    "        if not digit.isdigit():\n",
    "            raise ValueError(\"Prohibited sign\")\n",
    "            \n",
    "try:\n",
    "    if check_zip_code:\n",
    "        pass\n",
    "except:\n",
    "    print('Check_zip_code function not found, test results below may be false!')\n",
    "\n",
    "try:\n",
    "    check_zip_code('12-345')\n",
    "except Exception as e:\n",
    "    print('For code 12-345, the function unexpectedly threw an exception', e)\n",
    "else:\n",
    "    print(\"Well done!\")\n",
    "\n",
    "try:\n",
    "    check_zip_code('12-3456')\n",
    "except ValueError as e:\n",
    "    if str(e) == 'Incorrect length':\n",
    "        print('Well done!')\n",
    "    else:\n",
    "        print('Incorrect message: The function threw a commented ValueError exception:', str(e))\n",
    "        print('instead of the expected \"Incorrect length\"')\n",
    "except Exception as e:\n",
    "    print('The function threw an invalid exception:', e.__class__.__name__, 'instead of ValueError')\n",
    "else:\n",
    "    print('The function did not throw an exception!')"
   ]
  },
  {
   "cell_type": "code",
   "execution_count": null,
   "id": "03d6d427",
   "metadata": {},
   "outputs": [],
   "source": [
    "# Open the file line.txt and display its contents, prefixing each line with the string \"Line <LINE NUMBER>: \".\n",
    "\n",
    "with open('files/wiersz.txt','r',encoding=\"utf-8\") as file:\n",
    "    counter = 1\n",
    "    for i in file:\n",
    "        print(f'Line <{counter}>: {i}')\n",
    "        counter += 1\n"
   ]
  },
  {
   "cell_type": "code",
   "execution_count": null,
   "id": "a28dfca2",
   "metadata": {},
   "outputs": [],
   "source": [
    "# Open the `tree.txt` file in write mode and then save a 12-line tall Christmas tree in it.\n",
    "\n",
    "with open('files/tree.txt', 'w') as file:\n",
    "    counter = 1\n",
    "    for i in range(12):\n",
    "        string = '*'\n",
    "        print(string * counter)\n",
    "        counter += 1\n",
    "\n",
    "with open('files/tree.txt') as file:\n",
    "    for i in file:\n",
    "        print(file.readline())"
   ]
  },
  {
   "cell_type": "code",
   "execution_count": null,
   "id": "cbceb4bc",
   "metadata": {},
   "outputs": [],
   "source": [
    "# Write a script that will move the files one.txt and two.txt to the archive/ folder.\n",
    "# File names should remain the same, only the location of their storage should change.\n",
    "\n",
    "import shutil\n",
    "\n",
    "file1 = 'files/one.txt'\n",
    "file2 = 'files/two.txt'\n",
    "\n",
    "destination = 'files/archive/'\n",
    "\n",
    "shutil.move(file1,destination)\n",
    "shutil.move(file2,destination)"
   ]
  },
  {
   "cell_type": "code",
   "execution_count": null,
   "id": "ba9feeac",
   "metadata": {},
   "outputs": [],
   "source": [
    "# Find all files with the extension .txt in the data/ folder, loop open each one, and display its contents on the screen.\n",
    "# The task will be completed correctly when you see three Polish palindromes and zero Czech palindromes on the screen\n",
    "# (because these are in .py files, not .txt) and Russian (these are in .html files).\n",
    "\n",
    "# version 1\n",
    "import os\n",
    "                       \n",
    "for root, dirs, files in os.walk('files/data/'):\n",
    "    for file in files:\n",
    "        if file.endswith('.txt'):\n",
    "            with open(f'files/data/{file}') as plik:\n",
    "                print(plik.readline())\n",
    "\n",
    "print()\n",
    "\n",
    "# version 2\n",
    "import glob\n",
    "\n",
    "import glob\n",
    "\n",
    "txt_files = glob.glob('files/data/*.txt')\n",
    "\n",
    "for i in txt_files:\n",
    "    with open(i) as file:\n",
    "        print(file.readline())"
   ]
  },
  {
   "cell_type": "code",
   "execution_count": null,
   "id": "4b08fa1d",
   "metadata": {},
   "outputs": [],
   "source": []
  }
 ],
 "metadata": {
  "kernelspec": {
   "display_name": "Python 3 (ipykernel)",
   "language": "python",
   "name": "python3"
  },
  "language_info": {
   "codemirror_mode": {
    "name": "ipython",
    "version": 3
   },
   "file_extension": ".py",
   "mimetype": "text/x-python",
   "name": "python",
   "nbconvert_exporter": "python",
   "pygments_lexer": "ipython3",
   "version": "3.11.4"
  }
 },
 "nbformat": 4,
 "nbformat_minor": 5
}
