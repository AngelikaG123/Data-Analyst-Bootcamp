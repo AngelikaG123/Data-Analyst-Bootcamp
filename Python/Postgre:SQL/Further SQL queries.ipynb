{
 "cells": [
  {
   "cell_type": "code",
   "execution_count": 87,
   "metadata": {},
   "outputs": [],
   "source": [
    "import psycopg2\n",
    "\n",
    "connection = psycopg2.connect(\n",
    "    host='localhost',\n",
    "    user='postgres',\n",
    "    password='*********',\n",
    "    dbname='classicmodels',\n",
    ")\n",
    "cursor = connection.cursor()  "
   ]
  },
  {
   "cell_type": "code",
   "execution_count": null,
   "metadata": {},
   "outputs": [],
   "source": [
    "# updating database \n",
    "cursor.execute(\"UPDATE employees SET officecode = 7 WHERE lastname = 'Bott' AND firstname = 'Larry'\")\n",
    "\n",
    "cursor.execute(\"UPDATE customers SET creditlimit = 60000 WHERE customername = 'Tekni Collectables Inc.'\")\n",
    "\n",
    "cursor.execute(\"UPDATE products SET quantityinstock = 0 WHERE productline = 'Trucks and Buses'\")\n",
    "\n",
    "cursor.execute(\"UPDATE orderdetails SET quantityordered = 60 WHERE productcode = 'S18_2957' AND ordernumber = 10103\")"
   ]
  },
  {
   "cell_type": "code",
   "execution_count": null,
   "metadata": {},
   "outputs": [],
   "source": [
    "# deleting data from database\n",
    "cursor.execute(\"SELECT * FROM customers WHERE customername  LIKE 'Tokyo Collectables, Ltd'\")\n",
    "\n",
    "cursor.execute(\"SELECT * FROM orders WHERE customernumber = (SELECT customernumber FROM customers WHERE customername LIKE 'Tokyo Collectables, Ltd')\")\n",
    "\n",
    "cursor.execute(\"DELETE FROM orderdetails WHERE ordernumber IN (SELECT ordernumber FROM orders WHERE customernumber = (SELECT customernumber FROM customers WHERE customername LIKE 'Tokyo Collectables, Ltd'))\")\n",
    "\n",
    "cursor.execute(\"DELETE FROM orders WHERE customernumber = (SELECT customernumber FROM customers WHERE customername LIKE 'Tokyo Collectables, Ltd')\")\n",
    "\n",
    "cursor.execute(\"DELETE FROM payments WHERE customernumber = (SELECT customernumber FROM customers WHERE customername LIKE 'Tokyo Collectables, Ltd')\")\n",
    "\n",
    "cursor.execute(\"DELETE FROM customers WHERE customername  LIKE 'Tokyo Collectables, Ltd'\")"
   ]
  },
  {
   "cell_type": "code",
   "execution_count": null,
   "metadata": {},
   "outputs": [],
   "source": [
    "# many-to-many relation\n",
    "cursor.execute(\"SELECT O.orderNumber, P.productName, OD.quantityOrdered, P.productname FROM orders O JOIN orderdetails OD ON O.ordernumber = OD.ordernumber JOIN products P ON P.productcode = OD.productcode \")\n",
    "#cursor.execute(\"select * from employees\")\n",
    "for row in cursor:\n",
    "    print(f'{row[0]:5} | {row[1]:45} | {row[2]:3} | {row[3]:6}')\n",
    "    #print(row)"
   ]
  },
  {
   "cell_type": "code",
   "execution_count": 121,
   "metadata": {},
   "outputs": [
    {
     "name": "stdout",
     "output_type": "stream",
     "text": [
      "Order number     | Quantity ordered   | Total value  \n",
      "------------------------------------------------------\n",
      "           10100 |                151 |       151.00 \n",
      "           10101 |                142 |       142.00 \n",
      "           10102 |                 80 |        80.00 \n",
      "           10103 |                566 |       566.00 \n",
      "           10104 |                443 |       443.00 \n",
      "           10105 |                545 |       545.00 \n",
      "           10106 |                675 |       675.00 \n",
      "           10107 |                229 |       229.00 \n",
      "           10108 |                561 |       561.00 \n",
      "           10109 |                212 |       212.00 \n",
      "\n",
      "\n",
      "Product line     | Count of products  | Average buy price \n",
      "------------------------------------------------------------\n",
      "Classic Cars     |                 38 |        64.45\n",
      "Trains           |                  3 |        43.92\n",
      "Planes           |                 12 |        49.63\n",
      "Trucks and Buses |                 11 |        56.33\n",
      "Vintage Cars     |                 24 |        46.07\n",
      "Motorcycles      |                 13 |        50.69\n",
      "Ships            |                  9 |        47.01\n",
      "\n",
      "\n",
      "Country          | Max credit limit   | Min credit limit    \n",
      "------------------------------------------------------------\n",
      "USA              |             210500 |           210500\n",
      "UK               |             136800 |           136800\n",
      "Switzerland      |             141300 |           141300\n",
      "Sweden           |             116400 |           116400\n",
      "Spain            |             227600 |           227600\n",
      "\n"
     ]
    }
   ],
   "source": [
    "# aggregation functions\n",
    "\n",
    "cursor.execute(\"SELECT ordernumber, SUM(quantityordered) AS Quantity, SUM(quantityordered * priceEach) FROM orderdetails GROUP BY ordernumber ORDER BY ordernumber LIMIT 10\")\n",
    "print(f'Order number     | Quantity ordered   | Total value  ')\n",
    "print(f'------------------------------------------------------')\n",
    "for row in cursor:\n",
    "    print(f'{row[0]:16} | {row[1]:18} | {round(row[1],2):12} ')\n",
    "print()\n",
    "print()\n",
    "\n",
    "cursor.execute(\"SELECT productline, COUNT(productname) AS Products , AVG(buyprice) AS Average_price  FROM products GROUP BY productline\")\n",
    "print(f'Product line     | Count of products  | Average buy price ')\n",
    "print(f'------------------------------------------------------------')\n",
    "for row in cursor:\n",
    "    print(f'{row[0]:16} | {round(row[1],2):18} | {round(row[2],2):12}')\n",
    "print()\n",
    "print()\n",
    "\n",
    "\n",
    "cursor.execute(\"SELECT country, MAX(creditlimit), MIN(creditlimit) FROM customers GROUP BY country ORDER BY country DESC LIMIT 5\")\n",
    "print(f'Country          | Max credit limit   | Min credit limit    ')\n",
    "print(f'------------------------------------------------------------')\n",
    "for row in cursor:\n",
    "    print(f'{row[0]:16} | {round(row[1]):18} | {round(row[1]):16}')\n",
    "print()"
   ]
  },
  {
   "cell_type": "code",
   "execution_count": 120,
   "metadata": {},
   "outputs": [
    {
     "name": "stdout",
     "output_type": "stream",
     "text": [
      "Customer             | Total order amount   \n",
      "--------------------------------------------\n",
      "Classic Cars         |        3827967.4\n",
      "Motorcycles          |       1105696.85\n",
      "Planes               |        939282.71\n",
      "Ships                |        647886.24\n",
      "Trains               |        184875.24\n",
      "Trucks and Buses     |       1012728.06\n",
      "Vintage Cars         |       1781751.38\n",
      "\n",
      "\n"
     ]
    }
   ],
   "source": [
    "# Aggregation functions in relationships\n",
    "\n",
    "# What is the total order amount for each production line (sum(quantityordered * priceEach))?\n",
    "\n",
    "cursor.execute(\"SELECT PL.productLine, sum(quantityordered * priceEach) from productlines PL JOIN products P ON P.productline = PL.productline JOIN orderdetails OD ON OD.productcode = P.productcode GROUP BY PL.productline ORDER BY PL.productline\")\n",
    "print(f'Customer             | Total order amount   ')\n",
    "print(f'--------------------------------------------')\n",
    "for row in cursor:\n",
    "    print(f'{row[0]:20} | {round(row[1],2):16}')\n",
    "print()\n",
    "print()\n"
   ]
  },
  {
   "cell_type": "code",
   "execution_count": 117,
   "metadata": {},
   "outputs": [
    {
     "name": "stdout",
     "output_type": "stream",
     "text": [
      "Customer                            | Amount paid        \n",
      "---------------------------------------------------------\n",
      "AV Stores, Co.                      |        148410.09\n",
      "Alpha Cognac                        |         60483.36\n",
      "Amica Models & Co.                  |         82223.23\n",
      "Anna's Decorations, Ltd             |        137034.22\n",
      "Atelier graphique                   |         22314.36\n",
      "\n",
      "\n"
     ]
    }
   ],
   "source": [
    "# What is the total of payments made by each company (the query should also return the company name)?\n",
    "\n",
    "cursor.execute(\"SELECT C.customername, sum(P.amount) from payments P JOIN customers C ON P.customernumber = C.customernumber GROUP BY customername ORDER BY customername LIMIT 5\")\n",
    "print(f'Customer                            | Amount paid        ')\n",
    "print(f'---------------------------------------------------------')\n",
    "for row in cursor:\n",
    "    print(f'{row[0]:35} | {round(row[1],2):16}')\n",
    "print()\n",
    "print()"
   ]
  },
  {
   "cell_type": "code",
   "execution_count": 115,
   "metadata": {},
   "outputs": [
    {
     "name": "stdout",
     "output_type": "stream",
     "text": [
      "Customer                            | Quantity ordered   \n",
      "---------------------------------------------------------\n",
      "AV Stores, Co.                      |             1778\n",
      "Alpha Cognac                        |              687\n",
      "Amica Models & Co.                  |              843\n",
      "Anna's Decorations, Ltd             |             1469\n",
      "Atelier graphique                   |              270\n",
      "\n",
      "\n"
     ]
    }
   ],
   "source": [
    "# How many items did each company order in total?\n",
    "\n",
    "cursor.execute(\"SELECT C.customername, sum(OD.quantityordered) from orderdetails OD JOIN orders O ON O.ordernumber = OD.ordernumber JOIN customers C ON O.customernumber = C.customernumber GROUP BY customername ORDER BY C.customername LIMIT 5\")\n",
    "print(f'Customer                            | Quantity ordered   ')\n",
    "print(f'---------------------------------------------------------')\n",
    "for row in cursor:\n",
    "    print(f'{row[0]:35} | {row[1]:16}')\n",
    "print()\n",
    "print()"
   ]
  },
  {
   "cell_type": "code",
   "execution_count": 145,
   "metadata": {},
   "outputs": [
    {
     "name": "stdout",
     "output_type": "stream",
     "text": [
      "Customer                       |Order status     | Count of status   \n",
      "--------------------------------------------------------------\n",
      "AV Stores, Co.                 | Shipped         | 3\n",
      "Alpha Cognac                   | Shipped         | 3\n",
      "Amica Models & Co.             | Shipped         | 2\n",
      "Anna's Decorations, Ltd        | Shipped         | 4\n",
      "Atelier graphique              | Shipped         | 3\n",
      "Australian Collectables, Ltd   | Shipped         | 2\n",
      "Australian Collectables, Ltd   | Disputed        | 1\n",
      "Australian Collectors, Co.     | Shipped         | 5\n",
      "Australian Gift Network, Co    | Shipped         | 3\n",
      "Auto Associés & Cie.           | Shipped         | 2\n",
      "\n",
      "\n",
      "Office code  | Job title            | Count of employees   \n",
      "---------------------------------------------------------\n",
      "1            | Sales Rep            | 2\n",
      "1            | VP Marketing         | 1\n",
      "1            | VP Sales             | 1\n",
      "1            | Sales Manager (NA)   | 1\n",
      "1            | President            | 1\n",
      "2            | Sales Rep            | 2\n",
      "3            | Sales Rep            | 2\n",
      "4            | Sale Manager (EMEA)  | 1\n",
      "4            | Sales Rep            | 4\n",
      "5            | Sales Rep            | 2\n",
      "6            | Sales Rep            | 3\n",
      "6            | Sales Manager (APAC) | 1\n",
      "7            | Sales Rep            | 2\n",
      "\n",
      "\n"
     ]
    }
   ],
   "source": [
    "# multiple grouping\n",
    "\n",
    "cursor.execute(\"SELECT customerName, status, count(status) FROM customers JOIN orders ON orders.customernumber = customers.customernumber GROUP BY customername, status ORDER BY customername LIMIT 10\")\n",
    "print(f'Customer                       |Order status     | Count of status   ')\n",
    "print(f'--------------------------------------------------------------')\n",
    "for row in cursor:\n",
    "    print(f'{row[0]:30} | {row[1]:15} | {row[2]}' )\n",
    "print()\n",
    "print()\n",
    "\n",
    "cursor.execute(\"SELECT E.officecode, jobtitle, count(jobtitle) FROM employees E JOIN offices O ON E.officecode = O.officecode GROUP BY E.officecode, jobtitle ORDER BY E.officecode\")\n",
    "print(f'Office code  | Job title            | Count of employees   ')\n",
    "print(f'---------------------------------------------------------')\n",
    "for row in cursor:\n",
    "    print(f'{row[0]:12} | {row[1]:20} | {row[2]}' )\n",
    "print()\n",
    "print()"
   ]
  }
 ],
 "metadata": {
  "kernelspec": {
   "display_name": "Python 3 (ipykernel)",
   "language": "python",
   "name": "python3"
  },
  "language_info": {
   "codemirror_mode": {
    "name": "ipython",
    "version": 3
   },
   "file_extension": ".py",
   "mimetype": "text/x-python",
   "name": "python",
   "nbconvert_exporter": "python",
   "pygments_lexer": "ipython3",
   "version": "3.11.4"
  }
 },
 "nbformat": 4,
 "nbformat_minor": 4
}
