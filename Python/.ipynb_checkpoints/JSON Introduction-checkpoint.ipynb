{
 "cells": [
  {
   "cell_type": "code",
   "execution_count": null,
   "id": "48b23ccb",
   "metadata": {},
   "outputs": [],
   "source": [
    "print(\"Lista imion i nazwisk kobiet:\")\n",
    "\n",
    "import json\n",
    " \n",
    "with open('clients.json') as file:\n",
    "    data = json.loads(file.read())\n",
    "\n",
    "for i in range(0,len(data['clients'])):\n",
    "    if data['clients'][i]['gender'] == \"female\":\n",
    "        print(data['clients'][i]['name'])\n",
    "\n",
    "# oczekiwany wynik: Alexandra Garrison, Jane Nash, Edwina Whitley"
   ]
  },
  {
   "cell_type": "code",
   "execution_count": null,
   "id": "1997cf26",
   "metadata": {},
   "outputs": [],
   "source": [
    "print(\"Lista imion i nazwisk mężczyzn:\")\n",
    "\n",
    "import json\n",
    " \n",
    "with open('clients.json') as file:\n",
    "    data = json.loads(file.read())\n",
    "\n",
    "for i in range(0,len(data['clients'])):\n",
    "    if data['clients'][i]['gender'] == \"male\":\n",
    "        print(data['clients'][i]['name'])\n",
    "\n",
    "\n",
    "# oczekiwany wynik: Bennett Walter, Burris Rodriquez"
   ]
  },
  {
   "cell_type": "code",
   "execution_count": null,
   "id": "30e47090",
   "metadata": {},
   "outputs": [],
   "source": [
    "print(\"Lista aktywnych klientów:\")\n",
    "\n",
    "import json\n",
    " \n",
    "with open('clients.json') as file:\n",
    "    data = json.loads(file.read())\n",
    "\n",
    "for i in range(0,len(data['clients'])):\n",
    "    if data['clients'][i]['isActive'] == True:\n",
    "            print(data['clients'][i]['name'])\n",
    "\n",
    "# oczekiwany wynik: Burris Rodriquez"
   ]
  },
  {
   "cell_type": "code",
   "execution_count": null,
   "id": "af935cf6",
   "metadata": {},
   "outputs": [],
   "source": [
    "print(\"Lista klientów z tagiem `adipisicing`:\")\n",
    "    \n",
    "import json\n",
    " \n",
    "with open('clients.json') as file:\n",
    "    data = json.loads(file.read())\n",
    "\n",
    "for i in range(0,len(data['clients'])):\n",
    "    if 'adipisicing' in data['clients'][i]['tags']:\n",
    "            print(data['clients'][i]['name'])\n",
    "\n",
    "# oczekiwany wynik: Bennett Walter, Alexandra Garrison, Burris Rodriquez"
   ]
  },
  {
   "cell_type": "code",
   "execution_count": null,
   "id": "c320aceb",
   "metadata": {},
   "outputs": [],
   "source": [
    "print(\"Lista klientów o zielonych oczach:\")\n",
    "\n",
    "import json\n",
    " \n",
    "with open('clients.json') as file:\n",
    "    data = json.loads(file.read())\n",
    "\n",
    "for i in range(0,len(data['clients'])):\n",
    "    if data['clients'][i]['eyeColor'] == \"green\":\n",
    "        print(data['clients'][i]['name'])\n",
    "\n",
    "# oczekiwany wynik: Alexandra Garrison, Jane Nash, Burris Rodriquez"
   ]
  },
  {
   "cell_type": "code",
   "execution_count": null,
   "id": "1a2f4320",
   "metadata": {},
   "outputs": [],
   "source": [
    "print(\"Lista klientów z polskim numerem telefonu:\")\n",
    "\n",
    "import json\n",
    "import re\n",
    "\n",
    "with open('clients.json') as file:\n",
    "    data = json.loads(file.read())\n",
    "\n",
    "pattern = r\".*\\+48.*\"\n",
    "\n",
    "for client in data['clients']:\n",
    "    phone_number = client.get('phone', '')  \n",
    "    if re.match(pattern, phone_number):\n",
    "        print(client['name'])\n",
    "\n",
    "# oczekiwany wynik: Bennett Walter"
   ]
  },
  {
   "cell_type": "code",
   "execution_count": null,
   "id": "d314ee0e",
   "metadata": {},
   "outputs": [],
   "source": [
    "# Tu przeczytaj plik i wyświetl jego treść\n",
    "\n",
    "import json\n",
    "\n",
    "with open('todo.json') as file:\n",
    "    data = json.loads(file.read())\n",
    "\n",
    "owner = data['owner']\n",
    "tasks = data['tasks']\n",
    "\n",
    "for i in range(0, len(tasks)):\n",
    "    task = tasks[i]\n",
    "    wynik = f\"{owner}, twoje bojowe zadanie na dziś to {task}\"\n",
    "    print(wynik)\n"
   ]
  },
  {
   "cell_type": "code",
   "execution_count": null,
   "id": "a3df6c51",
   "metadata": {},
   "outputs": [],
   "source": [
    "# Tu zapytaj o imię i utwórz plik `todo.json` o odpowiedniej treści\n",
    "\n",
    "import json\n",
    "name = str(input(\"Podaj imię:\"))\n",
    "\n",
    "dictionary = {'owner':name, \n",
    "              'tasks': []}\n",
    "as_json = json.dumps(dictionary)\n",
    "\n",
    "\n",
    "with open('todo.json', 'w') as file:\n",
    "    file.write(as_json)"
   ]
  },
  {
   "cell_type": "code",
   "execution_count": null,
   "id": "ec34e4e4",
   "metadata": {},
   "outputs": [],
   "source": [
    "# Tu zapytaj o treść nowego zadania i dodaj je do listy w pliku\n",
    "import json\n",
    "\n",
    "with open('todo.json') as file:\n",
    "    todo = json.loads(file.read())\n",
    "\n",
    "task = input('Jakie zadanie dodać do listy?')\n",
    "todo['tasks'].append(task)\n",
    "\n",
    "with open('todo.json', 'w') as file:\n",
    "    file.write(json.dumps(todo))"
   ]
  }
 ],
 "metadata": {
  "kernelspec": {
   "display_name": "Python 3 (ipykernel)",
   "language": "python",
   "name": "python3"
  },
  "language_info": {
   "codemirror_mode": {
    "name": "ipython",
    "version": 3
   },
   "file_extension": ".py",
   "mimetype": "text/x-python",
   "name": "python",
   "nbconvert_exporter": "python",
   "pygments_lexer": "ipython3",
   "version": "3.11.4"
  }
 },
 "nbformat": 4,
 "nbformat_minor": 5
}
