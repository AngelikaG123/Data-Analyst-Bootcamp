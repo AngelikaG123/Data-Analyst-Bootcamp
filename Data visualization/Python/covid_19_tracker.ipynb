{
 "cells": [
  {
   "cell_type": "code",
   "execution_count": 3,
   "metadata": {
    "executionInfo": {
     "elapsed": 5647,
     "status": "ok",
     "timestamp": 1708255823083,
     "user": {
      "displayName": "Astarte",
      "userId": "15697340223878132473"
     },
     "user_tz": -60
    },
    "id": "SVUSI4USmFUB",
    "tags": []
   },
   "outputs": [],
   "source": [
    "import seaborn as sns\n",
    "import pandas as pd\n",
    "import matplotlib.pyplot as plt\n",
    "import plotly.express as px\n",
    "import dash\n",
    "# from google.colab import output, drive\n",
    "import threading"
   ]
  },
  {
   "cell_type": "code",
   "execution_count": 6,
   "metadata": {
    "executionInfo": {
     "elapsed": 1574,
     "status": "ok",
     "timestamp": 1708255853179,
     "user": {
      "displayName": "Astarte",
      "userId": "15697340223878132473"
     },
     "user_tz": -60
    },
    "id": "-J5HTWH8mUwK",
    "tags": []
   },
   "outputs": [],
   "source": [
    "df = pd.read_csv('project_1_python.csv')"
   ]
  },
  {
   "cell_type": "code",
   "execution_count": 8,
   "metadata": {
    "colab": {
     "base_uri": "https://localhost:8080/",
     "height": 35
    },
    "executionInfo": {
     "elapsed": 641,
     "status": "ok",
     "timestamp": 1708255858685,
     "user": {
      "displayName": "Astarte",
      "userId": "15697340223878132473"
     },
     "user_tz": -60
    },
    "id": "PDSCQ1HFpZCp",
    "outputId": "ab3008b0-22f7-4bf6-fb02-af350b8efb87",
    "tags": []
   },
   "outputs": [
    {
     "data": {
      "text/plain": [
       "'complete records: 7057; total records: 180477'"
      ]
     },
     "execution_count": 8,
     "metadata": {},
     "output_type": "execute_result"
    }
   ],
   "source": [
    "\"complete records: \" + str(len(df.dropna(how=\"any\"))) + \"; total records: \" + str(len(df))"
   ]
  },
  {
   "cell_type": "markdown",
   "metadata": {
    "id": "FyndbGBrqmGn"
   },
   "source": [
    "## Chart 1"
   ]
  },
  {
   "cell_type": "code",
   "execution_count": 109,
   "metadata": {
    "colab": {
     "base_uri": "https://localhost:8080/",
     "height": 342
    },
    "executionInfo": {
     "elapsed": 717,
     "status": "ok",
     "timestamp": 1708255861799,
     "user": {
      "displayName": "Astarte",
      "userId": "15697340223878132473"
     },
     "user_tz": -60
    },
    "id": "a90WAlU26BjU",
    "outputId": "70a47cbc-54cc-4e43-c5b9-58c014dd1ebc",
    "tags": []
   },
   "outputs": [
    {
     "data": {
      "text/html": [
       "<div>\n",
       "<style scoped>\n",
       "    .dataframe tbody tr th:only-of-type {\n",
       "        vertical-align: middle;\n",
       "    }\n",
       "\n",
       "    .dataframe tbody tr th {\n",
       "        vertical-align: top;\n",
       "    }\n",
       "\n",
       "    .dataframe thead th {\n",
       "        text-align: right;\n",
       "    }\n",
       "</style>\n",
       "<table border=\"1\" class=\"dataframe\">\n",
       "  <thead>\n",
       "    <tr style=\"text-align: right;\">\n",
       "      <th></th>\n",
       "      <th>index</th>\n",
       "      <th>iso_code</th>\n",
       "      <th>continent</th>\n",
       "      <th>location</th>\n",
       "      <th>date</th>\n",
       "      <th>total_cases</th>\n",
       "      <th>new_cases</th>\n",
       "      <th>total_deaths</th>\n",
       "      <th>new_deaths</th>\n",
       "      <th>hosp_patients</th>\n",
       "      <th>...</th>\n",
       "      <th>people_vaccinated</th>\n",
       "      <th>people_fully_vaccinated</th>\n",
       "      <th>total_boosters</th>\n",
       "      <th>new_vaccinations</th>\n",
       "      <th>population</th>\n",
       "      <th>median_age</th>\n",
       "      <th>gdp_per_capita</th>\n",
       "      <th>life_expectancy</th>\n",
       "      <th>latitude</th>\n",
       "      <th>longitude</th>\n",
       "    </tr>\n",
       "  </thead>\n",
       "  <tbody>\n",
       "    <tr>\n",
       "      <th>0</th>\n",
       "      <td>0</td>\n",
       "      <td>AFG</td>\n",
       "      <td>Asia</td>\n",
       "      <td>Afghanistan</td>\n",
       "      <td>2020-02-24</td>\n",
       "      <td>5.0</td>\n",
       "      <td>5.0</td>\n",
       "      <td>NaN</td>\n",
       "      <td>NaN</td>\n",
       "      <td>NaN</td>\n",
       "      <td>...</td>\n",
       "      <td>NaN</td>\n",
       "      <td>NaN</td>\n",
       "      <td>NaN</td>\n",
       "      <td>NaN</td>\n",
       "      <td>39835428.0</td>\n",
       "      <td>18.6</td>\n",
       "      <td>1803.987</td>\n",
       "      <td>64.83</td>\n",
       "      <td>33.0</td>\n",
       "      <td>65.0</td>\n",
       "    </tr>\n",
       "    <tr>\n",
       "      <th>1</th>\n",
       "      <td>1</td>\n",
       "      <td>AFG</td>\n",
       "      <td>Asia</td>\n",
       "      <td>Afghanistan</td>\n",
       "      <td>2020-02-25</td>\n",
       "      <td>5.0</td>\n",
       "      <td>0.0</td>\n",
       "      <td>NaN</td>\n",
       "      <td>NaN</td>\n",
       "      <td>NaN</td>\n",
       "      <td>...</td>\n",
       "      <td>NaN</td>\n",
       "      <td>NaN</td>\n",
       "      <td>NaN</td>\n",
       "      <td>NaN</td>\n",
       "      <td>39835428.0</td>\n",
       "      <td>18.6</td>\n",
       "      <td>1803.987</td>\n",
       "      <td>64.83</td>\n",
       "      <td>33.0</td>\n",
       "      <td>65.0</td>\n",
       "    </tr>\n",
       "    <tr>\n",
       "      <th>2</th>\n",
       "      <td>2</td>\n",
       "      <td>AFG</td>\n",
       "      <td>Asia</td>\n",
       "      <td>Afghanistan</td>\n",
       "      <td>2020-02-26</td>\n",
       "      <td>5.0</td>\n",
       "      <td>0.0</td>\n",
       "      <td>NaN</td>\n",
       "      <td>NaN</td>\n",
       "      <td>NaN</td>\n",
       "      <td>...</td>\n",
       "      <td>NaN</td>\n",
       "      <td>NaN</td>\n",
       "      <td>NaN</td>\n",
       "      <td>NaN</td>\n",
       "      <td>39835428.0</td>\n",
       "      <td>18.6</td>\n",
       "      <td>1803.987</td>\n",
       "      <td>64.83</td>\n",
       "      <td>33.0</td>\n",
       "      <td>65.0</td>\n",
       "    </tr>\n",
       "    <tr>\n",
       "      <th>3</th>\n",
       "      <td>3</td>\n",
       "      <td>AFG</td>\n",
       "      <td>Asia</td>\n",
       "      <td>Afghanistan</td>\n",
       "      <td>2020-02-27</td>\n",
       "      <td>5.0</td>\n",
       "      <td>0.0</td>\n",
       "      <td>NaN</td>\n",
       "      <td>NaN</td>\n",
       "      <td>NaN</td>\n",
       "      <td>...</td>\n",
       "      <td>NaN</td>\n",
       "      <td>NaN</td>\n",
       "      <td>NaN</td>\n",
       "      <td>NaN</td>\n",
       "      <td>39835428.0</td>\n",
       "      <td>18.6</td>\n",
       "      <td>1803.987</td>\n",
       "      <td>64.83</td>\n",
       "      <td>33.0</td>\n",
       "      <td>65.0</td>\n",
       "    </tr>\n",
       "    <tr>\n",
       "      <th>4</th>\n",
       "      <td>4</td>\n",
       "      <td>AFG</td>\n",
       "      <td>Asia</td>\n",
       "      <td>Afghanistan</td>\n",
       "      <td>2020-02-28</td>\n",
       "      <td>5.0</td>\n",
       "      <td>0.0</td>\n",
       "      <td>NaN</td>\n",
       "      <td>NaN</td>\n",
       "      <td>NaN</td>\n",
       "      <td>...</td>\n",
       "      <td>NaN</td>\n",
       "      <td>NaN</td>\n",
       "      <td>NaN</td>\n",
       "      <td>NaN</td>\n",
       "      <td>39835428.0</td>\n",
       "      <td>18.6</td>\n",
       "      <td>1803.987</td>\n",
       "      <td>64.83</td>\n",
       "      <td>33.0</td>\n",
       "      <td>65.0</td>\n",
       "    </tr>\n",
       "  </tbody>\n",
       "</table>\n",
       "<p>5 rows × 24 columns</p>\n",
       "</div>"
      ],
      "text/plain": [
       "   index iso_code continent     location        date  total_cases  new_cases  \\\n",
       "0      0      AFG      Asia  Afghanistan  2020-02-24          5.0        5.0   \n",
       "1      1      AFG      Asia  Afghanistan  2020-02-25          5.0        0.0   \n",
       "2      2      AFG      Asia  Afghanistan  2020-02-26          5.0        0.0   \n",
       "3      3      AFG      Asia  Afghanistan  2020-02-27          5.0        0.0   \n",
       "4      4      AFG      Asia  Afghanistan  2020-02-28          5.0        0.0   \n",
       "\n",
       "   total_deaths  new_deaths  hosp_patients  ...  people_vaccinated  \\\n",
       "0           NaN         NaN            NaN  ...                NaN   \n",
       "1           NaN         NaN            NaN  ...                NaN   \n",
       "2           NaN         NaN            NaN  ...                NaN   \n",
       "3           NaN         NaN            NaN  ...                NaN   \n",
       "4           NaN         NaN            NaN  ...                NaN   \n",
       "\n",
       "   people_fully_vaccinated  total_boosters  new_vaccinations  population  \\\n",
       "0                      NaN             NaN               NaN  39835428.0   \n",
       "1                      NaN             NaN               NaN  39835428.0   \n",
       "2                      NaN             NaN               NaN  39835428.0   \n",
       "3                      NaN             NaN               NaN  39835428.0   \n",
       "4                      NaN             NaN               NaN  39835428.0   \n",
       "\n",
       "   median_age  gdp_per_capita  life_expectancy  latitude  longitude  \n",
       "0        18.6        1803.987            64.83      33.0       65.0  \n",
       "1        18.6        1803.987            64.83      33.0       65.0  \n",
       "2        18.6        1803.987            64.83      33.0       65.0  \n",
       "3        18.6        1803.987            64.83      33.0       65.0  \n",
       "4        18.6        1803.987            64.83      33.0       65.0  \n",
       "\n",
       "[5 rows x 24 columns]"
      ]
     },
     "execution_count": 109,
     "metadata": {},
     "output_type": "execute_result"
    }
   ],
   "source": [
    "df.head(5)"
   ]
  },
  {
   "cell_type": "code",
   "execution_count": 110,
   "metadata": {
    "colab": {
     "base_uri": "https://localhost:8080/"
    },
    "executionInfo": {
     "elapsed": 378,
     "status": "ok",
     "timestamp": 1708255864205,
     "user": {
      "displayName": "Astarte",
      "userId": "15697340223878132473"
     },
     "user_tz": -60
    },
    "id": "f6GGed0JqkCi",
    "outputId": "cef2c975-b1f2-4121-b767-f0259af9d632",
    "tags": []
   },
   "outputs": [
    {
     "data": {
      "text/plain": [
       "array(['Bangladesh', 'Brazil', 'China', 'India', 'Indonesia', 'Mexico',\n",
       "       'Nigeria', 'Pakistan', 'Russia', 'United States'], dtype=object)"
      ]
     },
     "execution_count": 110,
     "metadata": {},
     "output_type": "execute_result"
    }
   ],
   "source": [
    "lista_pop = df['population'].unique()\n",
    "lista_pop.sort()\n",
    "lista_10 = lista_pop[-10:]\n",
    "\n",
    "df_filtered = df[df['population'].isin(lista_10)]\n",
    "df_filtered['location'].unique()"
   ]
  },
  {
   "cell_type": "code",
   "execution_count": 111,
   "metadata": {
    "executionInfo": {
     "elapsed": 1,
     "status": "ok",
     "timestamp": 1708255865390,
     "user": {
      "displayName": "Astarte",
      "userId": "15697340223878132473"
     },
     "user_tz": -60
    },
    "id": "ibCA6iz8YqV3",
    "tags": []
   },
   "outputs": [],
   "source": [
    "df_filtered2 = df_filtered.groupby('location').max()\n",
    "df_filtered2 = df_filtered2.reset_index()\n",
    "df_filtered2 = df_filtered2.sort_values(by='population', ascending=False)"
   ]
  },
  {
   "cell_type": "code",
   "execution_count": 147,
   "metadata": {
    "colab": {
     "base_uri": "https://localhost:8080/",
     "height": 709
    },
    "executionInfo": {
     "elapsed": 2037,
     "status": "ok",
     "timestamp": 1708255869401,
     "user": {
      "displayName": "Astarte",
      "userId": "15697340223878132473"
     },
     "user_tz": -60
    },
    "id": "I99rlNk1Xou_",
    "outputId": "06f1002f-0cf1-415b-eab4-f9ddec4d02c2",
    "tags": []
   },
   "outputs": [
    {
     "data": {
      "image/png": "[encoded data removed]",
      "text/plain": [
       "<Figure size 1200x600 with 1 Axes>"
      ]
     },
     "metadata": {},
     "output_type": "display_data"
    }
   ],
   "source": [
    "sns.set(style=\"whitegrid\")\n",
    "\n",
    "plt.figure(figsize=(12, 6))\n",
    "\n",
    "figure = sns.barplot(data=df_filtered2,\n",
    "    x=df_filtered2[\"location\"], \n",
    "    y=df_filtered2[\"population\"],\n",
    "    hue=df_filtered2[\"location\"],\n",
    "    width=-0.2,)\n",
    "\n",
    "bar_width = 0.5\n",
    "space = 0.5\n",
    "for bar in figure.patches:\n",
    "    bar.set_width(bar_width)\n",
    "    bar.set_x(bar.get_x() - space / 2) \n",
    "    \n",
    "figure.set_xticklabels(figure.get_xticklabels(), rotation=45)\n",
    "plt.legend(title=\"Country\")\n",
    "plt.title(\"10 countries with the largest population\", fontsize=16)\n",
    "\n",
    "plt.show()"
   ]
  },
  {
   "cell_type": "markdown",
   "metadata": {
    "id": "yLuId5PVcb-k"
   },
   "source": [
    "## Chart 2"
   ]
  },
  {
   "cell_type": "code",
   "execution_count": 152,
   "metadata": {
    "colab": {
     "base_uri": "https://localhost:8080/",
     "height": 342
    },
    "executionInfo": {
     "elapsed": 277,
     "status": "ok",
     "timestamp": 1708255900520,
     "user": {
      "displayName": "Astarte",
      "userId": "15697340223878132473"
     },
     "user_tz": -60
    },
    "id": "ucvwm8y6gREQ",
    "outputId": "bce8a44b-a6aa-4291-a12f-383e4b714345",
    "tags": []
   },
   "outputs": [
    {
     "data": {
      "text/html": [
       "<div>\n",
       "<style scoped>\n",
       "    .dataframe tbody tr th:only-of-type {\n",
       "        vertical-align: middle;\n",
       "    }\n",
       "\n",
       "    .dataframe tbody tr th {\n",
       "        vertical-align: top;\n",
       "    }\n",
       "\n",
       "    .dataframe thead th {\n",
       "        text-align: right;\n",
       "    }\n",
       "</style>\n",
       "<table border=\"1\" class=\"dataframe\">\n",
       "  <thead>\n",
       "    <tr style=\"text-align: right;\">\n",
       "      <th></th>\n",
       "      <th>location</th>\n",
       "      <th>index</th>\n",
       "      <th>iso_code</th>\n",
       "      <th>continent</th>\n",
       "      <th>date</th>\n",
       "      <th>total_cases</th>\n",
       "      <th>new_cases</th>\n",
       "      <th>total_deaths</th>\n",
       "      <th>new_deaths</th>\n",
       "      <th>hosp_patients</th>\n",
       "      <th>...</th>\n",
       "      <th>people_vaccinated</th>\n",
       "      <th>people_fully_vaccinated</th>\n",
       "      <th>total_boosters</th>\n",
       "      <th>new_vaccinations</th>\n",
       "      <th>population</th>\n",
       "      <th>median_age</th>\n",
       "      <th>gdp_per_capita</th>\n",
       "      <th>life_expectancy</th>\n",
       "      <th>latitude</th>\n",
       "      <th>longitude</th>\n",
       "    </tr>\n",
       "  </thead>\n",
       "  <tbody>\n",
       "    <tr>\n",
       "      <th>0</th>\n",
       "      <td>Afghanistan</td>\n",
       "      <td>845</td>\n",
       "      <td>AFG</td>\n",
       "      <td>Asia</td>\n",
       "      <td>2022-06-18</td>\n",
       "      <td>181574.0</td>\n",
       "      <td>3243.0</td>\n",
       "      <td>7713.0</td>\n",
       "      <td>159.0</td>\n",
       "      <td>NaN</td>\n",
       "      <td>...</td>\n",
       "      <td>5573175.0</td>\n",
       "      <td>4923085.0</td>\n",
       "      <td>NaN</td>\n",
       "      <td>6868.0</td>\n",
       "      <td>39835428.0</td>\n",
       "      <td>18.6</td>\n",
       "      <td>1803.987</td>\n",
       "      <td>64.83</td>\n",
       "      <td>33.0</td>\n",
       "      <td>65.0</td>\n",
       "    </tr>\n",
       "    <tr>\n",
       "      <th>1</th>\n",
       "      <td>Albania</td>\n",
       "      <td>1690</td>\n",
       "      <td>ALB</td>\n",
       "      <td>Europe</td>\n",
       "      <td>2022-06-18</td>\n",
       "      <td>277141.0</td>\n",
       "      <td>4789.0</td>\n",
       "      <td>3497.0</td>\n",
       "      <td>21.0</td>\n",
       "      <td>NaN</td>\n",
       "      <td>...</td>\n",
       "      <td>1322864.0</td>\n",
       "      <td>1244383.0</td>\n",
       "      <td>313660.0</td>\n",
       "      <td>23655.0</td>\n",
       "      <td>2872934.0</td>\n",
       "      <td>38.0</td>\n",
       "      <td>11803.431</td>\n",
       "      <td>78.57</td>\n",
       "      <td>41.0</td>\n",
       "      <td>20.0</td>\n",
       "    </tr>\n",
       "    <tr>\n",
       "      <th>2</th>\n",
       "      <td>Algeria</td>\n",
       "      <td>2535</td>\n",
       "      <td>DZA</td>\n",
       "      <td>Africa</td>\n",
       "      <td>2022-06-18</td>\n",
       "      <td>265971.0</td>\n",
       "      <td>2521.0</td>\n",
       "      <td>6875.0</td>\n",
       "      <td>49.0</td>\n",
       "      <td>NaN</td>\n",
       "      <td>...</td>\n",
       "      <td>8210605.0</td>\n",
       "      <td>6851660.0</td>\n",
       "      <td>514063.0</td>\n",
       "      <td>147230.0</td>\n",
       "      <td>44616626.0</td>\n",
       "      <td>29.1</td>\n",
       "      <td>13913.839</td>\n",
       "      <td>76.88</td>\n",
       "      <td>28.0</td>\n",
       "      <td>3.0</td>\n",
       "    </tr>\n",
       "    <tr>\n",
       "      <th>3</th>\n",
       "      <td>Andorra</td>\n",
       "      <td>3374</td>\n",
       "      <td>AND</td>\n",
       "      <td>Europe</td>\n",
       "      <td>2022-06-18</td>\n",
       "      <td>43449.0</td>\n",
       "      <td>2313.0</td>\n",
       "      <td>155.0</td>\n",
       "      <td>6.0</td>\n",
       "      <td>NaN</td>\n",
       "      <td>...</td>\n",
       "      <td>57880.0</td>\n",
       "      <td>53450.0</td>\n",
       "      <td>41742.0</td>\n",
       "      <td>2829.0</td>\n",
       "      <td>77354.0</td>\n",
       "      <td>NaN</td>\n",
       "      <td>NaN</td>\n",
       "      <td>83.73</td>\n",
       "      <td>42.5</td>\n",
       "      <td>1.6</td>\n",
       "    </tr>\n",
       "    <tr>\n",
       "      <th>4</th>\n",
       "      <td>Angola</td>\n",
       "      <td>4195</td>\n",
       "      <td>AGO</td>\n",
       "      <td>Africa</td>\n",
       "      <td>2022-06-18</td>\n",
       "      <td>99761.0</td>\n",
       "      <td>5035.0</td>\n",
       "      <td>1900.0</td>\n",
       "      <td>30.0</td>\n",
       "      <td>NaN</td>\n",
       "      <td>...</td>\n",
       "      <td>12700926.0</td>\n",
       "      <td>6811268.0</td>\n",
       "      <td>512820.0</td>\n",
       "      <td>NaN</td>\n",
       "      <td>33933611.0</td>\n",
       "      <td>16.8</td>\n",
       "      <td>5819.495</td>\n",
       "      <td>61.15</td>\n",
       "      <td>-12.5</td>\n",
       "      <td>18.5</td>\n",
       "    </tr>\n",
       "  </tbody>\n",
       "</table>\n",
       "<p>5 rows × 24 columns</p>\n",
       "</div>"
      ],
      "text/plain": [
       "      location  index iso_code continent        date  total_cases  new_cases  \\\n",
       "0  Afghanistan    845      AFG      Asia  2022-06-18     181574.0     3243.0   \n",
       "1      Albania   1690      ALB    Europe  2022-06-18     277141.0     4789.0   \n",
       "2      Algeria   2535      DZA    Africa  2022-06-18     265971.0     2521.0   \n",
       "3      Andorra   3374      AND    Europe  2022-06-18      43449.0     2313.0   \n",
       "4       Angola   4195      AGO    Africa  2022-06-18      99761.0     5035.0   \n",
       "\n",
       "   total_deaths  new_deaths  hosp_patients  ...  people_vaccinated  \\\n",
       "0        7713.0       159.0            NaN  ...          5573175.0   \n",
       "1        3497.0        21.0            NaN  ...          1322864.0   \n",
       "2        6875.0        49.0            NaN  ...          8210605.0   \n",
       "3         155.0         6.0            NaN  ...            57880.0   \n",
       "4        1900.0        30.0            NaN  ...         12700926.0   \n",
       "\n",
       "   people_fully_vaccinated  total_boosters  new_vaccinations  population  \\\n",
       "0                4923085.0             NaN            6868.0  39835428.0   \n",
       "1                1244383.0        313660.0           23655.0   2872934.0   \n",
       "2                6851660.0        514063.0          147230.0  44616626.0   \n",
       "3                  53450.0         41742.0            2829.0     77354.0   \n",
       "4                6811268.0        512820.0               NaN  33933611.0   \n",
       "\n",
       "   median_age  gdp_per_capita  life_expectancy  latitude  longitude  \n",
       "0        18.6        1803.987            64.83      33.0       65.0  \n",
       "1        38.0       11803.431            78.57      41.0       20.0  \n",
       "2        29.1       13913.839            76.88      28.0        3.0  \n",
       "3         NaN             NaN            83.73      42.5        1.6  \n",
       "4        16.8        5819.495            61.15     -12.5       18.5  \n",
       "\n",
       "[5 rows x 24 columns]"
      ]
     },
     "execution_count": 152,
     "metadata": {},
     "output_type": "execute_result"
    }
   ],
   "source": [
    "df_filtered3 = df.groupby('location').max()\n",
    "df_filtered3 = df_filtered3.reset_index()\n",
    "df_filtered3.head(5)"
   ]
  },
  {
   "cell_type": "code",
   "execution_count": 158,
   "metadata": {
    "colab": {
     "base_uri": "https://localhost:8080/",
     "height": 542
    },
    "executionInfo": {
     "elapsed": 304,
     "status": "ok",
     "timestamp": 1708262217109,
     "user": {
      "displayName": "Astarte",
      "userId": "15697340223878132473"
     },
     "user_tz": -60
    },
    "id": "s00K84snceEW",
    "outputId": "c30cec3e-8423-49fc-c06b-099a8eaf5e53",
    "tags": []
   },
   "outputs": [
    {
     "data": {
      "application/vnd.plotly.v1+json": {
       "config": {
        "plotlyServerURL": "https://plot.ly"
       },
       "data": [
        {
         "hovertemplate": "continent=Asia<br>life_expectancy=%{x}<br>population=%{y}<extra></extra>",
         "legendgroup": "Asia",
         "marker": {
          "color": "rgb(141,211,199)",
          "symbol": "circle"
         },
         "mode": "markers",
         "name": "Asia",
         "orientation": "v",
         "showlegend": true,
         "type": "scatter",
         "x": [
          64.83,
          75.09,
          73,
          77.29,
          72.59,
          71.78,
          75.86,
          69.82,
          76.91,
          73.77,
          84.86,
          69.66,
          71.72,
          76.68,
          70.6,
          82.97,
          84.63,
          74.53,
          73.6,
          75.49,
          71.45,
          67.92,
          78.93,
          84.24,
          76.16,
          78.92,
          69.87,
          67.13,
          70.78,
          72.27,
          77.86,
          67.27,
          74.05,
          71.23,
          80.23,
          75.13,
          83.62,
          83.03,
          76.98,
          72.7,
          80.46,
          71.1,
          77.15,
          69.5,
          77.69,
          68.19,
          77.97,
          71.72,
          75.4,
          66.12
         ],
         "xaxis": "x",
         "y": [
          39835428,
          2968128,
          10223344,
          1748295,
          166303494,
          779900,
          441532,
          16946446,
          1444216102,
          3979773,
          7552800,
          1393409033,
          276361788,
          85028760,
          41179351,
          9291000,
          126050796,
          10269022,
          18994958,
          4328553,
          6628347,
          7379358,
          6769151,
          658391,
          32776195,
          543620,
          3329282,
          54806014,
          29674920,
          25887045,
          5223376,
          225199929,
          5222756,
          111046910,
          2930524,
          35340680,
          5453600,
          51305184,
          21497306,
          18275704,
          23855008,
          9749625,
          69950844,
          1343875,
          85042736,
          6117933,
          9991083,
          33935765,
          98168829,
          30490639
         ],
         "yaxis": "y"
        },
        {
         "hovertemplate": "continent=Europe<br>life_expectancy=%{x}<br>population=%{y}<extra></extra>",
         "legendgroup": "Europe",
         "marker": {
          "color": "rgb(255,255,179)",
          "symbol": "circle"
         },
         "mode": "markers",
         "name": "Europe",
         "orientation": "v",
         "showlegend": true,
         "type": "scatter",
         "x": [
          78.57,
          83.73,
          81.54,
          74.79,
          81.63,
          77.4,
          75.05,
          78.49,
          80.98,
          79.38,
          80.9,
          78.74,
          80.67,
          81.91,
          82.66,
          81.33,
          79.93,
          82.24,
          null,
          76.88,
          82.99,
          82.3,
          81.4,
          83.51,
          null,
          75.29,
          82.49,
          75.93,
          82.25,
          82.53,
          71.9,
          86.75,
          76.88,
          82.28,
          75.8,
          82.4,
          78.73,
          82.05,
          76.05,
          72.58,
          84.97,
          76,
          77.54,
          81.32,
          83.56,
          82.8,
          83.78,
          72.06,
          81.32,
          75.12
         ],
         "xaxis": "x",
         "y": [
          2872934,
          77354,
          9043072,
          9442867,
          11632334,
          3263459,
          6896655,
          4081657,
          896005,
          10724553,
          5813302,
          1325188,
          49053,
          5548361,
          67422000,
          83900471,
          33691,
          10370747,
          63385,
          9634162,
          368792,
          4982904,
          85410,
          60367471,
          101073,
          1866934,
          38254,
          2689862,
          634814,
          516100,
          4024025,
          39520,
          628051,
          17173094,
          2082661,
          5465629,
          37797000,
          10167923,
          19127772,
          145912022,
          34010,
          6871547,
          5449270,
          2078723,
          46745211,
          10160159,
          8715494,
          43466822,
          68207114,
          812
         ],
         "yaxis": "y"
        },
        {
         "hovertemplate": "continent=Africa<br>life_expectancy=%{x}<br>population=%{y}<extra></extra>",
         "legendgroup": "Africa",
         "marker": {
          "color": "rgb(190,186,218)",
          "symbol": "circle"
         },
         "mode": "markers",
         "name": "Africa",
         "orientation": "v",
         "showlegend": true,
         "type": "scatter",
         "x": [
          76.88,
          61.15,
          61.77,
          69.59,
          61.58,
          61.58,
          59.29,
          72.98,
          53.28,
          54.24,
          64.32,
          64.57,
          57.78,
          60.68,
          67.11,
          71.99,
          58.74,
          66.32,
          60.19,
          66.6,
          66.47,
          62.05,
          64.07,
          61.6,
          58.32,
          66.7,
          54.33,
          64.1,
          72.91,
          67.04,
          64.26,
          59.31,
          64.92,
          74.99,
          76.68,
          60.85,
          63.71,
          62.42,
          54.69,
          69.02,
          80.56,
          70.39,
          67.94,
          73.4,
          54.7,
          57.4,
          64.13,
          57.85,
          65.31,
          65.46,
          61.04,
          76.7,
          63.37,
          70.26,
          63.89,
          61.49
         ],
         "xaxis": "x",
         "y": [
          44616626,
          33933611,
          12451031,
          2397240,
          21497097,
          12255429,
          27224262,
          561901,
          4919987,
          16914985,
          888456,
          5657017,
          27053629,
          92377986,
          1002197,
          104258327,
          1449891,
          3601462,
          1172369,
          117876226,
          2278829,
          2486937,
          31732128,
          13497237,
          2015490,
          54985702,
          2159067,
          5180208,
          6958538,
          28427333,
          19647681,
          20855724,
          4775110,
          1273428,
          37344787,
          32163045,
          2587344,
          25130810,
          211400704,
          13276517,
          6095,
          223364,
          17196308,
          98910,
          8141343,
          16359500,
          60041996,
          11381377,
          44909351,
          61498438,
          8478242,
          11935764,
          47123533,
          611872,
          18920657,
          15092171
         ],
         "yaxis": "y"
        },
        {
         "hovertemplate": "continent=North America<br>life_expectancy=%{x}<br>population=%{y}<extra></extra>",
         "legendgroup": "North America",
         "marker": {
          "color": "rgb(251,128,114)",
          "symbol": "circle"
         },
         "mode": "markers",
         "name": "North America",
         "orientation": "v",
         "showlegend": true,
         "type": "scatter",
         "x": [
          81.88,
          77.02,
          76.29,
          73.92,
          79.19,
          74.62,
          82.59,
          79.07,
          82.43,
          83.92,
          80.28,
          78.8,
          75,
          74.08,
          73.32,
          71.7,
          72.4,
          74.3,
          64,
          75.27,
          74.47,
          75.05,
          74.16,
          74.48,
          78.51,
          80.1,
          76.23,
          76.2,
          81.07,
          72.53,
          73.51,
          80.22,
          78.86,
          80.58
         ],
         "xaxis": "x",
         "y": [
          15125,
          98728,
          107195,
          396914,
          287708,
          404915,
          62092,
          30423,
          38067913,
          66498,
          5139053,
          11317498,
          72172,
          10953714,
          6518500,
          56868,
          113015,
          18249868,
          11541683,
          10062994,
          2973462,
          130262220,
          4981,
          6702379,
          4381583,
          2828246,
          53546,
          184401,
          5771,
          111269,
          1403374,
          39226,
          332915074,
          104218
         ],
         "yaxis": "y"
        },
        {
         "hovertemplate": "continent=South America<br>life_expectancy=%{x}<br>population=%{y}<extra></extra>",
         "legendgroup": "South America",
         "marker": {
          "color": "rgb(128,177,211)",
          "symbol": "circle"
         },
         "mode": "markers",
         "name": "South America",
         "orientation": "v",
         "showlegend": true,
         "type": "scatter",
         "x": [
          76.67,
          71.51,
          75.88,
          80.18,
          77.29,
          77.01,
          81.44,
          69.91,
          74.25,
          76.74,
          71.68,
          77.91,
          72.06
         ],
         "xaxis": "x",
         "y": [
          45605823,
          11832936,
          213993441,
          19212362,
          51265841,
          17888474,
          3528,
          790329,
          7219641,
          33359415,
          591798,
          3485152,
          28704947
         ],
         "yaxis": "y"
        },
        {
         "hovertemplate": "continent=Oceania<br>life_expectancy=%{x}<br>population=%{y}<extra></extra>",
         "legendgroup": "Oceania",
         "marker": {
          "color": "rgb(253,180,98)",
          "symbol": "circle"
         },
         "mode": "markers",
         "name": "Oceania",
         "orientation": "v",
         "showlegend": true,
         "type": "scatter",
         "x": [
          83.44,
          76.25,
          67.44,
          77.66,
          80.07,
          68.37,
          73.7,
          67.88,
          59.96,
          77.55,
          82.29,
          73.71,
          76.74,
          73.7,
          64.5,
          null,
          73.32,
          73,
          81.86,
          70.91,
          67.57,
          70.47,
          79.94
         ],
         "xaxis": "x",
         "y": [
          25788217,
          17572,
          902899,
          282534,
          170184,
          121388,
          59618,
          116255,
          10873,
          288217,
          5126300,
          1614,
          57910,
          18174,
          9119005,
          47,
          200144,
          703995,
          1368,
          106759,
          11925,
          314464,
          11094
         ],
         "yaxis": "y"
        }
       ],
       "layout": {
        "height": 600,
        "legend": {
         "title": {
          "text": "continent"
         },
         "tracegroupgap": 0
        },
        "template": {
         "data": {
          "bar": [
           {
            "error_x": {
             "color": "#2a3f5f"
            },
            "error_y": {
             "color": "#2a3f5f"
            },
            "marker": {
             "line": {
              "color": "#E5ECF6",
              "width": 0.5
             },
             "pattern": {
              "fillmode": "overlay",
              "size": 10,
              "solidity": 0.2
             }
            },
            "type": "bar"
           }
          ],
          "barpolar": [
           {
            "marker": {
             "line": {
              "color": "#E5ECF6",
              "width": 0.5
             },
             "pattern": {
              "fillmode": "overlay",
              "size": 10,
              "solidity": 0.2
             }
            },
            "type": "barpolar"
           }
          ],
          "carpet": [
           {
            "aaxis": {
             "endlinecolor": "#2a3f5f",
             "gridcolor": "white",
             "linecolor": "white",
             "minorgridcolor": "white",
             "startlinecolor": "#2a3f5f"
            },
            "baxis": {
             "endlinecolor": "#2a3f5f",
             "gridcolor": "white",
             "linecolor": "white",
             "minorgridcolor": "white",
             "startlinecolor": "#2a3f5f"
            },
            "type": "carpet"
           }
          ],
          "choropleth": [
           {
            "colorbar": {
             "outlinewidth": 0,
             "ticks": ""
            },
            "type": "choropleth"
           }
          ],
          "contour": [
           {
            "colorbar": {
             "outlinewidth": 0,
             "ticks": ""
            },
            "colorscale": [
             [
              0,
              "#0d0887"
             ],
             [
              0.1111111111111111,
              "#46039f"
             ],
             [
              0.2222222222222222,
              "#7201a8"
             ],
             [
              0.3333333333333333,
              "#9c179e"
             ],
             [
              0.4444444444444444,
              "#bd3786"
             ],
             [
              0.5555555555555556,
              "#d8576b"
             ],
             [
              0.6666666666666666,
              "#ed7953"
             ],
             [
              0.7777777777777778,
              "#fb9f3a"
             ],
             [
              0.8888888888888888,
              "#fdca26"
             ],
             [
              1,
              "#f0f921"
             ]
            ],
            "type": "contour"
           }
          ],
          "contourcarpet": [
           {
            "colorbar": {
             "outlinewidth": 0,
             "ticks": ""
            },
            "type": "contourcarpet"
           }
          ],
          "heatmap": [
           {
            "colorbar": {
             "outlinewidth": 0,
             "ticks": ""
            },
            "colorscale": [
             [
              0,
              "#0d0887"
             ],
             [
              0.1111111111111111,
              "#46039f"
             ],
             [
              0.2222222222222222,
              "#7201a8"
             ],
             [
              0.3333333333333333,
              "#9c179e"
             ],
             [
              0.4444444444444444,
              "#bd3786"
             ],
             [
              0.5555555555555556,
              "#d8576b"
             ],
             [
              0.6666666666666666,
              "#ed7953"
             ],
             [
              0.7777777777777778,
              "#fb9f3a"
             ],
             [
              0.8888888888888888,
              "#fdca26"
             ],
             [
              1,
              "#f0f921"
             ]
            ],
            "type": "heatmap"
           }
          ],
          "heatmapgl": [
           {
            "colorbar": {
             "outlinewidth": 0,
             "ticks": ""
            },
            "colorscale": [
             [
              0,
              "#0d0887"
             ],
             [
              0.1111111111111111,
              "#46039f"
             ],
             [
              0.2222222222222222,
              "#7201a8"
             ],
             [
              0.3333333333333333,
              "#9c179e"
             ],
             [
              0.4444444444444444,
              "#bd3786"
             ],
             [
              0.5555555555555556,
              "#d8576b"
             ],
             [
              0.6666666666666666,
              "#ed7953"
             ],
             [
              0.7777777777777778,
              "#fb9f3a"
             ],
             [
              0.8888888888888888,
              "#fdca26"
             ],
             [
              1,
              "#f0f921"
             ]
            ],
            "type": "heatmapgl"
           }
          ],
          "histogram": [
           {
            "marker": {
             "pattern": {
              "fillmode": "overlay",
              "size": 10,
              "solidity": 0.2
             }
            },
            "type": "histogram"
           }
          ],
          "histogram2d": [
           {
            "colorbar": {
             "outlinewidth": 0,
             "ticks": ""
            },
            "colorscale": [
             [
              0,
              "#0d0887"
             ],
             [
              0.1111111111111111,
              "#46039f"
             ],
             [
              0.2222222222222222,
              "#7201a8"
             ],
             [
              0.3333333333333333,
              "#9c179e"
             ],
             [
              0.4444444444444444,
              "#bd3786"
             ],
             [
              0.5555555555555556,
              "#d8576b"
             ],
             [
              0.6666666666666666,
              "#ed7953"
             ],
             [
              0.7777777777777778,
              "#fb9f3a"
             ],
             [
              0.8888888888888888,
              "#fdca26"
             ],
             [
              1,
              "#f0f921"
             ]
            ],
            "type": "histogram2d"
           }
          ],
          "histogram2dcontour": [
           {
            "colorbar": {
             "outlinewidth": 0,
             "ticks": ""
            },
            "colorscale": [
             [
              0,
              "#0d0887"
             ],
             [
              0.1111111111111111,
              "#46039f"
             ],
             [
              0.2222222222222222,
              "#7201a8"
             ],
             [
              0.3333333333333333,
              "#9c179e"
             ],
             [
              0.4444444444444444,
              "#bd3786"
             ],
             [
              0.5555555555555556,
              "#d8576b"
             ],
             [
              0.6666666666666666,
              "#ed7953"
             ],
             [
              0.7777777777777778,
              "#fb9f3a"
             ],
             [
              0.8888888888888888,
              "#fdca26"
             ],
             [
              1,
              "#f0f921"
             ]
            ],
            "type": "histogram2dcontour"
           }
          ],
          "mesh3d": [
           {
            "colorbar": {
             "outlinewidth": 0,
             "ticks": ""
            },
            "type": "mesh3d"
           }
          ],
          "parcoords": [
           {
            "line": {
             "colorbar": {
              "outlinewidth": 0,
              "ticks": ""
             }
            },
            "type": "parcoords"
           }
          ],
          "pie": [
           {
            "automargin": true,
            "type": "pie"
           }
          ],
          "scatter": [
           {
            "fillpattern": {
             "fillmode": "overlay",
             "size": 10,
             "solidity": 0.2
            },
            "type": "scatter"
           }
          ],
          "scatter3d": [
           {
            "line": {
             "colorbar": {
              "outlinewidth": 0,
              "ticks": ""
             }
            },
            "marker": {
             "colorbar": {
              "outlinewidth": 0,
              "ticks": ""
             }
            },
            "type": "scatter3d"
           }
          ],
          "scattercarpet": [
           {
            "marker": {
             "colorbar": {
              "outlinewidth": 0,
              "ticks": ""
             }
            },
            "type": "scattercarpet"
           }
          ],
          "scattergeo": [
           {
            "marker": {
             "colorbar": {
              "outlinewidth": 0,
              "ticks": ""
             }
            },
            "type": "scattergeo"
           }
          ],
          "scattergl": [
           {
            "marker": {
             "colorbar": {
              "outlinewidth": 0,
              "ticks": ""
             }
            },
            "type": "scattergl"
           }
          ],
          "scattermapbox": [
           {
            "marker": {
             "colorbar": {
              "outlinewidth": 0,
              "ticks": ""
             }
            },
            "type": "scattermapbox"
           }
          ],
          "scatterpolar": [
           {
            "marker": {
             "colorbar": {
              "outlinewidth": 0,
              "ticks": ""
             }
            },
            "type": "scatterpolar"
           }
          ],
          "scatterpolargl": [
           {
            "marker": {
             "colorbar": {
              "outlinewidth": 0,
              "ticks": ""
             }
            },
            "type": "scatterpolargl"
           }
          ],
          "scatterternary": [
           {
            "marker": {
             "colorbar": {
              "outlinewidth": 0,
              "ticks": ""
             }
            },
            "type": "scatterternary"
           }
          ],
          "surface": [
           {
            "colorbar": {
             "outlinewidth": 0,
             "ticks": ""
            },
            "colorscale": [
             [
              0,
              "#0d0887"
             ],
             [
              0.1111111111111111,
              "#46039f"
             ],
             [
              0.2222222222222222,
              "#7201a8"
             ],
             [
              0.3333333333333333,
              "#9c179e"
             ],
             [
              0.4444444444444444,
              "#bd3786"
             ],
             [
              0.5555555555555556,
              "#d8576b"
             ],
             [
              0.6666666666666666,
              "#ed7953"
             ],
             [
              0.7777777777777778,
              "#fb9f3a"
             ],
             [
              0.8888888888888888,
              "#fdca26"
             ],
             [
              1,
              "#f0f921"
             ]
            ],
            "type": "surface"
           }
          ],
          "table": [
           {
            "cells": {
             "fill": {
              "color": "#EBF0F8"
             },
             "line": {
              "color": "white"
             }
            },
            "header": {
             "fill": {
              "color": "#C8D4E3"
             },
             "line": {
              "color": "white"
             }
            },
            "type": "table"
           }
          ]
         },
         "layout": {
          "annotationdefaults": {
           "arrowcolor": "#2a3f5f",
           "arrowhead": 0,
           "arrowwidth": 1
          },
          "autotypenumbers": "strict",
          "coloraxis": {
           "colorbar": {
            "outlinewidth": 0,
            "ticks": ""
           }
          },
          "colorscale": {
           "diverging": [
            [
             0,
             "#8e0152"
            ],
            [
             0.1,
             "#c51b7d"
            ],
            [
             0.2,
             "#de77ae"
            ],
            [
             0.3,
             "#f1b6da"
            ],
            [
             0.4,
             "#fde0ef"
            ],
            [
             0.5,
             "#f7f7f7"
            ],
            [
             0.6,
             "#e6f5d0"
            ],
            [
             0.7,
             "#b8e186"
            ],
            [
             0.8,
             "#7fbc41"
            ],
            [
             0.9,
             "#4d9221"
            ],
            [
             1,
             "#276419"
            ]
           ],
           "sequential": [
            [
             0,
             "#0d0887"
            ],
            [
             0.1111111111111111,
             "#46039f"
            ],
            [
             0.2222222222222222,
             "#7201a8"
            ],
            [
             0.3333333333333333,
             "#9c179e"
            ],
            [
             0.4444444444444444,
             "#bd3786"
            ],
            [
             0.5555555555555556,
             "#d8576b"
            ],
            [
             0.6666666666666666,
             "#ed7953"
            ],
            [
             0.7777777777777778,
             "#fb9f3a"
            ],
            [
             0.8888888888888888,
             "#fdca26"
            ],
            [
             1,
             "#f0f921"
            ]
           ],
           "sequentialminus": [
            [
             0,
             "#0d0887"
            ],
            [
             0.1111111111111111,
             "#46039f"
            ],
            [
             0.2222222222222222,
             "#7201a8"
            ],
            [
             0.3333333333333333,
             "#9c179e"
            ],
            [
             0.4444444444444444,
             "#bd3786"
            ],
            [
             0.5555555555555556,
             "#d8576b"
            ],
            [
             0.6666666666666666,
             "#ed7953"
            ],
            [
             0.7777777777777778,
             "#fb9f3a"
            ],
            [
             0.8888888888888888,
             "#fdca26"
            ],
            [
             1,
             "#f0f921"
            ]
           ]
          },
          "colorway": [
           "#636efa",
           "#EF553B",
           "#00cc96",
           "#ab63fa",
           "#FFA15A",
           "#19d3f3",
           "#FF6692",
           "#B6E880",
           "#FF97FF",
           "#FECB52"
          ],
          "font": {
           "color": "#2a3f5f"
          },
          "geo": {
           "bgcolor": "white",
           "lakecolor": "white",
           "landcolor": "#E5ECF6",
           "showlakes": true,
           "showland": true,
           "subunitcolor": "white"
          },
          "hoverlabel": {
           "align": "left"
          },
          "hovermode": "closest",
          "mapbox": {
           "style": "light"
          },
          "paper_bgcolor": "white",
          "plot_bgcolor": "#E5ECF6",
          "polar": {
           "angularaxis": {
            "gridcolor": "white",
            "linecolor": "white",
            "ticks": ""
           },
           "bgcolor": "#E5ECF6",
           "radialaxis": {
            "gridcolor": "white",
            "linecolor": "white",
            "ticks": ""
           }
          },
          "scene": {
           "xaxis": {
            "backgroundcolor": "#E5ECF6",
            "gridcolor": "white",
            "gridwidth": 2,
            "linecolor": "white",
            "showbackground": true,
            "ticks": "",
            "zerolinecolor": "white"
           },
           "yaxis": {
            "backgroundcolor": "#E5ECF6",
            "gridcolor": "white",
            "gridwidth": 2,
            "linecolor": "white",
            "showbackground": true,
            "ticks": "",
            "zerolinecolor": "white"
           },
           "zaxis": {
            "backgroundcolor": "#E5ECF6",
            "gridcolor": "white",
            "gridwidth": 2,
            "linecolor": "white",
            "showbackground": true,
            "ticks": "",
            "zerolinecolor": "white"
           }
          },
          "shapedefaults": {
           "line": {
            "color": "#2a3f5f"
           }
          },
          "ternary": {
           "aaxis": {
            "gridcolor": "white",
            "linecolor": "white",
            "ticks": ""
           },
           "baxis": {
            "gridcolor": "white",
            "linecolor": "white",
            "ticks": ""
           },
           "bgcolor": "#E5ECF6",
           "caxis": {
            "gridcolor": "white",
            "linecolor": "white",
            "ticks": ""
           }
          },
          "title": {
           "x": 0.05
          },
          "xaxis": {
           "automargin": true,
           "gridcolor": "white",
           "linecolor": "white",
           "ticks": "",
           "title": {
            "standoff": 15
           },
           "zerolinecolor": "white",
           "zerolinewidth": 2
          },
          "yaxis": {
           "automargin": true,
           "gridcolor": "white",
           "linecolor": "white",
           "ticks": "",
           "title": {
            "standoff": 15
           },
           "zerolinecolor": "white",
           "zerolinewidth": 2
          }
         }
        },
        "title": {
         "text": "The relationship between population and life expectancy by continent"
        },
        "width": 1000,
        "xaxis": {
         "anchor": "y",
         "autorange": true,
         "domain": [
          0,
          1
         ],
         "range": [
          1.7134971503741483,
          1.9513365492510073
         ],
         "title": {
          "text": "Life expectancy"
         },
         "type": "log"
        },
        "yaxis": {
         "anchor": "x",
         "autorange": true,
         "domain": [
          0,
          1
         ],
         "range": [
          -96475924.2854251,
          1540692073.2854252
         ],
         "title": {
          "text": "population"
         },
         "type": "linear"
        }
       }
      },
      "image/png": "[encoded data removed]",
      "text/html": [
       "<div>                            <div id=\"9aa9b517-6506-4190-a4ea-0ea84e91eb45\" class=\"plotly-graph-div\" style=\"height:600px; width:1000px;\"></div>            <script type=\"text/javascript\">                require([\"plotly\"], function(Plotly) {                    window.PLOTLYENV=window.PLOTLYENV || {};                                    if (document.getElementById(\"9aa9b517-6506-4190-a4ea-0ea84e91eb45\")) {                    Plotly.newPlot(                        \"9aa9b517-6506-4190-a4ea-0ea84e91eb45\",                        [{\"hovertemplate\":\"continent=Asia<br>life_expectancy=%{x}<br>population=%{y}<extra></extra>\",\"legendgroup\":\"Asia\",\"marker\":{\"color\":\"rgb(141,211,199)\",\"symbol\":\"circle\"},\"mode\":\"markers\",\"name\":\"Asia\",\"orientation\":\"v\",\"showlegend\":true,\"x\":[64.83,75.09,73.0,77.29,72.59,71.78,75.86,69.82,76.91,73.77,84.86,69.66,71.72,76.68,70.6,82.97,84.63,74.53,73.6,75.49,71.45,67.92,78.93,84.24,76.16,78.92,69.87,67.13,70.78,72.27,77.86,67.27,74.05,71.23,80.23,75.13,83.62,83.03,76.98,72.7,80.46,71.1,77.15,69.5,77.69,68.19,77.97,71.72,75.4,66.12],\"xaxis\":\"x\",\"y\":[39835428.0,2968128.0,10223344.0,1748295.0,166303494.0,779900.0,441532.0,16946446.0,1444216102.0,3979773.0,7552800.0,1393409033.0,276361788.0,85028760.0,41179351.0,9291000.0,126050796.0,10269022.0,18994958.0,4328553.0,6628347.0,7379358.0,6769151.0,658391.0,32776195.0,543620.0,3329282.0,54806014.0,29674920.0,25887045.0,5223376.0,225199929.0,5222756.0,111046910.0,2930524.0,35340680.0,5453600.0,51305184.0,21497306.0,18275704.0,23855008.0,9749625.0,69950844.0,1343875.0,85042736.0,6117933.0,9991083.0,33935765.0,98168829.0,30490639.0],\"yaxis\":\"y\",\"type\":\"scatter\"},{\"hovertemplate\":\"continent=Europe<br>life_expectancy=%{x}<br>population=%{y}<extra></extra>\",\"legendgroup\":\"Europe\",\"marker\":{\"color\":\"rgb(255,255,179)\",\"symbol\":\"circle\"},\"mode\":\"markers\",\"name\":\"Europe\",\"orientation\":\"v\",\"showlegend\":true,\"x\":[78.57,83.73,81.54,74.79,81.63,77.4,75.05,78.49,80.98,79.38,80.9,78.74,80.67,81.91,82.66,81.33,79.93,82.24,null,76.88,82.99,82.3,81.4,83.51,null,75.29,82.49,75.93,82.25,82.53,71.9,86.75,76.88,82.28,75.8,82.4,78.73,82.05,76.05,72.58,84.97,76.0,77.54,81.32,83.56,82.8,83.78,72.06,81.32,75.12],\"xaxis\":\"x\",\"y\":[2872934.0,77354.0,9043072.0,9442867.0,11632334.0,3263459.0,6896655.0,4081657.0,896005.0,10724553.0,5813302.0,1325188.0,49053.0,5548361.0,67422000.0,83900471.0,33691.0,10370747.0,63385.0,9634162.0,368792.0,4982904.0,85410.0,60367471.0,101073.0,1866934.0,38254.0,2689862.0,634814.0,516100.0,4024025.0,39520.0,628051.0,17173094.0,2082661.0,5465629.0,37797000.0,10167923.0,19127772.0,145912022.0,34010.0,6871547.0,5449270.0,2078723.0,46745211.0,10160159.0,8715494.0,43466822.0,68207114.0,812.0],\"yaxis\":\"y\",\"type\":\"scatter\"},{\"hovertemplate\":\"continent=Africa<br>life_expectancy=%{x}<br>population=%{y}<extra></extra>\",\"legendgroup\":\"Africa\",\"marker\":{\"color\":\"rgb(190,186,218)\",\"symbol\":\"circle\"},\"mode\":\"markers\",\"name\":\"Africa\",\"orientation\":\"v\",\"showlegend\":true,\"x\":[76.88,61.15,61.77,69.59,61.58,61.58,59.29,72.98,53.28,54.24,64.32,64.57,57.78,60.68,67.11,71.99,58.74,66.32,60.19,66.6,66.47,62.05,64.07,61.6,58.32,66.7,54.33,64.1,72.91,67.04,64.26,59.31,64.92,74.99,76.68,60.85,63.71,62.42,54.69,69.02,80.56,70.39,67.94,73.4,54.7,57.4,64.13,57.85,65.31,65.46,61.04,76.7,63.37,70.26,63.89,61.49],\"xaxis\":\"x\",\"y\":[44616626.0,33933611.0,12451031.0,2397240.0,21497097.0,12255429.0,27224262.0,561901.0,4919987.0,16914985.0,888456.0,5657017.0,27053629.0,92377986.0,1002197.0,104258327.0,1449891.0,3601462.0,1172369.0,117876226.0,2278829.0,2486937.0,31732128.0,13497237.0,2015490.0,54985702.0,2159067.0,5180208.0,6958538.0,28427333.0,19647681.0,20855724.0,4775110.0,1273428.0,37344787.0,32163045.0,2587344.0,25130810.0,211400704.0,13276517.0,6095.0,223364.0,17196308.0,98910.0,8141343.0,16359500.0,60041996.0,11381377.0,44909351.0,61498438.0,8478242.0,11935764.0,47123533.0,611872.0,18920657.0,15092171.0],\"yaxis\":\"y\",\"type\":\"scatter\"},{\"hovertemplate\":\"continent=North America<br>life_expectancy=%{x}<br>population=%{y}<extra></extra>\",\"legendgroup\":\"North America\",\"marker\":{\"color\":\"rgb(251,128,114)\",\"symbol\":\"circle\"},\"mode\":\"markers\",\"name\":\"North America\",\"orientation\":\"v\",\"showlegend\":true,\"x\":[81.88,77.02,76.29,73.92,79.19,74.62,82.59,79.07,82.43,83.92,80.28,78.8,75.0,74.08,73.32,71.7,72.4,74.3,64.0,75.27,74.47,75.05,74.16,74.48,78.51,80.1,76.23,76.2,81.07,72.53,73.51,80.22,78.86,80.58],\"xaxis\":\"x\",\"y\":[15125.0,98728.0,107195.0,396914.0,287708.0,404915.0,62092.0,30423.0,38067913.0,66498.0,5139053.0,11317498.0,72172.0,10953714.0,6518500.0,56868.0,113015.0,18249868.0,11541683.0,10062994.0,2973462.0,130262220.0,4981.0,6702379.0,4381583.0,2828246.0,53546.0,184401.0,5771.0,111269.0,1403374.0,39226.0,332915074.0,104218.0],\"yaxis\":\"y\",\"type\":\"scatter\"},{\"hovertemplate\":\"continent=South America<br>life_expectancy=%{x}<br>population=%{y}<extra></extra>\",\"legendgroup\":\"South America\",\"marker\":{\"color\":\"rgb(128,177,211)\",\"symbol\":\"circle\"},\"mode\":\"markers\",\"name\":\"South America\",\"orientation\":\"v\",\"showlegend\":true,\"x\":[76.67,71.51,75.88,80.18,77.29,77.01,81.44,69.91,74.25,76.74,71.68,77.91,72.06],\"xaxis\":\"x\",\"y\":[45605823.0,11832936.0,213993441.0,19212362.0,51265841.0,17888474.0,3528.0,790329.0,7219641.0,33359415.0,591798.0,3485152.0,28704947.0],\"yaxis\":\"y\",\"type\":\"scatter\"},{\"hovertemplate\":\"continent=Oceania<br>life_expectancy=%{x}<br>population=%{y}<extra></extra>\",\"legendgroup\":\"Oceania\",\"marker\":{\"color\":\"rgb(253,180,98)\",\"symbol\":\"circle\"},\"mode\":\"markers\",\"name\":\"Oceania\",\"orientation\":\"v\",\"showlegend\":true,\"x\":[83.44,76.25,67.44,77.66,80.07,68.37,73.7,67.88,59.96,77.55,82.29,73.71,76.74,73.7,64.5,null,73.32,73.0,81.86,70.91,67.57,70.47,79.94],\"xaxis\":\"x\",\"y\":[25788217.0,17572.0,902899.0,282534.0,170184.0,121388.0,59618.0,116255.0,10873.0,288217.0,5126300.0,1614.0,57910.0,18174.0,9119005.0,47.0,200144.0,703995.0,1368.0,106759.0,11925.0,314464.0,11094.0],\"yaxis\":\"y\",\"type\":\"scatter\"}],                        {\"template\":{\"data\":{\"histogram2dcontour\":[{\"type\":\"histogram2dcontour\",\"colorbar\":{\"outlinewidth\":0,\"ticks\":\"\"},\"colorscale\":[[0.0,\"#0d0887\"],[0.1111111111111111,\"#46039f\"],[0.2222222222222222,\"#7201a8\"],[0.3333333333333333,\"#9c179e\"],[0.4444444444444444,\"#bd3786\"],[0.5555555555555556,\"#d8576b\"],[0.6666666666666666,\"#ed7953\"],[0.7777777777777778,\"#fb9f3a\"],[0.8888888888888888,\"#fdca26\"],[1.0,\"#f0f921\"]]}],\"choropleth\":[{\"type\":\"choropleth\",\"colorbar\":{\"outlinewidth\":0,\"ticks\":\"\"}}],\"histogram2d\":[{\"type\":\"histogram2d\",\"colorbar\":{\"outlinewidth\":0,\"ticks\":\"\"},\"colorscale\":[[0.0,\"#0d0887\"],[0.1111111111111111,\"#46039f\"],[0.2222222222222222,\"#7201a8\"],[0.3333333333333333,\"#9c179e\"],[0.4444444444444444,\"#bd3786\"],[0.5555555555555556,\"#d8576b\"],[0.6666666666666666,\"#ed7953\"],[0.7777777777777778,\"#fb9f3a\"],[0.8888888888888888,\"#fdca26\"],[1.0,\"#f0f921\"]]}],\"heatmap\":[{\"type\":\"heatmap\",\"colorbar\":{\"outlinewidth\":0,\"ticks\":\"\"},\"colorscale\":[[0.0,\"#0d0887\"],[0.1111111111111111,\"#46039f\"],[0.2222222222222222,\"#7201a8\"],[0.3333333333333333,\"#9c179e\"],[0.4444444444444444,\"#bd3786\"],[0.5555555555555556,\"#d8576b\"],[0.6666666666666666,\"#ed7953\"],[0.7777777777777778,\"#fb9f3a\"],[0.8888888888888888,\"#fdca26\"],[1.0,\"#f0f921\"]]}],\"heatmapgl\":[{\"type\":\"heatmapgl\",\"colorbar\":{\"outlinewidth\":0,\"ticks\":\"\"},\"colorscale\":[[0.0,\"#0d0887\"],[0.1111111111111111,\"#46039f\"],[0.2222222222222222,\"#7201a8\"],[0.3333333333333333,\"#9c179e\"],[0.4444444444444444,\"#bd3786\"],[0.5555555555555556,\"#d8576b\"],[0.6666666666666666,\"#ed7953\"],[0.7777777777777778,\"#fb9f3a\"],[0.8888888888888888,\"#fdca26\"],[1.0,\"#f0f921\"]]}],\"contourcarpet\":[{\"type\":\"contourcarpet\",\"colorbar\":{\"outlinewidth\":0,\"ticks\":\"\"}}],\"contour\":[{\"type\":\"contour\",\"colorbar\":{\"outlinewidth\":0,\"ticks\":\"\"},\"colorscale\":[[0.0,\"#0d0887\"],[0.1111111111111111,\"#46039f\"],[0.2222222222222222,\"#7201a8\"],[0.3333333333333333,\"#9c179e\"],[0.4444444444444444,\"#bd3786\"],[0.5555555555555556,\"#d8576b\"],[0.6666666666666666,\"#ed7953\"],[0.7777777777777778,\"#fb9f3a\"],[0.8888888888888888,\"#fdca26\"],[1.0,\"#f0f921\"]]}],\"surface\":[{\"type\":\"surface\",\"colorbar\":{\"outlinewidth\":0,\"ticks\":\"\"},\"colorscale\":[[0.0,\"#0d0887\"],[0.1111111111111111,\"#46039f\"],[0.2222222222222222,\"#7201a8\"],[0.3333333333333333,\"#9c179e\"],[0.4444444444444444,\"#bd3786\"],[0.5555555555555556,\"#d8576b\"],[0.6666666666666666,\"#ed7953\"],[0.7777777777777778,\"#fb9f3a\"],[0.8888888888888888,\"#fdca26\"],[1.0,\"#f0f921\"]]}],\"mesh3d\":[{\"type\":\"mesh3d\",\"colorbar\":{\"outlinewidth\":0,\"ticks\":\"\"}}],\"scatter\":[{\"fillpattern\":{\"fillmode\":\"overlay\",\"size\":10,\"solidity\":0.2},\"type\":\"scatter\"}],\"parcoords\":[{\"type\":\"parcoords\",\"line\":{\"colorbar\":{\"outlinewidth\":0,\"ticks\":\"\"}}}],\"scatterpolargl\":[{\"type\":\"scatterpolargl\",\"marker\":{\"colorbar\":{\"outlinewidth\":0,\"ticks\":\"\"}}}],\"bar\":[{\"error_x\":{\"color\":\"#2a3f5f\"},\"error_y\":{\"color\":\"#2a3f5f\"},\"marker\":{\"line\":{\"color\":\"#E5ECF6\",\"width\":0.5},\"pattern\":{\"fillmode\":\"overlay\",\"size\":10,\"solidity\":0.2}},\"type\":\"bar\"}],\"scattergeo\":[{\"type\":\"scattergeo\",\"marker\":{\"colorbar\":{\"outlinewidth\":0,\"ticks\":\"\"}}}],\"scatterpolar\":[{\"type\":\"scatterpolar\",\"marker\":{\"colorbar\":{\"outlinewidth\":0,\"ticks\":\"\"}}}],\"histogram\":[{\"marker\":{\"pattern\":{\"fillmode\":\"overlay\",\"size\":10,\"solidity\":0.2}},\"type\":\"histogram\"}],\"scattergl\":[{\"type\":\"scattergl\",\"marker\":{\"colorbar\":{\"outlinewidth\":0,\"ticks\":\"\"}}}],\"scatter3d\":[{\"type\":\"scatter3d\",\"line\":{\"colorbar\":{\"outlinewidth\":0,\"ticks\":\"\"}},\"marker\":{\"colorbar\":{\"outlinewidth\":0,\"ticks\":\"\"}}}],\"scattermapbox\":[{\"type\":\"scattermapbox\",\"marker\":{\"colorbar\":{\"outlinewidth\":0,\"ticks\":\"\"}}}],\"scatterternary\":[{\"type\":\"scatterternary\",\"marker\":{\"colorbar\":{\"outlinewidth\":0,\"ticks\":\"\"}}}],\"scattercarpet\":[{\"type\":\"scattercarpet\",\"marker\":{\"colorbar\":{\"outlinewidth\":0,\"ticks\":\"\"}}}],\"carpet\":[{\"aaxis\":{\"endlinecolor\":\"#2a3f5f\",\"gridcolor\":\"white\",\"linecolor\":\"white\",\"minorgridcolor\":\"white\",\"startlinecolor\":\"#2a3f5f\"},\"baxis\":{\"endlinecolor\":\"#2a3f5f\",\"gridcolor\":\"white\",\"linecolor\":\"white\",\"minorgridcolor\":\"white\",\"startlinecolor\":\"#2a3f5f\"},\"type\":\"carpet\"}],\"table\":[{\"cells\":{\"fill\":{\"color\":\"#EBF0F8\"},\"line\":{\"color\":\"white\"}},\"header\":{\"fill\":{\"color\":\"#C8D4E3\"},\"line\":{\"color\":\"white\"}},\"type\":\"table\"}],\"barpolar\":[{\"marker\":{\"line\":{\"color\":\"#E5ECF6\",\"width\":0.5},\"pattern\":{\"fillmode\":\"overlay\",\"size\":10,\"solidity\":0.2}},\"type\":\"barpolar\"}],\"pie\":[{\"automargin\":true,\"type\":\"pie\"}]},\"layout\":{\"autotypenumbers\":\"strict\",\"colorway\":[\"#636efa\",\"#EF553B\",\"#00cc96\",\"#ab63fa\",\"#FFA15A\",\"#19d3f3\",\"#FF6692\",\"#B6E880\",\"#FF97FF\",\"#FECB52\"],\"font\":{\"color\":\"#2a3f5f\"},\"hovermode\":\"closest\",\"hoverlabel\":{\"align\":\"left\"},\"paper_bgcolor\":\"white\",\"plot_bgcolor\":\"#E5ECF6\",\"polar\":{\"bgcolor\":\"#E5ECF6\",\"angularaxis\":{\"gridcolor\":\"white\",\"linecolor\":\"white\",\"ticks\":\"\"},\"radialaxis\":{\"gridcolor\":\"white\",\"linecolor\":\"white\",\"ticks\":\"\"}},\"ternary\":{\"bgcolor\":\"#E5ECF6\",\"aaxis\":{\"gridcolor\":\"white\",\"linecolor\":\"white\",\"ticks\":\"\"},\"baxis\":{\"gridcolor\":\"white\",\"linecolor\":\"white\",\"ticks\":\"\"},\"caxis\":{\"gridcolor\":\"white\",\"linecolor\":\"white\",\"ticks\":\"\"}},\"coloraxis\":{\"colorbar\":{\"outlinewidth\":0,\"ticks\":\"\"}},\"colorscale\":{\"sequential\":[[0.0,\"#0d0887\"],[0.1111111111111111,\"#46039f\"],[0.2222222222222222,\"#7201a8\"],[0.3333333333333333,\"#9c179e\"],[0.4444444444444444,\"#bd3786\"],[0.5555555555555556,\"#d8576b\"],[0.6666666666666666,\"#ed7953\"],[0.7777777777777778,\"#fb9f3a\"],[0.8888888888888888,\"#fdca26\"],[1.0,\"#f0f921\"]],\"sequentialminus\":[[0.0,\"#0d0887\"],[0.1111111111111111,\"#46039f\"],[0.2222222222222222,\"#7201a8\"],[0.3333333333333333,\"#9c179e\"],[0.4444444444444444,\"#bd3786\"],[0.5555555555555556,\"#d8576b\"],[0.6666666666666666,\"#ed7953\"],[0.7777777777777778,\"#fb9f3a\"],[0.8888888888888888,\"#fdca26\"],[1.0,\"#f0f921\"]],\"diverging\":[[0,\"#8e0152\"],[0.1,\"#c51b7d\"],[0.2,\"#de77ae\"],[0.3,\"#f1b6da\"],[0.4,\"#fde0ef\"],[0.5,\"#f7f7f7\"],[0.6,\"#e6f5d0\"],[0.7,\"#b8e186\"],[0.8,\"#7fbc41\"],[0.9,\"#4d9221\"],[1,\"#276419\"]]},\"xaxis\":{\"gridcolor\":\"white\",\"linecolor\":\"white\",\"ticks\":\"\",\"title\":{\"standoff\":15},\"zerolinecolor\":\"white\",\"automargin\":true,\"zerolinewidth\":2},\"yaxis\":{\"gridcolor\":\"white\",\"linecolor\":\"white\",\"ticks\":\"\",\"title\":{\"standoff\":15},\"zerolinecolor\":\"white\",\"automargin\":true,\"zerolinewidth\":2},\"scene\":{\"xaxis\":{\"backgroundcolor\":\"#E5ECF6\",\"gridcolor\":\"white\",\"linecolor\":\"white\",\"showbackground\":true,\"ticks\":\"\",\"zerolinecolor\":\"white\",\"gridwidth\":2},\"yaxis\":{\"backgroundcolor\":\"#E5ECF6\",\"gridcolor\":\"white\",\"linecolor\":\"white\",\"showbackground\":true,\"ticks\":\"\",\"zerolinecolor\":\"white\",\"gridwidth\":2},\"zaxis\":{\"backgroundcolor\":\"#E5ECF6\",\"gridcolor\":\"white\",\"linecolor\":\"white\",\"showbackground\":true,\"ticks\":\"\",\"zerolinecolor\":\"white\",\"gridwidth\":2}},\"shapedefaults\":{\"line\":{\"color\":\"#2a3f5f\"}},\"annotationdefaults\":{\"arrowcolor\":\"#2a3f5f\",\"arrowhead\":0,\"arrowwidth\":1},\"geo\":{\"bgcolor\":\"white\",\"landcolor\":\"#E5ECF6\",\"subunitcolor\":\"white\",\"showland\":true,\"showlakes\":true,\"lakecolor\":\"white\"},\"title\":{\"x\":0.05},\"mapbox\":{\"style\":\"light\"}}},\"xaxis\":{\"anchor\":\"y\",\"domain\":[0.0,1.0],\"title\":{\"text\":\"Life expectancy\"},\"type\":\"log\"},\"yaxis\":{\"anchor\":\"x\",\"domain\":[0.0,1.0],\"title\":{\"text\":\"population\"}},\"legend\":{\"title\":{\"text\":\"continent\"},\"tracegroupgap\":0},\"title\":{\"text\":\"The relationship between population and life expectancy by continent\"},\"height\":600,\"width\":1000},                        {\"responsive\": true}                    ).then(function(){\n",
       "                            \n",
       "var gd = document.getElementById('9aa9b517-6506-4190-a4ea-0ea84e91eb45');\n",
       "var x = new MutationObserver(function (mutations, observer) {{\n",
       "        var display = window.getComputedStyle(gd).display;\n",
       "        if (!display || display === 'none') {{\n",
       "            console.log([gd, 'removed!']);\n",
       "            Plotly.purge(gd);\n",
       "            observer.disconnect();\n",
       "        }}\n",
       "}});\n",
       "\n",
       "// Listen for the removal of the full notebook cells\n",
       "var notebookContainer = gd.closest('#notebook-container');\n",
       "if (notebookContainer) {{\n",
       "    x.observe(notebookContainer, {childList: true});\n",
       "}}\n",
       "\n",
       "// Listen for the clearing of the current output cell\n",
       "var outputEl = gd.closest('.output');\n",
       "if (outputEl) {{\n",
       "    x.observe(outputEl, {childList: true});\n",
       "}}\n",
       "\n",
       "                        })                };                });            </script>        </div>"
      ]
     },
     "metadata": {},
     "output_type": "display_data"
    }
   ],
   "source": [
    "fig = px.scatter(df_filtered3,\n",
    "                 x='life_expectancy',\n",
    "                 y='population',\n",
    "                 color='continent',  # Kolorowanie według kontynentu\n",
    "                 size_max=50,\n",
    "                 title='The relationship between population and life expectancy by continent',\n",
    "                 color_discrete_sequence=px.colors.qualitative.Set3, \n",
    "                 log_x = True,\n",
    "                 width = 1000,\n",
    "                 height = 600\n",
    "                 )\n",
    "\n",
    "fig.update_xaxes(type='log', title='Life expectancy')\n",
    "fig.update_layout(xaxis=dict(type='log'))\n",
    "\n",
    "fig.show()"
   ]
  },
  {
   "cell_type": "markdown",
   "metadata": {
    "id": "Ey9zAxUtQnP5"
   },
   "source": [
    "## Chart 3"
   ]
  },
  {
   "cell_type": "code",
   "execution_count": 46,
   "metadata": {
    "executionInfo": {
     "elapsed": 262,
     "status": "ok",
     "timestamp": 1708256065946,
     "user": {
      "displayName": "Astarte",
      "userId": "15697340223878132473"
     },
     "user_tz": -60
    },
    "id": "VijTLbTNQun9",
    "tags": []
   },
   "outputs": [],
   "source": [
    "df_filtered4 = df[df['location'].isin(['United States','Poland'])]"
   ]
  },
  {
   "cell_type": "code",
   "execution_count": 160,
   "metadata": {
    "colab": {
     "base_uri": "https://localhost:8080/",
     "height": 542
    },
    "executionInfo": {
     "elapsed": 3,
     "status": "ok",
     "timestamp": 1708256067423,
     "user": {
      "displayName": "Astarte",
      "userId": "15697340223878132473"
     },
     "user_tz": -60
    },
    "id": "wL-cW5uBRX5B",
    "outputId": "cac08684-7b66-4cbc-d7ff-368c5dff5ae5",
    "tags": []
   },
   "outputs": [
    {
     "data": {
      "application/vnd.plotly.v1+json": {
       "config": {
        "plotlyServerURL": "https://plot.ly"
       },
       "data": [
        {
         "hovertemplate": "location=Poland<br>date=%{x}<br>new_cases=%{y}<extra></extra>",
         "legendgroup": "Poland",
         "line": {
          "color": "rgb(102, 197, 204)",
          "dash": "solid"
         },
         "marker": {
          "symbol": "circle"
         },
         "mode": "lines",
         "name": "Poland",
         "showlegend": true,
         "type": "scattergl",
         "x": [
          "2020-03-04",
          "2020-03-05",
          "2020-03-06",
          "2020-03-07",
          "2020-03-08",
          "2020-03-09",
          "2020-03-10",
          "2020-03-11",
          "2020-03-12",
          "2020-03-13",
          "2020-03-14",
          "2020-03-15",
          "2020-03-16",
          "2020-03-17",
          "2020-03-18",
          "2020-03-19",
          "2020-03-20",
          "2020-03-21",
          "2020-03-22",
          "2020-03-23",
          "2020-03-24",
          "2020-03-25",
          "2020-03-26",
          "2020-03-27",
          "2020-03-28",
          "2020-03-29",
          "2020-03-30",
          "2020-03-31",
          "2020-04-01",
          "2020-04-02",
          "2020-04-03",
          "2020-04-04",
          "2020-04-05",
          "2020-04-06",
          "2020-04-07",
          "2020-04-08",
          "2020-04-09",
          "2020-04-10",
          "2020-04-11",
          "2020-04-12",
          "2020-04-13",
          "2020-04-14",
          "2020-04-15",
          "2020-04-16",
          "2020-04-17",
          "2020-04-18",
          "2020-04-19",
          "2020-04-20",
          "2020-04-21",
          "2020-04-22",
          "2020-04-23",
          "2020-04-24",
          "2020-04-25",
          "2020-04-26",
          "2020-04-27",
          "2020-04-28",
          "2020-04-29",
          "2020-04-30",
          "2020-05-01",
          "2020-05-02",
          "2020-05-03",
          "2020-05-04",
          "2020-05-05",
          "2020-05-06",
          "2020-05-07",
          "2020-05-08",
          "2020-05-09",
          "2020-05-10",
          "2020-05-11",
          "2020-05-12",
          "2020-05-13",
          "2020-05-14",
          "2020-05-15",
          "2020-05-16",
          "2020-05-17",
          "2020-05-18",
          "2020-05-19",
          "2020-05-20",
          "2020-05-21",
          "2020-05-22",
          "2020-05-23",
          "2020-05-24",
          "2020-05-25",
          "2020-05-26",
          "2020-05-27",
          "2020-05-28",
          "2020-05-29",
          "2020-05-30",
          "2020-05-31",
          "2020-06-01",
          "2020-06-02",
          "2020-06-03",
          "2020-06-04",
          "2020-06-05",
          "2020-06-06",
          "2020-06-07",
          "2020-06-08",
          "2020-06-09",
          "2020-06-10",
          "2020-06-11",
          "2020-06-12",
          "2020-06-13",
          "2020-06-14",
          "2020-06-15",
          "2020-06-16",
          "2020-06-17",
          "2020-06-18",
          "2020-06-19",
          "2020-06-20",
          "2020-06-21",
          "2020-06-22",
          "2020-06-23",
          "2020-06-24",
          "2020-06-25",
          "2020-06-26",
          "2020-06-27",
          "2020-06-28",
          "2020-06-29",
          "2020-06-30",
          "2020-07-01",
          "2020-07-02",
          "2020-07-03",
          "2020-07-04",
          "2020-07-05",
          "2020-07-06",
          "2020-07-07",
          "2020-07-08",
          "2020-07-09",
          "2020-07-10",
          "2020-07-11",
          "2020-07-12",
          "2020-07-13",
          "2020-07-14",
          "2020-07-15",
          "2020-07-16",
          "2020-07-17",
          "2020-07-18",
          "2020-07-19",
          "2020-07-20",
          "2020-07-21",
          "2020-07-22",
          "2020-07-23",
          "2020-07-24",
          "2020-07-25",
          "2020-07-26",
          "2020-07-27",
          "2020-07-28",
          "2020-07-29",
          "2020-07-30",
          "2020-07-31",
          "2020-08-01",
          "2020-08-02",
          "2020-08-03",
          "2020-08-04",
          "2020-08-05",
          "2020-08-06",
          "2020-08-07",
          "2020-08-08",
          "2020-08-09",
          "2020-08-10",
          "2020-08-11",
          "2020-08-12",
          "2020-08-13",
          "2020-08-14",
          "2020-08-15",
          "2020-08-16",
          "2020-08-17",
          "2020-08-18",
          "2020-08-19",
          "2020-08-20",
          "2020-08-21",
          "2020-08-22",
          "2020-08-23",
          "2020-08-24",
          "2020-08-25",
          "2020-08-26",
          "2020-08-27",
          "2020-08-28",
          "2020-08-29",
          "2020-08-30",
          "2020-08-31",
          "2020-09-01",
          "2020-09-02",
          "2020-09-03",
          "2020-09-04",
          "2020-09-05",
          "2020-09-06",
          "2020-09-07",
          "2020-09-08",
          "2020-09-09",
          "2020-09-10",
          "2020-09-11",
          "2020-09-12",
          "2020-09-13",
          "2020-09-14",
          "2020-09-15",
          "2020-09-16",
          "2020-09-17",
          "2020-09-18",
          "2020-09-19",
          "2020-09-20",
          "2020-09-21",
          "2020-09-22",
          "2020-09-23",
          "2020-09-24",
          "2020-09-25",
          "2020-09-26",
          "2020-09-27",
          "2020-09-28",
          "2020-09-29",
          "2020-09-30",
          "2020-10-01",
          "2020-10-02",
          "2020-10-03",
          "2020-10-04",
          "2020-10-05",
          "2020-10-06",
          "2020-10-07",
          "2020-10-08",
          "2020-10-09",
          "2020-10-10",
          "2020-10-11",
          "2020-10-12",
          "2020-10-13",
          "2020-10-14",
          "2020-10-15",
          "2020-10-16",
          "2020-10-17",
          "2020-10-18",
          "2020-10-19",
          "2020-10-20",
          "2020-10-21",
          "2020-10-22",
          "2020-10-23",
          "2020-10-24",
          "2020-10-25",
          "2020-10-26",
          "2020-10-27",
          "2020-10-28",
          "2020-10-29",
          "2020-10-30",
          "2020-10-31",
          "2020-11-01",
          "2020-11-02",
          "2020-11-03",
          "2020-11-04",
          "2020-11-05",
          "2020-11-06",
          "2020-11-07",
          "2020-11-08",
          "2020-11-09",
          "2020-11-10",
          "2020-11-11",
          "2020-11-12",
          "2020-11-13",
          "2020-11-14",
          "2020-11-15",
          "2020-11-16",
          "2020-11-17",
          "2020-11-18",
          "2020-11-19",
          "2020-11-20",
          "2020-11-21",
          "2020-11-22",
          "2020-11-23",
          "2020-11-24",
          "2020-11-25",
          "2020-11-26",
          "2020-11-27",
          "2020-11-28",
          "2020-11-29",
          "2020-11-30",
          "2020-12-01",
          "2020-12-02",
          "2020-12-03",
          "2020-12-04",
          "2020-12-05",
          "2020-12-06",
          "2020-12-07",
          "2020-12-08",
          "2020-12-09",
          "2020-12-10",
          "2020-12-11",
          "2020-12-12",
          "2020-12-13",
          "2020-12-14",
          "2020-12-15",
          "2020-12-16",
          "2020-12-17",
          "2020-12-18",
          "2020-12-19",
          "2020-12-20",
          "2020-12-21",
          "2020-12-22",
          "2020-12-23",
          "2020-12-24",
          "2020-12-25",
          "2020-12-26",
          "2020-12-27",
          "2020-12-28",
          "2020-12-29",
          "2020-12-30",
          "2020-12-31",
          "2021-01-01",
          "2021-01-02",
          "2021-01-03",
          "2021-01-04",
          "2021-01-05",
          "2021-01-06",
          "2021-01-07",
          "2021-01-08",
          "2021-01-09",
          "2021-01-10",
          "2021-01-11",
          "2021-01-12",
          "2021-01-13",
          "2021-01-14",
          "2021-01-15",
          "2021-01-16",
          "2021-01-17",
          "2021-01-18",
          "2021-01-19",
          "2021-01-20",
          "2021-01-21",
          "2021-01-22",
          "2021-01-23",
          "2021-01-24",
          "2021-01-25",
          "2021-01-26",
          "2021-01-27",
          "2021-01-28",
          "2021-01-29",
          "2021-01-30",
          "2021-01-31",
          "2021-02-01",
          "2021-02-02",
          "2021-02-03",
          "2021-02-04",
          "2021-02-05",
          "2021-02-06",
          "2021-02-07",
          "2021-02-08",
          "2021-02-09",
          "2021-02-10",
          "2021-02-11",
          "2021-02-12",
          "2021-02-13",
          "2021-02-14",
          "2021-02-15",
          "2021-02-16",
          "2021-02-17",
          "2021-02-18",
          "2021-02-19",
          "2021-02-20",
          "2021-02-21",
          "2021-02-22",
          "2021-02-23",
          "2021-02-24",
          "2021-02-25",
          "2021-02-26",
          "2021-02-27",
          "2021-02-28",
          "2021-03-01",
          "2021-03-02",
          "2021-03-03",
          "2021-03-04",
          "2021-03-05",
          "2021-03-06",
          "2021-03-07",
          "2021-03-08",
          "2021-03-09",
          "2021-03-10",
          "2021-03-11",
          "2021-03-12",
          "2021-03-13",
          "2021-03-14",
          "2021-03-15",
          "2021-03-16",
          "2021-03-17",
          "2021-03-18",
          "2021-03-19",
          "2021-03-20",
          "2021-03-21",
          "2021-03-22",
          "2021-03-23",
          "2021-03-24",
          "2021-03-25",
          "2021-03-26",
          "2021-03-27",
          "2021-03-28",
          "2021-03-29",
          "2021-03-30",
          "2021-03-31",
          "2021-04-01",
          "2021-04-02",
          "2021-04-03",
          "2021-04-04",
          "2021-04-05",
          "2021-04-06",
          "2021-04-07",
          "2021-04-08",
          "2021-04-09",
          "2021-04-10",
          "2021-04-11",
          "2021-04-12",
          "2021-04-13",
          "2021-04-14",
          "2021-04-15",
          "2021-04-16",
          "2021-04-17",
          "2021-04-18",
          "2021-04-19",
          "2021-04-20",
          "2021-04-21",
          "2021-04-22",
          "2021-04-23",
          "2021-04-24",
          "2021-04-25",
          "2021-04-26",
          "2021-04-27",
          "2021-04-28",
          "2021-04-29",
          "2021-04-30",
          "2021-05-01",
          "2021-05-02",
          "2021-05-03",
          "2021-05-04",
          "2021-05-05",
          "2021-05-06",
          "2021-05-07",
          "2021-05-08",
          "2021-05-09",
          "2021-05-10",
          "2021-05-11",
          "2021-05-12",
          "2021-05-13",
          "2021-05-14",
          "2021-05-15",
          "2021-05-16",
          "2021-05-17",
          "2021-05-18",
          "2021-05-19",
          "2021-05-20",
          "2021-05-21",
          "2021-05-22",
          "2021-05-23",
          "2021-05-24",
          "2021-05-25",
          "2021-05-26",
          "2021-05-27",
          "2021-05-28",
          "2021-05-29",
          "2021-05-30",
          "2021-05-31",
          "2021-06-01",
          "2021-06-02",
          "2021-06-03",
          "2021-06-04",
          "2021-06-05",
          "2021-06-06",
          "2021-06-07",
          "2021-06-08",
          "2021-06-09",
          "2021-06-10",
          "2021-06-11",
          "2021-06-12",
          "2021-06-13",
          "2021-06-14",
          "2021-06-15",
          "2021-06-16",
          "2021-06-17",
          "2021-06-18",
          "2021-06-19",
          "2021-06-20",
          "2021-06-21",
          "2021-06-22",
          "2021-06-23",
          "2021-06-24",
          "2021-06-25",
          "2021-06-26",
          "2021-06-27",
          "2021-06-28",
          "2021-06-29",
          "2021-06-30",
          "2021-07-01",
          "2021-07-02",
          "2021-07-03",
          "2021-07-04",
          "2021-07-05",
          "2021-07-06",
          "2021-07-07",
          "2021-07-08",
          "2021-07-09",
          "2021-07-10",
          "2021-07-11",
          "2021-07-12",
          "2021-07-13",
          "2021-07-14",
          "2021-07-15",
          "2021-07-16",
          "2021-07-17",
          "2021-07-18",
          "2021-07-19",
          "2021-07-20",
          "2021-07-21",
          "2021-07-22",
          "2021-07-23",
          "2021-07-24",
          "2021-07-25",
          "2021-07-26",
          "2021-07-27",
          "2021-07-28",
          "2021-07-29",
          "2021-07-30",
          "2021-07-31",
          "2021-08-01",
          "2021-08-02",
          "2021-08-03",
          "2021-08-04",
          "2021-08-05",
          "2021-08-06",
          "2021-08-07",
          "2021-08-08",
          "2021-08-09",
          "2021-08-10",
          "2021-08-11",
          "2021-08-12",
          "2021-08-13",
          "2021-08-14",
          "2021-08-15",
          "2021-08-16",
          "2021-08-17",
          "2021-08-18",
          "2021-08-19",
          "2021-08-20",
          "2021-08-21",
          "2021-08-22",
          "2021-08-23",
          "2021-08-24",
          "2021-08-25",
          "2021-08-26",
          "2021-08-27",
          "2021-08-28",
          "2021-08-29",
          "2021-08-30",
          "2021-08-31",
          "2021-09-01",
          "2021-09-02",
          "2021-09-03",
          "2021-09-04",
          "2021-09-05",
          "2021-09-06",
          "2021-09-07",
          "2021-09-08",
          "2021-09-09",
          "2021-09-10",
          "2021-09-11",
          "2021-09-12",
          "2021-09-13",
          "2021-09-14",
          "2021-09-15",
          "2021-09-16",
          "2021-09-17",
          "2021-09-18",
          "2021-09-19",
          "2021-09-20",
          "2021-09-21",
          "2021-09-22",
          "2021-09-23",
          "2021-09-24",
          "2021-09-25",
          "2021-09-26",
          "2021-09-27",
          "2021-09-28",
          "2021-09-29",
          "2021-09-30",
          "2021-10-01",
          "2021-10-02",
          "2021-10-03",
          "2021-10-04",
          "2021-10-05",
          "2021-10-06",
          "2021-10-07",
          "2021-10-08",
          "2021-10-09",
          "2021-10-10",
          "2021-10-11",
          "2021-10-12",
          "2021-10-13",
          "2021-10-14",
          "2021-10-15",
          "2021-10-16",
          "2021-10-17",
          "2021-10-18",
          "2021-10-19",
          "2021-10-20",
          "2021-10-21",
          "2021-10-22",
          "2021-10-23",
          "2021-10-24",
          "2021-10-25",
          "2021-10-26",
          "2021-10-27",
          "2021-10-28",
          "2021-10-29",
          "2021-10-30",
          "2021-10-31",
          "2021-11-01",
          "2021-11-02",
          "2021-11-03",
          "2021-11-04",
          "2021-11-05",
          "2021-11-06",
          "2021-11-07",
          "2021-11-08",
          "2021-11-09",
          "2021-11-10",
          "2021-11-11",
          "2021-11-12",
          "2021-11-13",
          "2021-11-14",
          "2021-11-15",
          "2021-11-16",
          "2021-11-17",
          "2021-11-18",
          "2021-11-19",
          "2021-11-20",
          "2021-11-21",
          "2021-11-22",
          "2021-11-23",
          "2021-11-24",
          "2021-11-25",
          "2021-11-26",
          "2021-11-27",
          "2021-11-28",
          "2021-11-29",
          "2021-11-30",
          "2021-12-01",
          "2021-12-02",
          "2021-12-03",
          "2021-12-04",
          "2021-12-05",
          "2021-12-06",
          "2021-12-07",
          "2021-12-08",
          "2021-12-09",
          "2021-12-10",
          "2021-12-11",
          "2021-12-12",
          "2021-12-13",
          "2021-12-14",
          "2021-12-15",
          "2021-12-16",
          "2021-12-17",
          "2021-12-18",
          "2021-12-19",
          "2021-12-20",
          "2021-12-21",
          "2021-12-22",
          "2021-12-23",
          "2021-12-24",
          "2021-12-25",
          "2021-12-26",
          "2021-12-27",
          "2021-12-28",
          "2021-12-29",
          "2021-12-30",
          "2021-12-31",
          "2022-01-01",
          "2022-01-02",
          "2022-01-03",
          "2022-01-04",
          "2022-01-05",
          "2022-01-06",
          "2022-01-07",
          "2022-01-08",
          "2022-01-09",
          "2022-01-10",
          "2022-01-11",
          "2022-01-12",
          "2022-01-13",
          "2022-01-14",
          "2022-01-15",
          "2022-01-16",
          "2022-01-17",
          "2022-01-18",
          "2022-01-19",
          "2022-01-20",
          "2022-01-21",
          "2022-01-22",
          "2022-01-23",
          "2022-01-24",
          "2022-01-25",
          "2022-01-26",
          "2022-01-27",
          "2022-01-28",
          "2022-01-29",
          "2022-01-30",
          "2022-01-31",
          "2022-02-01",
          "2022-02-02",
          "2022-02-03",
          "2022-02-04",
          "2022-02-05",
          "2022-02-06",
          "2022-02-07",
          "2022-02-08",
          "2022-02-09",
          "2022-02-10",
          "2022-02-11",
          "2022-02-12",
          "2022-02-13",
          "2022-02-14",
          "2022-02-15",
          "2022-02-16",
          "2022-02-17",
          "2022-02-18",
          "2022-02-19",
          "2022-02-20",
          "2022-02-21",
          "2022-02-22",
          "2022-02-23",
          "2022-02-24",
          "2022-02-25",
          "2022-02-26",
          "2022-02-27",
          "2022-02-28",
          "2022-03-01",
          "2022-03-02",
          "2022-03-03",
          "2022-03-04",
          "2022-03-05",
          "2022-03-06",
          "2022-03-07",
          "2022-03-08",
          "2022-03-09",
          "2022-03-10",
          "2022-03-11",
          "2022-03-12",
          "2022-03-13",
          "2022-03-14",
          "2022-03-15",
          "2022-03-16",
          "2022-03-17",
          "2022-03-18",
          "2022-03-19",
          "2022-03-20",
          "2022-03-21",
          "2022-03-22",
          "2022-03-23",
          "2022-03-24",
          "2022-03-25",
          "2022-03-26",
          "2022-03-27",
          "2022-03-28",
          "2022-03-29",
          "2022-03-30",
          "2022-03-31",
          "2022-04-01",
          "2022-04-02",
          "2022-04-03",
          "2022-04-04",
          "2022-04-05",
          "2022-04-06",
          "2022-04-07",
          "2022-04-08",
          "2022-04-09",
          "2022-04-10",
          "2022-04-11",
          "2022-04-12",
          "2022-04-13",
          "2022-04-14",
          "2022-04-15",
          "2022-04-16",
          "2022-04-17",
          "2022-04-18",
          "2022-04-19",
          "2022-04-20",
          "2022-04-21",
          "2022-04-22",
          "2022-04-23",
          "2022-04-24",
          "2022-04-25",
          "2022-04-26",
          "2022-04-27",
          "2022-04-28",
          "2022-04-29",
          "2022-04-30",
          "2022-05-01",
          "2022-05-02",
          "2022-05-03",
          "2022-05-04",
          "2022-05-05",
          "2022-05-06",
          "2022-05-07",
          "2022-05-08",
          "2022-05-09",
          "2022-05-10",
          "2022-05-11",
          "2022-05-12",
          "2022-05-13",
          "2022-05-14",
          "2022-05-15",
          "2022-05-16",
          "2022-05-17",
          "2022-05-18",
          "2022-05-19",
          "2022-05-20",
          "2022-05-21",
          "2022-05-22",
          "2022-05-23",
          "2022-05-24",
          "2022-05-25",
          "2022-05-26",
          "2022-05-27",
          "2022-05-28",
          "2022-05-29",
          "2022-05-30",
          "2022-05-31",
          "2022-06-01",
          "2022-06-02",
          "2022-06-03",
          "2022-06-04",
          "2022-06-05",
          "2022-06-06",
          "2022-06-07",
          "2022-06-08",
          "2022-06-09",
          "2022-06-10",
          "2022-06-11",
          "2022-06-12",
          "2022-06-13",
          "2022-06-14",
          "2022-06-15",
          "2022-06-16",
          "2022-06-17",
          "2022-06-18"
         ],
         "xaxis": "x",
         "y": [
          1,
          0,
          4,
          0,
          6,
          5,
          6,
          9,
          18,
          19,
          35,
          16,
          58,
          61,
          13,
          104,
          70,
          111,
          98,
          115,
          152,
          150,
          170,
          168,
          249,
          224,
          193,
          256,
          243,
          392,
          437,
          244,
          475,
          311,
          435,
          357,
          370,
          380,
          401,
          318,
          260,
          268,
          380,
          336,
          461,
          363,
          545,
          306,
          263,
          313,
          342,
          381,
          381,
          344,
          285,
          316,
          422,
          237,
          228,
          270,
          318,
          313,
          425,
          309,
          307,
          319,
          285,
          345,
          330,
          595,
          283,
          411,
          401,
          241,
          272,
          356,
          383,
          471,
          404,
          476,
          312,
          395,
          305,
          443,
          399,
          352,
          330,
          416,
          215,
          379,
          230,
          292,
          361,
          362,
          576,
          575,
          599,
          400,
          282,
          359,
          376,
          440,
          375,
          396,
          407,
          506,
          314,
          301,
          304,
          311,
          296,
          300,
          294,
          298,
          276,
          319,
          193,
          247,
          239,
          382,
          371,
          259,
          314,
          231,
          205,
          257,
          277,
          262,
          265,
          305,
          370,
          299,
          267,
          264,
          333,
          353,
          339,
          358,
          279,
          399,
          380,
          418,
          458,
          584,
          443,
          337,
          502,
          512,
          615,
          657,
          658,
          548,
          575,
          680,
          640,
          726,
          809,
          843,
          624,
          619,
          551,
          715,
          811,
          832,
          771,
          594,
          595,
          597,
          735,
          767,
          903,
          900,
          581,
          548,
          763,
          729,
          887,
          791,
          759,
          631,
          502,
          550,
          595,
          612,
          691,
          567,
          437,
          302,
          400,
          421,
          506,
          594,
          603,
          502,
          377,
          605,
          600,
          837,
          757,
          1002,
          910,
          748,
          711,
          974,
          1136,
          1587,
          1584,
          1350,
          1306,
          1326,
          1552,
          1967,
          2292,
          2367,
          1934,
          2006,
          2236,
          3003,
          4280,
          4739,
          5300,
          4178,
          4394,
          5068,
          6526,
          8099,
          7705,
          9622,
          8536,
          7482,
          9291,
          10040,
          12107,
          13632,
          13628,
          11742,
          10241,
          16300,
          18820,
          20156,
          21629,
          21897,
          17171,
          15578,
          19364,
          24692,
          27143,
          27086,
          27875,
          24785,
          21713,
          25454,
          25221,
          22683,
          24051,
          25571,
          21854,
          20816,
          19152,
          19883,
          23975,
          22464,
          24213,
          17856,
          15002,
          32733,
          15356,
          16690,
          17304,
          15177,
          11482,
          5736,
          9113,
          13823,
          14863,
          13236,
          12427,
          9176,
          4421,
          8310,
          12166,
          13750,
          13105,
          11499,
          8976,
          4896,
          6874,
          12455,
          11953,
          11010,
          11246,
          8590,
          4633,
          7192,
          12358,
          13115,
          9081,
          4878,
          3842,
          3211,
          7624,
          12780,
          13464,
          10896,
          7006,
          5782,
          4385,
          7596,
          14220,
          12119,
          8763,
          10744,
          9133,
          4863,
          5394,
          9126,
          9457,
          7958,
          7292,
          5970,
          3332,
          4890,
          6943,
          7008,
          6693,
          6431,
          4566,
          2674,
          4603,
          6790,
          7153,
          6145,
          5864,
          4711,
          2504,
          4326,
          6801,
          6495,
          6053,
          5966,
          4725,
          2431,
          3999,
          6960,
          7013,
          6378,
          6585,
          5334,
          2542,
          5176,
          8699,
          9074,
          8772,
          8509,
          7040,
          3891,
          6304,
          12147,
          12143,
          11536,
          12097,
          10101,
          4786,
          7936,
          15698,
          15253,
          15831,
          14855,
          13569,
          6169,
          9953,
          17277,
          21111,
          18873,
          21063,
          17272,
          10895,
          14394,
          25053,
          27274,
          25996,
          26456,
          21850,
          14579,
          16740,
          30802,
          34150,
          35145,
          31759,
          29266,
          16973,
          20862,
          32891,
          35253,
          30541,
          28073,
          22958,
          9921,
          8246,
          14908,
          27890,
          28499,
          24892,
          21733,
          12016,
          13203,
          21266,
          21126,
          17846,
          15786,
          12151,
          7302,
          9244,
          13922,
          12763,
          10866,
          9510,
          7224,
          3467,
          5711,
          8893,
          8426,
          6789,
          6475,
          4616,
          2523,
          2296,
          3899,
          6427,
          6047,
          4771,
          3856,
          2031,
          3097,
          4159,
          3423,
          3252,
          2897,
          2168,
          1111,
          1734,
          2337,
          2090,
          1680,
          1515,
          1076,
          559,
          1006,
          1263,
          1202,
          943,
          776,
          579,
          333,
          585,
          659,
          565,
          319,
          413,
          312,
          192,
          401,
          560,
          378,
          340,
          236,
          226,
          139,
          211,
          242,
          215,
          190,
          168,
          133,
          73,
          190,
          162,
          144,
          134,
          99,
          69,
          51,
          122,
          101,
          98,
          97,
          108,
          55,
          38,
          95,
          100,
          93,
          74,
          85,
          66,
          44,
          94,
          87,
          105,
          90,
          114,
          69,
          67,
          103,
          124,
          122,
          108,
          118,
          80,
          74,
          107,
          138,
          165,
          156,
          153,
          90,
          91,
          164,
          164,
          176,
          172,
          180,
          122,
          64,
          199,
          196,
          223,
          194,
          211,
          148,
          128,
          215,
          207,
          196,
          212,
          222,
          185,
          107,
          232,
          233,
          215,
          254,
          289,
          203,
          154,
          285,
          366,
          376,
          361,
          388,
          323,
          182,
          405,
          531,
          511,
          529,
          531,
          476,
          270,
          536,
          768,
          724,
          652,
          796,
          540,
          364,
          709,
          880,
          974,
          812,
          917,
          643,
          421,
          976,
          1235,
          1205,
          1361,
          1344,
          1090,
          683,
          1327,
          2086,
          2007,
          1894,
          2011,
          1527,
          903,
          2121,
          2640,
          2999,
          2770,
          3235,
          2521,
          1536,
          3930,
          5560,
          5591,
          5716,
          6277,
          4727,
          2953,
          6263,
          8366,
          8382,
          9403,
          9806,
          7147,
          4904,
          4517,
          10434,
          15511,
          15905,
          15195,
          12507,
          7314,
          13645,
          18546,
          19079,
          12965,
          14298,
          14448,
          9508,
          16611,
          24241,
          24912,
          23259,
          23418,
          18924,
          12375,
          19935,
          28431,
          28143,
          26794,
          26188,
          20574,
          13133,
          19100,
          29076,
          27354,
          26961,
          25575,
          22394,
          13250,
          19369,
          28549,
          27459,
          24988,
          23762,
          19450,
          11377,
          17460,
          24264,
          22096,
          20027,
          19392,
          15976,
          9610,
          13807,
          18013,
          17150,
          15376,
          10789,
          6253,
          5027,
          9850,
          15567,
          14326,
          13607,
          12033,
          7180,
          6423,
          11667,
          17197,
          16577,
          11901,
          10897,
          11107,
          7787,
          11402,
          16173,
          16874,
          16049,
          16893,
          14661,
          10446,
          19648,
          30588,
          32835,
          36664,
          40878,
          34123,
          29097,
          37045,
          53416,
          57659,
          57265,
          51690,
          48287,
          33477,
          39116,
          56051,
          54475,
          47536,
          45748,
          34700,
          24404,
          35323,
          46856,
          42087,
          35774,
          31327,
          22064,
          13473,
          22255,
          28855,
          29234,
          23979,
          20891,
          13687,
          9457,
          18771,
          20463,
          18266,
          16700,
          13950,
          8897,
          6561,
          12980,
          14733,
          14060,
          12489,
          12725,
          7698,
          5583,
          13176,
          14440,
          13425,
          11633,
          11113,
          7578,
          5295,
          12690,
          14475,
          12267,
          11658,
          10374,
          5694,
          4164,
          10159,
          10425,
          8988,
          8231,
          6628,
          3492,
          2367,
          6606,
          5740,
          4991,
          4039,
          2101,
          550,
          493,
          1884,
          1559,
          1483,
          1324,
          1409,
          442,
          381,
          1624,
          1266,
          1178,
          1200,
          1076,
          311,
          266,
          301,
          1523,
          1177,
          1096,
          1239,
          344,
          267,
          1356,
          1041,
          957,
          856,
          840,
          234,
          187,
          890,
          173,
          911,
          608,
          700,
          199,
          184,
          727,
          566,
          501,
          469,
          434,
          139,
          95,
          510,
          386,
          359,
          315,
          335,
          95,
          65,
          419,
          283,
          249,
          262,
          264,
          83,
          82,
          346,
          256,
          219,
          236,
          255,
          62,
          53,
          338,
          202,
          274,
          247,
          263,
          56,
          45,
          321,
          232,
          228,
          48,
          255
         ],
         "yaxis": "y"
        },
        {
         "hovertemplate": "location=United States<br>date=%{x}<br>new_cases=%{y}<extra></extra>",
         "legendgroup": "United States",
         "line": {
          "color": "rgb(246, 207, 113)",
          "dash": "solid"
         },
         "marker": {
          "symbol": "circle"
         },
         "mode": "lines",
         "name": "United States",
         "showlegend": true,
         "type": "scattergl",
         "x": [
          "2020-01-22",
          "2020-01-23",
          "2020-01-24",
          "2020-01-25",
          "2020-01-26",
          "2020-01-27",
          "2020-01-28",
          "2020-01-29",
          "2020-01-30",
          "2020-01-31",
          "2020-02-01",
          "2020-02-02",
          "2020-02-03",
          "2020-02-04",
          "2020-02-05",
          "2020-02-06",
          "2020-02-07",
          "2020-02-08",
          "2020-02-09",
          "2020-02-10",
          "2020-02-11",
          "2020-02-12",
          "2020-02-13",
          "2020-02-14",
          "2020-02-15",
          "2020-02-16",
          "2020-02-17",
          "2020-02-18",
          "2020-02-19",
          "2020-02-20",
          "2020-02-21",
          "2020-02-22",
          "2020-02-23",
          "2020-02-24",
          "2020-02-25",
          "2020-02-26",
          "2020-02-27",
          "2020-02-28",
          "2020-02-29",
          "2020-03-01",
          "2020-03-02",
          "2020-03-03",
          "2020-03-04",
          "2020-03-05",
          "2020-03-06",
          "2020-03-07",
          "2020-03-08",
          "2020-03-09",
          "2020-03-10",
          "2020-03-11",
          "2020-03-12",
          "2020-03-13",
          "2020-03-14",
          "2020-03-15",
          "2020-03-16",
          "2020-03-17",
          "2020-03-18",
          "2020-03-19",
          "2020-03-20",
          "2020-03-21",
          "2020-03-22",
          "2020-03-23",
          "2020-03-24",
          "2020-03-25",
          "2020-03-26",
          "2020-03-27",
          "2020-03-28",
          "2020-03-29",
          "2020-03-30",
          "2020-03-31",
          "2020-04-01",
          "2020-04-02",
          "2020-04-03",
          "2020-04-04",
          "2020-04-05",
          "2020-04-06",
          "2020-04-07",
          "2020-04-08",
          "2020-04-09",
          "2020-04-10",
          "2020-04-11",
          "2020-04-12",
          "2020-04-13",
          "2020-04-14",
          "2020-04-15",
          "2020-04-16",
          "2020-04-17",
          "2020-04-18",
          "2020-04-19",
          "2020-04-20",
          "2020-04-21",
          "2020-04-22",
          "2020-04-23",
          "2020-04-24",
          "2020-04-25",
          "2020-04-26",
          "2020-04-27",
          "2020-04-28",
          "2020-04-29",
          "2020-04-30",
          "2020-05-01",
          "2020-05-02",
          "2020-05-03",
          "2020-05-04",
          "2020-05-05",
          "2020-05-06",
          "2020-05-07",
          "2020-05-08",
          "2020-05-09",
          "2020-05-10",
          "2020-05-11",
          "2020-05-12",
          "2020-05-13",
          "2020-05-14",
          "2020-05-15",
          "2020-05-16",
          "2020-05-17",
          "2020-05-18",
          "2020-05-19",
          "2020-05-20",
          "2020-05-21",
          "2020-05-22",
          "2020-05-23",
          "2020-05-24",
          "2020-05-25",
          "2020-05-26",
          "2020-05-27",
          "2020-05-28",
          "2020-05-29",
          "2020-05-30",
          "2020-05-31",
          "2020-06-01",
          "2020-06-02",
          "2020-06-03",
          "2020-06-04",
          "2020-06-05",
          "2020-06-06",
          "2020-06-07",
          "2020-06-08",
          "2020-06-09",
          "2020-06-10",
          "2020-06-11",
          "2020-06-12",
          "2020-06-13",
          "2020-06-14",
          "2020-06-15",
          "2020-06-16",
          "2020-06-17",
          "2020-06-18",
          "2020-06-19",
          "2020-06-20",
          "2020-06-21",
          "2020-06-22",
          "2020-06-23",
          "2020-06-24",
          "2020-06-25",
          "2020-06-26",
          "2020-06-27",
          "2020-06-28",
          "2020-06-29",
          "2020-06-30",
          "2020-07-01",
          "2020-07-02",
          "2020-07-03",
          "2020-07-04",
          "2020-07-05",
          "2020-07-06",
          "2020-07-07",
          "2020-07-08",
          "2020-07-09",
          "2020-07-10",
          "2020-07-11",
          "2020-07-12",
          "2020-07-13",
          "2020-07-14",
          "2020-07-15",
          "2020-07-16",
          "2020-07-17",
          "2020-07-18",
          "2020-07-19",
          "2020-07-20",
          "2020-07-21",
          "2020-07-22",
          "2020-07-23",
          "2020-07-24",
          "2020-07-25",
          "2020-07-26",
          "2020-07-27",
          "2020-07-28",
          "2020-07-29",
          "2020-07-30",
          "2020-07-31",
          "2020-08-01",
          "2020-08-02",
          "2020-08-03",
          "2020-08-04",
          "2020-08-05",
          "2020-08-06",
          "2020-08-07",
          "2020-08-08",
          "2020-08-09",
          "2020-08-10",
          "2020-08-11",
          "2020-08-12",
          "2020-08-13",
          "2020-08-14",
          "2020-08-15",
          "2020-08-16",
          "2020-08-17",
          "2020-08-18",
          "2020-08-19",
          "2020-08-20",
          "2020-08-21",
          "2020-08-22",
          "2020-08-23",
          "2020-08-24",
          "2020-08-25",
          "2020-08-26",
          "2020-08-27",
          "2020-08-28",
          "2020-08-29",
          "2020-08-30",
          "2020-08-31",
          "2020-09-01",
          "2020-09-02",
          "2020-09-03",
          "2020-09-04",
          "2020-09-05",
          "2020-09-06",
          "2020-09-07",
          "2020-09-08",
          "2020-09-09",
          "2020-09-10",
          "2020-09-11",
          "2020-09-12",
          "2020-09-13",
          "2020-09-14",
          "2020-09-15",
          "2020-09-16",
          "2020-09-17",
          "2020-09-18",
          "2020-09-19",
          "2020-09-20",
          "2020-09-21",
          "2020-09-22",
          "2020-09-23",
          "2020-09-24",
          "2020-09-25",
          "2020-09-26",
          "2020-09-27",
          "2020-09-28",
          "2020-09-29",
          "2020-09-30",
          "2020-10-01",
          "2020-10-02",
          "2020-10-03",
          "2020-10-04",
          "2020-10-05",
          "2020-10-06",
          "2020-10-07",
          "2020-10-08",
          "2020-10-09",
          "2020-10-10",
          "2020-10-11",
          "2020-10-12",
          "2020-10-13",
          "2020-10-14",
          "2020-10-15",
          "2020-10-16",
          "2020-10-17",
          "2020-10-18",
          "2020-10-19",
          "2020-10-20",
          "2020-10-21",
          "2020-10-22",
          "2020-10-23",
          "2020-10-24",
          "2020-10-25",
          "2020-10-26",
          "2020-10-27",
          "2020-10-28",
          "2020-10-29",
          "2020-10-30",
          "2020-10-31",
          "2020-11-01",
          "2020-11-02",
          "2020-11-03",
          "2020-11-04",
          "2020-11-05",
          "2020-11-06",
          "2020-11-07",
          "2020-11-08",
          "2020-11-09",
          "2020-11-10",
          "2020-11-11",
          "2020-11-12",
          "2020-11-13",
          "2020-11-14",
          "2020-11-15",
          "2020-11-16",
          "2020-11-17",
          "2020-11-18",
          "2020-11-19",
          "2020-11-20",
          "2020-11-21",
          "2020-11-22",
          "2020-11-23",
          "2020-11-24",
          "2020-11-25",
          "2020-11-26",
          "2020-11-27",
          "2020-11-28",
          "2020-11-29",
          "2020-11-30",
          "2020-12-01",
          "2020-12-02",
          "2020-12-03",
          "2020-12-04",
          "2020-12-05",
          "2020-12-06",
          "2020-12-07",
          "2020-12-08",
          "2020-12-09",
          "2020-12-10",
          "2020-12-11",
          "2020-12-12",
          "2020-12-13",
          "2020-12-14",
          "2020-12-15",
          "2020-12-16",
          "2020-12-17",
          "2020-12-18",
          "2020-12-19",
          "2020-12-20",
          "2020-12-21",
          "2020-12-22",
          "2020-12-23",
          "2020-12-24",
          "2020-12-25",
          "2020-12-26",
          "2020-12-27",
          "2020-12-28",
          "2020-12-29",
          "2020-12-30",
          "2020-12-31",
          "2021-01-01",
          "2021-01-02",
          "2021-01-03",
          "2021-01-04",
          "2021-01-05",
          "2021-01-06",
          "2021-01-07",
          "2021-01-08",
          "2021-01-09",
          "2021-01-10",
          "2021-01-11",
          "2021-01-12",
          "2021-01-13",
          "2021-01-14",
          "2021-01-15",
          "2021-01-16",
          "2021-01-17",
          "2021-01-18",
          "2021-01-19",
          "2021-01-20",
          "2021-01-21",
          "2021-01-22",
          "2021-01-23",
          "2021-01-24",
          "2021-01-25",
          "2021-01-26",
          "2021-01-27",
          "2021-01-28",
          "2021-01-29",
          "2021-01-30",
          "2021-01-31",
          "2021-02-01",
          "2021-02-02",
          "2021-02-03",
          "2021-02-04",
          "2021-02-05",
          "2021-02-06",
          "2021-02-07",
          "2021-02-08",
          "2021-02-09",
          "2021-02-10",
          "2021-02-11",
          "2021-02-12",
          "2021-02-13",
          "2021-02-14",
          "2021-02-15",
          "2021-02-16",
          "2021-02-17",
          "2021-02-18",
          "2021-02-19",
          "2021-02-20",
          "2021-02-21",
          "2021-02-22",
          "2021-02-23",
          "2021-02-24",
          "2021-02-25",
          "2021-02-26",
          "2021-02-27",
          "2021-02-28",
          "2021-03-01",
          "2021-03-02",
          "2021-03-03",
          "2021-03-04",
          "2021-03-05",
          "2021-03-06",
          "2021-03-07",
          "2021-03-08",
          "2021-03-09",
          "2021-03-10",
          "2021-03-11",
          "2021-03-12",
          "2021-03-13",
          "2021-03-14",
          "2021-03-15",
          "2021-03-16",
          "2021-03-17",
          "2021-03-18",
          "2021-03-19",
          "2021-03-20",
          "2021-03-21",
          "2021-03-22",
          "2021-03-23",
          "2021-03-24",
          "2021-03-25",
          "2021-03-26",
          "2021-03-27",
          "2021-03-28",
          "2021-03-29",
          "2021-03-30",
          "2021-03-31",
          "2021-04-01",
          "2021-04-02",
          "2021-04-03",
          "2021-04-04",
          "2021-04-05",
          "2021-04-06",
          "2021-04-07",
          "2021-04-08",
          "2021-04-09",
          "2021-04-10",
          "2021-04-11",
          "2021-04-12",
          "2021-04-13",
          "2021-04-14",
          "2021-04-15",
          "2021-04-16",
          "2021-04-17",
          "2021-04-18",
          "2021-04-19",
          "2021-04-20",
          "2021-04-21",
          "2021-04-22",
          "2021-04-23",
          "2021-04-24",
          "2021-04-25",
          "2021-04-26",
          "2021-04-27",
          "2021-04-28",
          "2021-04-29",
          "2021-04-30",
          "2021-05-01",
          "2021-05-02",
          "2021-05-03",
          "2021-05-04",
          "2021-05-05",
          "2021-05-06",
          "2021-05-07",
          "2021-05-08",
          "2021-05-09",
          "2021-05-10",
          "2021-05-11",
          "2021-05-12",
          "2021-05-13",
          "2021-05-14",
          "2021-05-15",
          "2021-05-16",
          "2021-05-17",
          "2021-05-18",
          "2021-05-19",
          "2021-05-20",
          "2021-05-21",
          "2021-05-22",
          "2021-05-23",
          "2021-05-24",
          "2021-05-25",
          "2021-05-26",
          "2021-05-27",
          "2021-05-28",
          "2021-05-29",
          "2021-05-30",
          "2021-05-31",
          "2021-06-01",
          "2021-06-02",
          "2021-06-03",
          "2021-06-04",
          "2021-06-05",
          "2021-06-06",
          "2021-06-07",
          "2021-06-08",
          "2021-06-09",
          "2021-06-10",
          "2021-06-11",
          "2021-06-12",
          "2021-06-13",
          "2021-06-14",
          "2021-06-15",
          "2021-06-16",
          "2021-06-17",
          "2021-06-18",
          "2021-06-19",
          "2021-06-20",
          "2021-06-21",
          "2021-06-22",
          "2021-06-23",
          "2021-06-24",
          "2021-06-25",
          "2021-06-26",
          "2021-06-27",
          "2021-06-28",
          "2021-06-29",
          "2021-06-30",
          "2021-07-01",
          "2021-07-02",
          "2021-07-03",
          "2021-07-04",
          "2021-07-05",
          "2021-07-06",
          "2021-07-07",
          "2021-07-08",
          "2021-07-09",
          "2021-07-10",
          "2021-07-11",
          "2021-07-12",
          "2021-07-13",
          "2021-07-14",
          "2021-07-15",
          "2021-07-16",
          "2021-07-17",
          "2021-07-18",
          "2021-07-19",
          "2021-07-20",
          "2021-07-21",
          "2021-07-22",
          "2021-07-23",
          "2021-07-24",
          "2021-07-25",
          "2021-07-26",
          "2021-07-27",
          "2021-07-28",
          "2021-07-29",
          "2021-07-30",
          "2021-07-31",
          "2021-08-01",
          "2021-08-02",
          "2021-08-03",
          "2021-08-04",
          "2021-08-05",
          "2021-08-06",
          "2021-08-07",
          "2021-08-08",
          "2021-08-09",
          "2021-08-10",
          "2021-08-11",
          "2021-08-12",
          "2021-08-13",
          "2021-08-14",
          "2021-08-15",
          "2021-08-16",
          "2021-08-17",
          "2021-08-18",
          "2021-08-19",
          "2021-08-20",
          "2021-08-21",
          "2021-08-22",
          "2021-08-23",
          "2021-08-24",
          "2021-08-25",
          "2021-08-26",
          "2021-08-27",
          "2021-08-28",
          "2021-08-29",
          "2021-08-30",
          "2021-08-31",
          "2021-09-01",
          "2021-09-02",
          "2021-09-03",
          "2021-09-04",
          "2021-09-05",
          "2021-09-06",
          "2021-09-07",
          "2021-09-08",
          "2021-09-09",
          "2021-09-10",
          "2021-09-11",
          "2021-09-12",
          "2021-09-13",
          "2021-09-14",
          "2021-09-15",
          "2021-09-16",
          "2021-09-17",
          "2021-09-18",
          "2021-09-19",
          "2021-09-20",
          "2021-09-21",
          "2021-09-22",
          "2021-09-23",
          "2021-09-24",
          "2021-09-25",
          "2021-09-26",
          "2021-09-27",
          "2021-09-28",
          "2021-09-29",
          "2021-09-30",
          "2021-10-01",
          "2021-10-02",
          "2021-10-03",
          "2021-10-04",
          "2021-10-05",
          "2021-10-06",
          "2021-10-07",
          "2021-10-08",
          "2021-10-09",
          "2021-10-10",
          "2021-10-11",
          "2021-10-12",
          "2021-10-13",
          "2021-10-14",
          "2021-10-15",
          "2021-10-16",
          "2021-10-17",
          "2021-10-18",
          "2021-10-19",
          "2021-10-20",
          "2021-10-21",
          "2021-10-22",
          "2021-10-23",
          "2021-10-24",
          "2021-10-25",
          "2021-10-26",
          "2021-10-27",
          "2021-10-28",
          "2021-10-29",
          "2021-10-30",
          "2021-10-31",
          "2021-11-01",
          "2021-11-02",
          "2021-11-03",
          "2021-11-04",
          "2021-11-05",
          "2021-11-06",
          "2021-11-07",
          "2021-11-08",
          "2021-11-09",
          "2021-11-10",
          "2021-11-11",
          "2021-11-12",
          "2021-11-13",
          "2021-11-14",
          "2021-11-15",
          "2021-11-16",
          "2021-11-17",
          "2021-11-18",
          "2021-11-19",
          "2021-11-20",
          "2021-11-21",
          "2021-11-22",
          "2021-11-23",
          "2021-11-24",
          "2021-11-25",
          "2021-11-26",
          "2021-11-27",
          "2021-11-28",
          "2021-11-29",
          "2021-11-30",
          "2021-12-01",
          "2021-12-02",
          "2021-12-03",
          "2021-12-04",
          "2021-12-05",
          "2021-12-06",
          "2021-12-07",
          "2021-12-08",
          "2021-12-09",
          "2021-12-10",
          "2021-12-11",
          "2021-12-12",
          "2021-12-13",
          "2021-12-14",
          "2021-12-15",
          "2021-12-16",
          "2021-12-17",
          "2021-12-18",
          "2021-12-19",
          "2021-12-20",
          "2021-12-21",
          "2021-12-22",
          "2021-12-23",
          "2021-12-24",
          "2021-12-25",
          "2021-12-26",
          "2021-12-27",
          "2021-12-28",
          "2021-12-29",
          "2021-12-30",
          "2021-12-31",
          "2022-01-01",
          "2022-01-02",
          "2022-01-03",
          "2022-01-04",
          "2022-01-05",
          "2022-01-06",
          "2022-01-07",
          "2022-01-08",
          "2022-01-09",
          "2022-01-10",
          "2022-01-11",
          "2022-01-12",
          "2022-01-13",
          "2022-01-14",
          "2022-01-15",
          "2022-01-16",
          "2022-01-17",
          "2022-01-18",
          "2022-01-19",
          "2022-01-20",
          "2022-01-21",
          "2022-01-22",
          "2022-01-23",
          "2022-01-24",
          "2022-01-25",
          "2022-01-26",
          "2022-01-27",
          "2022-01-28",
          "2022-01-29",
          "2022-01-30",
          "2022-01-31",
          "2022-02-01",
          "2022-02-02",
          "2022-02-03",
          "2022-02-04",
          "2022-02-05",
          "2022-02-06",
          "2022-02-07",
          "2022-02-08",
          "2022-02-09",
          "2022-02-10",
          "2022-02-11",
          "2022-02-12",
          "2022-02-13",
          "2022-02-14",
          "2022-02-15",
          "2022-02-16",
          "2022-02-17",
          "2022-02-18",
          "2022-02-19",
          "2022-02-20",
          "2022-02-21",
          "2022-02-22",
          "2022-02-23",
          "2022-02-24",
          "2022-02-25",
          "2022-02-26",
          "2022-02-27",
          "2022-02-28",
          "2022-03-01",
          "2022-03-02",
          "2022-03-03",
          "2022-03-04",
          "2022-03-05",
          "2022-03-06",
          "2022-03-07",
          "2022-03-08",
          "2022-03-09",
          "2022-03-10",
          "2022-03-11",
          "2022-03-12",
          "2022-03-13",
          "2022-03-14",
          "2022-03-15",
          "2022-03-16",
          "2022-03-17",
          "2022-03-18",
          "2022-03-19",
          "2022-03-20",
          "2022-03-21",
          "2022-03-22",
          "2022-03-23",
          "2022-03-24",
          "2022-03-25",
          "2022-03-26",
          "2022-03-27",
          "2022-03-28",
          "2022-03-29",
          "2022-03-30",
          "2022-03-31",
          "2022-04-01",
          "2022-04-02",
          "2022-04-03",
          "2022-04-04",
          "2022-04-05",
          "2022-04-06",
          "2022-04-07",
          "2022-04-08",
          "2022-04-09",
          "2022-04-10",
          "2022-04-11",
          "2022-04-12",
          "2022-04-13",
          "2022-04-14",
          "2022-04-15",
          "2022-04-16",
          "2022-04-17",
          "2022-04-18",
          "2022-04-19",
          "2022-04-20",
          "2022-04-21",
          "2022-04-22",
          "2022-04-23",
          "2022-04-24",
          "2022-04-25",
          "2022-04-26",
          "2022-04-27",
          "2022-04-28",
          "2022-04-29",
          "2022-04-30",
          "2022-05-01",
          "2022-05-02",
          "2022-05-03",
          "2022-05-04",
          "2022-05-05",
          "2022-05-06",
          "2022-05-07",
          "2022-05-08",
          "2022-05-09",
          "2022-05-10",
          "2022-05-11",
          "2022-05-12",
          "2022-05-13",
          "2022-05-14",
          "2022-05-15",
          "2022-05-16",
          "2022-05-17",
          "2022-05-18",
          "2022-05-19",
          "2022-05-20",
          "2022-05-21",
          "2022-05-22",
          "2022-05-23",
          "2022-05-24",
          "2022-05-25",
          "2022-05-26",
          "2022-05-27",
          "2022-05-28",
          "2022-05-29",
          "2022-05-30",
          "2022-05-31",
          "2022-06-01",
          "2022-06-02",
          "2022-06-03",
          "2022-06-04",
          "2022-06-05",
          "2022-06-06",
          "2022-06-07",
          "2022-06-08",
          "2022-06-09",
          "2022-06-10",
          "2022-06-11",
          "2022-06-12",
          "2022-06-13",
          "2022-06-14",
          "2022-06-15",
          "2022-06-16",
          "2022-06-17",
          "2022-06-18"
         ],
         "xaxis": "x",
         "y": [
          null,
          0,
          1,
          0,
          3,
          0,
          0,
          1,
          0,
          2,
          0,
          0,
          3,
          0,
          0,
          1,
          0,
          0,
          0,
          0,
          1,
          0,
          1,
          0,
          0,
          0,
          0,
          0,
          0,
          0,
          2,
          0,
          0,
          0,
          0,
          0,
          1,
          0,
          8,
          7,
          23,
          19,
          33,
          77,
          53,
          166,
          116,
          75,
          188,
          365,
          439,
          633,
          759,
          234,
          1467,
          1833,
          2657,
          4494,
          6367,
          5995,
          8919,
          11152,
          10618,
          12127,
          17821,
          18591,
          22164,
          16127,
          22154,
          26381,
          31175,
          32276,
          32401,
          31845,
          29240,
          31782,
          30036,
          31063,
          35610,
          34283,
          28924,
          26308,
          27143,
          28328,
          25897,
          29638,
          33107,
          27329,
          25422,
          30084,
          26075,
          29881,
          31965,
          31965,
          30914,
          25971,
          24650,
          24573,
          26852,
          29702,
          34892,
          26764,
          23733,
          23802,
          24019,
          24482,
          27739,
          27183,
          24454,
          18747,
          19077,
          23382,
          20015,
          25890,
          24851,
          24050,
          18729,
          22308,
          20503,
          22826,
          25152,
          23829,
          20189,
          20174,
          19094,
          18726,
          18763,
          21267,
          25082,
          23080,
          18919,
          17840,
          20090,
          19156,
          27934,
          26440,
          20269,
          17826,
          16900,
          20321,
          21718,
          22278,
          25558,
          24157,
          18901,
          20999,
          24549,
          27050,
          28227,
          31054,
          31826,
          25836,
          29801,
          38729,
          36251,
          39299,
          49046,
          40754,
          42925,
          41295,
          49824,
          49123,
          54943,
          51504,
          45946,
          53728,
          43165,
          57231,
          60306,
          59656,
          68859,
          60439,
          60132,
          59364,
          65662,
          66026,
          70814,
          66472,
          64322,
          58932,
          60663,
          68194,
          67545,
          67886,
          75147,
          64200,
          55839,
          59724,
          64830,
          64128,
          69241,
          64576,
          57578,
          47109,
          41684,
          61657,
          54348,
          60180,
          60587,
          63933,
          54267,
          51617,
          56955,
          55244,
          51656,
          70125,
          52395,
          34662,
          37849,
          44902,
          45884,
          45128,
          47591,
          45673,
          31911,
          33923,
          42673,
          42073,
          50518,
          46470,
          43103,
          34131,
          33362,
          41978,
          39961,
          45141,
          48334,
          43623,
          29119,
          24563,
          26744,
          33638,
          39448,
          44623,
          45583,
          40291,
          32564,
          37178,
          38292,
          45319,
          50184,
          45778,
          41610,
          32043,
          38271,
          41120,
          48883,
          47136,
          43547,
          33779,
          37740,
          42033,
          38631,
          46244,
          53443,
          49281,
          33131,
          37357,
          44545,
          49137,
          57890,
          55079,
          55366,
          46900,
          42080,
          50123,
          58442,
          63537,
          70174,
          54832,
          52170,
          67882,
          61737,
          60706,
          79622,
          81660,
          78375,
          60975,
          64564,
          77223,
          86477,
          91293,
          99849,
          87343,
          77830,
          81807,
          124766,
          100262,
          128081,
          127056,
          127064,
          119673,
          116956,
          136552,
          147682,
          158796,
          179518,
          164050,
          139715,
          153088,
          164647,
          171969,
          192301,
          201669,
          179820,
          146587,
          181512,
          173562,
          180212,
          117251,
          214634,
          168224,
          140352,
          154914,
          197116,
          196163,
          220222,
          235370,
          222010,
          179324,
          195460,
          227057,
          216007,
          236944,
          238902,
          224535,
          191597,
          209828,
          226315,
          234804,
          240246,
          247946,
          205851,
          187195,
          196858,
          205930,
          221441,
          212948,
          127178,
          217440,
          135961,
          173302,
          205972,
          218297,
          315088,
          178902,
          272279,
          203401,
          185502,
          232863,
          259761,
          286244,
          304066,
          264738,
          210843,
          203964,
          221813,
          229330,
          235578,
          244998,
          217689,
          176554,
          140828,
          156895,
          187382,
          192553,
          191775,
          178175,
          140144,
          129600,
          151008,
          155456,
          166760,
          163743,
          150940,
          112858,
          125314,
          117030,
          124372,
          125029,
          131111,
          116860,
          89429,
          82799,
          95381,
          95283,
          106772,
          100580,
          90758,
          68308,
          55448,
          59222,
          68845,
          72580,
          75158,
          73783,
          55265,
          55483,
          73860,
          75025,
          77279,
          75420,
          71289,
          51764,
          50440,
          58418,
          67051,
          68943,
          67879,
          61031,
          41611,
          44092,
          55503,
          57772,
          61790,
          62603,
          56820,
          39274,
          51033,
          54067,
          59274,
          62390,
          61632,
          58867,
          35378,
          47424,
          52858,
          87757,
          67627,
          76371,
          64055,
          46320,
          65872,
          61690,
          69530,
          76856,
          74024,
          64880,
          37923,
          67087,
          62826,
          75777,
          80066,
          84753,
          70535,
          47456,
          62183,
          80841,
          75604,
          73982,
          83473,
          55487,
          43829,
          58546,
          62440,
          64346,
          66719,
          62895,
          54972,
          34769,
          42287,
          52282,
          55186,
          58826,
          58102,
          48776,
          30556,
          44622,
          42895,
          46043,
          46179,
          48415,
          35655,
          22870,
          32376,
          35478,
          36151,
          38736,
          42217,
          30757,
          17692,
          25243,
          28915,
          29605,
          30217,
          28825,
          21213,
          13784,
          21872,
          24590,
          24596,
          26841,
          22242,
          13311,
          7354,
          6275,
          20853,
          16713,
          18396,
          17865,
          15604,
          6016,
          14070,
          13039,
          18565,
          14781,
          25151,
          9160,
          5270,
          11786,
          10729,
          11908,
          11763,
          21182,
          9052,
          4956,
          10554,
          10796,
          12665,
          14476,
          24603,
          9369,
          4622,
          13583,
          7477,
          15351,
          15120,
          29757,
          5414,
          4285,
          8902,
          22282,
          20176,
          20865,
          47592,
          10119,
          11747,
          29423,
          26531,
          31125,
          31961,
          78109,
          14102,
          20329,
          48843,
          39726,
          47736,
          56526,
          120802,
          28744,
          27972,
          79372,
          65003,
          73576,
          72545,
          191445,
          43891,
          44569,
          108360,
          97754,
          102446,
          109687,
          251896,
          63006,
          34876,
          159787,
          117801,
          154452,
          144086,
          226806,
          73067,
          46788,
          194355,
          150591,
          167602,
          155221,
          239074,
          92196,
          44203,
          208225,
          154460,
          178982,
          183771,
          238672,
          78889,
          52011,
          229214,
          179961,
          190517,
          179135,
          235444,
          85908,
          63505,
          93739,
          209170,
          176927,
          166418,
          242009,
          89131,
          48352,
          210779,
          145404,
          173253,
          158777,
          210862,
          74973,
          44871,
          171802,
          121738,
          131352,
          129169,
          174766,
          60495,
          54317,
          155946,
          112752,
          121389,
          110386,
          154830,
          48205,
          44778,
          142915,
          95233,
          112173,
          101526,
          131415,
          38827,
          39670,
          96064,
          110606,
          108464,
          86947,
          109480,
          39784,
          31657,
          98951,
          81917,
          91620,
          78082,
          95952,
          32420,
          19170,
          112572,
          66657,
          102563,
          75096,
          95106,
          34295,
          32326,
          113254,
          68748,
          85594,
          81438,
          96858,
          34861,
          36828,
          110750,
          78359,
          95070,
          57644,
          143511,
          43952,
          31912,
          134036,
          87271,
          112847,
          109827,
          126875,
          45361,
          39832,
          144616,
          91345,
          111580,
          39319,
          53421,
          26539,
          43149,
          186293,
          117105,
          137114,
          138851,
          158612,
          66341,
          55184,
          177686,
          113260,
          149912,
          124531,
          158210,
          56588,
          52309,
          185486,
          112821,
          145846,
          141731,
          192654,
          79760,
          89199,
          240041,
          179413,
          243742,
          269760,
          248520,
          86655,
          178387,
          500568,
          362033,
          502107,
          590698,
          513620,
          188763,
          285957,
          1044955,
          812218,
          662605,
          835022,
          869760,
          397694,
          485025,
          1383898,
          787395,
          848637,
          861345,
          880060,
          408314,
          479802,
          675132,
          1129513,
          908127,
          732597,
          841088,
          302500,
          365446,
          922152,
          493085,
          624058,
          506258,
          614074,
          178619,
          197961,
          542240,
          325409,
          329538,
          274803,
          354969,
          86429,
          83476,
          346437,
          214368,
          188406,
          171409,
          209315,
          51865,
          58321,
          170180,
          111170,
          114817,
          101689,
          145170,
          31407,
          23004,
          82887,
          89332,
          85136,
          67071,
          74372,
          47412,
          18220,
          98914,
          46707,
          53402,
          48608,
          51260,
          14920,
          12395,
          64080,
          29754,
          37699,
          46577,
          49709,
          10218,
          11050,
          35384,
          24375,
          46129,
          53172,
          31360,
          10879,
          11451,
          42274,
          24562,
          41013,
          42994,
          46435,
          9434,
          11790,
          38970,
          24181,
          39182,
          45633,
          32218,
          11806,
          4755,
          28904,
          25603,
          40947,
          50635,
          75022,
          12712,
          9531,
          40341,
          35737,
          55386,
          50658,
          35442,
          12335,
          7504,
          61387,
          39259,
          68937,
          61695,
          90052,
          19729,
          13488,
          70202,
          45349,
          90014,
          77353,
          61189,
          23979,
          16702,
          94704,
          49589,
          112024,
          88549,
          128761,
          27820,
          5763,
          130010,
          70244,
          160183,
          113981,
          87373,
          17057,
          32110,
          178708,
          84590,
          203754,
          135154,
          149034,
          26930,
          19582,
          142457,
          83004,
          210049,
          145447,
          107963,
          12682,
          5768,
          60911,
          169782,
          227078,
          121389,
          157059,
          26156,
          14456,
          161130,
          85407,
          198002,
          141914,
          106317,
          33349,
          9352,
          150911,
          92072,
          182778,
          116445,
          158683,
          14564
         ],
         "yaxis": "y"
        }
       ],
       "layout": {
        "autosize": true,
        "legend": {
         "title": {
          "text": "location"
         },
         "tracegroupgap": 0
        },
        "template": {
         "data": {
          "bar": [
           {
            "error_x": {
             "color": "#2a3f5f"
            },
            "error_y": {
             "color": "#2a3f5f"
            },
            "marker": {
             "line": {
              "color": "#E5ECF6",
              "width": 0.5
             },
             "pattern": {
              "fillmode": "overlay",
              "size": 10,
              "solidity": 0.2
             }
            },
            "type": "bar"
           }
          ],
          "barpolar": [
           {
            "marker": {
             "line": {
              "color": "#E5ECF6",
              "width": 0.5
             },
             "pattern": {
              "fillmode": "overlay",
              "size": 10,
              "solidity": 0.2
             }
            },
            "type": "barpolar"
           }
          ],
          "carpet": [
           {
            "aaxis": {
             "endlinecolor": "#2a3f5f",
             "gridcolor": "white",
             "linecolor": "white",
             "minorgridcolor": "white",
             "startlinecolor": "#2a3f5f"
            },
            "baxis": {
             "endlinecolor": "#2a3f5f",
             "gridcolor": "white",
             "linecolor": "white",
             "minorgridcolor": "white",
             "startlinecolor": "#2a3f5f"
            },
            "type": "carpet"
           }
          ],
          "choropleth": [
           {
            "colorbar": {
             "outlinewidth": 0,
             "ticks": ""
            },
            "type": "choropleth"
           }
          ],
          "contour": [
           {
            "colorbar": {
             "outlinewidth": 0,
             "ticks": ""
            },
            "colorscale": [
             [
              0,
              "#0d0887"
             ],
             [
              0.1111111111111111,
              "#46039f"
             ],
             [
              0.2222222222222222,
              "#7201a8"
             ],
             [
              0.3333333333333333,
              "#9c179e"
             ],
             [
              0.4444444444444444,
              "#bd3786"
             ],
             [
              0.5555555555555556,
              "#d8576b"
             ],
             [
              0.6666666666666666,
              "#ed7953"
             ],
             [
              0.7777777777777778,
              "#fb9f3a"
             ],
             [
              0.8888888888888888,
              "#fdca26"
             ],
             [
              1,
              "#f0f921"
             ]
            ],
            "type": "contour"
           }
          ],
          "contourcarpet": [
           {
            "colorbar": {
             "outlinewidth": 0,
             "ticks": ""
            },
            "type": "contourcarpet"
           }
          ],
          "heatmap": [
           {
            "colorbar": {
             "outlinewidth": 0,
             "ticks": ""
            },
            "colorscale": [
             [
              0,
              "#0d0887"
             ],
             [
              0.1111111111111111,
              "#46039f"
             ],
             [
              0.2222222222222222,
              "#7201a8"
             ],
             [
              0.3333333333333333,
              "#9c179e"
             ],
             [
              0.4444444444444444,
              "#bd3786"
             ],
             [
              0.5555555555555556,
              "#d8576b"
             ],
             [
              0.6666666666666666,
              "#ed7953"
             ],
             [
              0.7777777777777778,
              "#fb9f3a"
             ],
             [
              0.8888888888888888,
              "#fdca26"
             ],
             [
              1,
              "#f0f921"
             ]
            ],
            "type": "heatmap"
           }
          ],
          "heatmapgl": [
           {
            "colorbar": {
             "outlinewidth": 0,
             "ticks": ""
            },
            "colorscale": [
             [
              0,
              "#0d0887"
             ],
             [
              0.1111111111111111,
              "#46039f"
             ],
             [
              0.2222222222222222,
              "#7201a8"
             ],
             [
              0.3333333333333333,
              "#9c179e"
             ],
             [
              0.4444444444444444,
              "#bd3786"
             ],
             [
              0.5555555555555556,
              "#d8576b"
             ],
             [
              0.6666666666666666,
              "#ed7953"
             ],
             [
              0.7777777777777778,
              "#fb9f3a"
             ],
             [
              0.8888888888888888,
              "#fdca26"
             ],
             [
              1,
              "#f0f921"
             ]
            ],
            "type": "heatmapgl"
           }
          ],
          "histogram": [
           {
            "marker": {
             "pattern": {
              "fillmode": "overlay",
              "size": 10,
              "solidity": 0.2
             }
            },
            "type": "histogram"
           }
          ],
          "histogram2d": [
           {
            "colorbar": {
             "outlinewidth": 0,
             "ticks": ""
            },
            "colorscale": [
             [
              0,
              "#0d0887"
             ],
             [
              0.1111111111111111,
              "#46039f"
             ],
             [
              0.2222222222222222,
              "#7201a8"
             ],
             [
              0.3333333333333333,
              "#9c179e"
             ],
             [
              0.4444444444444444,
              "#bd3786"
             ],
             [
              0.5555555555555556,
              "#d8576b"
             ],
             [
              0.6666666666666666,
              "#ed7953"
             ],
             [
              0.7777777777777778,
              "#fb9f3a"
             ],
             [
              0.8888888888888888,
              "#fdca26"
             ],
             [
              1,
              "#f0f921"
             ]
            ],
            "type": "histogram2d"
           }
          ],
          "histogram2dcontour": [
           {
            "colorbar": {
             "outlinewidth": 0,
             "ticks": ""
            },
            "colorscale": [
             [
              0,
              "#0d0887"
             ],
             [
              0.1111111111111111,
              "#46039f"
             ],
             [
              0.2222222222222222,
              "#7201a8"
             ],
             [
              0.3333333333333333,
              "#9c179e"
             ],
             [
              0.4444444444444444,
              "#bd3786"
             ],
             [
              0.5555555555555556,
              "#d8576b"
             ],
             [
              0.6666666666666666,
              "#ed7953"
             ],
             [
              0.7777777777777778,
              "#fb9f3a"
             ],
             [
              0.8888888888888888,
              "#fdca26"
             ],
             [
              1,
              "#f0f921"
             ]
            ],
            "type": "histogram2dcontour"
           }
          ],
          "mesh3d": [
           {
            "colorbar": {
             "outlinewidth": 0,
             "ticks": ""
            },
            "type": "mesh3d"
           }
          ],
          "parcoords": [
           {
            "line": {
             "colorbar": {
              "outlinewidth": 0,
              "ticks": ""
             }
            },
            "type": "parcoords"
           }
          ],
          "pie": [
           {
            "automargin": true,
            "type": "pie"
           }
          ],
          "scatter": [
           {
            "fillpattern": {
             "fillmode": "overlay",
             "size": 10,
             "solidity": 0.2
            },
            "type": "scatter"
           }
          ],
          "scatter3d": [
           {
            "line": {
             "colorbar": {
              "outlinewidth": 0,
              "ticks": ""
             }
            },
            "marker": {
             "colorbar": {
              "outlinewidth": 0,
              "ticks": ""
             }
            },
            "type": "scatter3d"
           }
          ],
          "scattercarpet": [
           {
            "marker": {
             "colorbar": {
              "outlinewidth": 0,
              "ticks": ""
             }
            },
            "type": "scattercarpet"
           }
          ],
          "scattergeo": [
           {
            "marker": {
             "colorbar": {
              "outlinewidth": 0,
              "ticks": ""
             }
            },
            "type": "scattergeo"
           }
          ],
          "scattergl": [
           {
            "marker": {
             "colorbar": {
              "outlinewidth": 0,
              "ticks": ""
             }
            },
            "type": "scattergl"
           }
          ],
          "scattermapbox": [
           {
            "marker": {
             "colorbar": {
              "outlinewidth": 0,
              "ticks": ""
             }
            },
            "type": "scattermapbox"
           }
          ],
          "scatterpolar": [
           {
            "marker": {
             "colorbar": {
              "outlinewidth": 0,
              "ticks": ""
             }
            },
            "type": "scatterpolar"
           }
          ],
          "scatterpolargl": [
           {
            "marker": {
             "colorbar": {
              "outlinewidth": 0,
              "ticks": ""
             }
            },
            "type": "scatterpolargl"
           }
          ],
          "scatterternary": [
           {
            "marker": {
             "colorbar": {
              "outlinewidth": 0,
              "ticks": ""
             }
            },
            "type": "scatterternary"
           }
          ],
          "surface": [
           {
            "colorbar": {
             "outlinewidth": 0,
             "ticks": ""
            },
            "colorscale": [
             [
              0,
              "#0d0887"
             ],
             [
              0.1111111111111111,
              "#46039f"
             ],
             [
              0.2222222222222222,
              "#7201a8"
             ],
             [
              0.3333333333333333,
              "#9c179e"
             ],
             [
              0.4444444444444444,
              "#bd3786"
             ],
             [
              0.5555555555555556,
              "#d8576b"
             ],
             [
              0.6666666666666666,
              "#ed7953"
             ],
             [
              0.7777777777777778,
              "#fb9f3a"
             ],
             [
              0.8888888888888888,
              "#fdca26"
             ],
             [
              1,
              "#f0f921"
             ]
            ],
            "type": "surface"
           }
          ],
          "table": [
           {
            "cells": {
             "fill": {
              "color": "#EBF0F8"
             },
             "line": {
              "color": "white"
             }
            },
            "header": {
             "fill": {
              "color": "#C8D4E3"
             },
             "line": {
              "color": "white"
             }
            },
            "type": "table"
           }
          ]
         },
         "layout": {
          "annotationdefaults": {
           "arrowcolor": "#2a3f5f",
           "arrowhead": 0,
           "arrowwidth": 1
          },
          "autotypenumbers": "strict",
          "coloraxis": {
           "colorbar": {
            "outlinewidth": 0,
            "ticks": ""
           }
          },
          "colorscale": {
           "diverging": [
            [
             0,
             "#8e0152"
            ],
            [
             0.1,
             "#c51b7d"
            ],
            [
             0.2,
             "#de77ae"
            ],
            [
             0.3,
             "#f1b6da"
            ],
            [
             0.4,
             "#fde0ef"
            ],
            [
             0.5,
             "#f7f7f7"
            ],
            [
             0.6,
             "#e6f5d0"
            ],
            [
             0.7,
             "#b8e186"
            ],
            [
             0.8,
             "#7fbc41"
            ],
            [
             0.9,
             "#4d9221"
            ],
            [
             1,
             "#276419"
            ]
           ],
           "sequential": [
            [
             0,
             "#0d0887"
            ],
            [
             0.1111111111111111,
             "#46039f"
            ],
            [
             0.2222222222222222,
             "#7201a8"
            ],
            [
             0.3333333333333333,
             "#9c179e"
            ],
            [
             0.4444444444444444,
             "#bd3786"
            ],
            [
             0.5555555555555556,
             "#d8576b"
            ],
            [
             0.6666666666666666,
             "#ed7953"
            ],
            [
             0.7777777777777778,
             "#fb9f3a"
            ],
            [
             0.8888888888888888,
             "#fdca26"
            ],
            [
             1,
             "#f0f921"
            ]
           ],
           "sequentialminus": [
            [
             0,
             "#0d0887"
            ],
            [
             0.1111111111111111,
             "#46039f"
            ],
            [
             0.2222222222222222,
             "#7201a8"
            ],
            [
             0.3333333333333333,
             "#9c179e"
            ],
            [
             0.4444444444444444,
             "#bd3786"
            ],
            [
             0.5555555555555556,
             "#d8576b"
            ],
            [
             0.6666666666666666,
             "#ed7953"
            ],
            [
             0.7777777777777778,
             "#fb9f3a"
            ],
            [
             0.8888888888888888,
             "#fdca26"
            ],
            [
             1,
             "#f0f921"
            ]
           ]
          },
          "colorway": [
           "#636efa",
           "#EF553B",
           "#00cc96",
           "#ab63fa",
           "#FFA15A",
           "#19d3f3",
           "#FF6692",
           "#B6E880",
           "#FF97FF",
           "#FECB52"
          ],
          "font": {
           "color": "#2a3f5f"
          },
          "geo": {
           "bgcolor": "white",
           "lakecolor": "white",
           "landcolor": "#E5ECF6",
           "showlakes": true,
           "showland": true,
           "subunitcolor": "white"
          },
          "hoverlabel": {
           "align": "left"
          },
          "hovermode": "closest",
          "mapbox": {
           "style": "light"
          },
          "paper_bgcolor": "white",
          "plot_bgcolor": "#E5ECF6",
          "polar": {
           "angularaxis": {
            "gridcolor": "white",
            "linecolor": "white",
            "ticks": ""
           },
           "bgcolor": "#E5ECF6",
           "radialaxis": {
            "gridcolor": "white",
            "linecolor": "white",
            "ticks": ""
           }
          },
          "scene": {
           "xaxis": {
            "backgroundcolor": "#E5ECF6",
            "gridcolor": "white",
            "gridwidth": 2,
            "linecolor": "white",
            "showbackground": true,
            "ticks": "",
            "zerolinecolor": "white"
           },
           "yaxis": {
            "backgroundcolor": "#E5ECF6",
            "gridcolor": "white",
            "gridwidth": 2,
            "linecolor": "white",
            "showbackground": true,
            "ticks": "",
            "zerolinecolor": "white"
           },
           "zaxis": {
            "backgroundcolor": "#E5ECF6",
            "gridcolor": "white",
            "gridwidth": 2,
            "linecolor": "white",
            "showbackground": true,
            "ticks": "",
            "zerolinecolor": "white"
           }
          },
          "shapedefaults": {
           "line": {
            "color": "#2a3f5f"
           }
          },
          "ternary": {
           "aaxis": {
            "gridcolor": "white",
            "linecolor": "white",
            "ticks": ""
           },
           "baxis": {
            "gridcolor": "white",
            "linecolor": "white",
            "ticks": ""
           },
           "bgcolor": "#E5ECF6",
           "caxis": {
            "gridcolor": "white",
            "linecolor": "white",
            "ticks": ""
           }
          },
          "title": {
           "x": 0.05
          },
          "xaxis": {
           "automargin": true,
           "gridcolor": "white",
           "linecolor": "white",
           "ticks": "",
           "title": {
            "standoff": 15
           },
           "zerolinecolor": "white",
           "zerolinewidth": 2
          },
          "yaxis": {
           "automargin": true,
           "gridcolor": "white",
           "linecolor": "white",
           "ticks": "",
           "title": {
            "standoff": 15
           },
           "zerolinecolor": "white",
           "zerolinewidth": 2
          }
         }
        },
        "title": {
         "text": "Number of new cases of COVID-19 over time for Poland and the United States"
        },
        "xaxis": {
         "anchor": "y",
         "autorange": true,
         "domain": [
          0,
          1
         ],
         "range": [
          "2020-01-22",
          "2022-06-18"
         ],
         "title": {
          "text": "date"
         },
         "type": "date"
        },
        "yaxis": {
         "anchor": "x",
         "autorange": true,
         "domain": [
          0,
          1
         ],
         "range": [
          -76883.22222222222,
          1460781.2222222222
         ],
         "title": {
          "text": "new_cases"
         },
         "type": "linear"
        }
       }
      },
      "image/png": "[encoded data removed]",
      "text/html": [
       "<div>                            <div id=\"20eef086-fbdc-4f72-8e6c-d3d0e18f753d\" class=\"plotly-graph-div\" style=\"height:400px; width:100%;\"></div>            <script type=\"text/javascript\">                require([\"plotly\"], function(Plotly) {                    window.PLOTLYENV=window.PLOTLYENV || {};                                    if (document.getElementById(\"20eef086-fbdc-4f72-8e6c-d3d0e18f753d\")) {                    Plotly.newPlot(                        \"20eef086-fbdc-4f72-8e6c-d3d0e18f753d\",                        [{\"hovertemplate\":\"location=Poland<br>date=%{x}<br>new_cases=%{y}<extra></extra>\",\"legendgroup\":\"Poland\",\"line\":{\"color\":\"rgb(102, 197, 204)\",\"dash\":\"solid\"},\"marker\":{\"symbol\":\"circle\"},\"mode\":\"lines\",\"name\":\"Poland\",\"showlegend\":true,\"x\":[\"2020-03-04\",\"2020-03-05\",\"2020-03-06\",\"2020-03-07\",\"2020-03-08\",\"2020-03-09\",\"2020-03-10\",\"2020-03-11\",\"2020-03-12\",\"2020-03-13\",\"2020-03-14\",\"2020-03-15\",\"2020-03-16\",\"2020-03-17\",\"2020-03-18\",\"2020-03-19\",\"2020-03-20\",\"2020-03-21\",\"2020-03-22\",\"2020-03-23\",\"2020-03-24\",\"2020-03-25\",\"2020-03-26\",\"2020-03-27\",\"2020-03-28\",\"2020-03-29\",\"2020-03-30\",\"2020-03-31\",\"2020-04-01\",\"2020-04-02\",\"2020-04-03\",\"2020-04-04\",\"2020-04-05\",\"2020-04-06\",\"2020-04-07\",\"2020-04-08\",\"2020-04-09\",\"2020-04-10\",\"2020-04-11\",\"2020-04-12\",\"2020-04-13\",\"2020-04-14\",\"2020-04-15\",\"2020-04-16\",\"2020-04-17\",\"2020-04-18\",\"2020-04-19\",\"2020-04-20\",\"2020-04-21\",\"2020-04-22\",\"2020-04-23\",\"2020-04-24\",\"2020-04-25\",\"2020-04-26\",\"2020-04-27\",\"2020-04-28\",\"2020-04-29\",\"2020-04-30\",\"2020-05-01\",\"2020-05-02\",\"2020-05-03\",\"2020-05-04\",\"2020-05-05\",\"2020-05-06\",\"2020-05-07\",\"2020-05-08\",\"2020-05-09\",\"2020-05-10\",\"2020-05-11\",\"2020-05-12\",\"2020-05-13\",\"2020-05-14\",\"2020-05-15\",\"2020-05-16\",\"2020-05-17\",\"2020-05-18\",\"2020-05-19\",\"2020-05-20\",\"2020-05-21\",\"2020-05-22\",\"2020-05-23\",\"2020-05-24\",\"2020-05-25\",\"2020-05-26\",\"2020-05-27\",\"2020-05-28\",\"2020-05-29\",\"2020-05-30\",\"2020-05-31\",\"2020-06-01\",\"2020-06-02\",\"2020-06-03\",\"2020-06-04\",\"2020-06-05\",\"2020-06-06\",\"2020-06-07\",\"2020-06-08\",\"2020-06-09\",\"2020-06-10\",\"2020-06-11\",\"2020-06-12\",\"2020-06-13\",\"2020-06-14\",\"2020-06-15\",\"2020-06-16\",\"2020-06-17\",\"2020-06-18\",\"2020-06-19\",\"2020-06-20\",\"2020-06-21\",\"2020-06-22\",\"2020-06-23\",\"2020-06-24\",\"2020-06-25\",\"2020-06-26\",\"2020-06-27\",\"2020-06-28\",\"2020-06-29\",\"2020-06-30\",\"2020-07-01\",\"2020-07-02\",\"2020-07-03\",\"2020-07-04\",\"2020-07-05\",\"2020-07-06\",\"2020-07-07\",\"2020-07-08\",\"2020-07-09\",\"2020-07-10\",\"2020-07-11\",\"2020-07-12\",\"2020-07-13\",\"2020-07-14\",\"2020-07-15\",\"2020-07-16\",\"2020-07-17\",\"2020-07-18\",\"2020-07-19\",\"2020-07-20\",\"2020-07-21\",\"2020-07-22\",\"2020-07-23\",\"2020-07-24\",\"2020-07-25\",\"2020-07-26\",\"2020-07-27\",\"2020-07-28\",\"2020-07-29\",\"2020-07-30\",\"2020-07-31\",\"2020-08-01\",\"2020-08-02\",\"2020-08-03\",\"2020-08-04\",\"2020-08-05\",\"2020-08-06\",\"2020-08-07\",\"2020-08-08\",\"2020-08-09\",\"2020-08-10\",\"2020-08-11\",\"2020-08-12\",\"2020-08-13\",\"2020-08-14\",\"2020-08-15\",\"2020-08-16\",\"2020-08-17\",\"2020-08-18\",\"2020-08-19\",\"2020-08-20\",\"2020-08-21\",\"2020-08-22\",\"2020-08-23\",\"2020-08-24\",\"2020-08-25\",\"2020-08-26\",\"2020-08-27\",\"2020-08-28\",\"2020-08-29\",\"2020-08-30\",\"2020-08-31\",\"2020-09-01\",\"2020-09-02\",\"2020-09-03\",\"2020-09-04\",\"2020-09-05\",\"2020-09-06\",\"2020-09-07\",\"2020-09-08\",\"2020-09-09\",\"2020-09-10\",\"2020-09-11\",\"2020-09-12\",\"2020-09-13\",\"2020-09-14\",\"2020-09-15\",\"2020-09-16\",\"2020-09-17\",\"2020-09-18\",\"2020-09-19\",\"2020-09-20\",\"2020-09-21\",\"2020-09-22\",\"2020-09-23\",\"2020-09-24\",\"2020-09-25\",\"2020-09-26\",\"2020-09-27\",\"2020-09-28\",\"2020-09-29\",\"2020-09-30\",\"2020-10-01\",\"2020-10-02\",\"2020-10-03\",\"2020-10-04\",\"2020-10-05\",\"2020-10-06\",\"2020-10-07\",\"2020-10-08\",\"2020-10-09\",\"2020-10-10\",\"2020-10-11\",\"2020-10-12\",\"2020-10-13\",\"2020-10-14\",\"2020-10-15\",\"2020-10-16\",\"2020-10-17\",\"2020-10-18\",\"2020-10-19\",\"2020-10-20\",\"2020-10-21\",\"2020-10-22\",\"2020-10-23\",\"2020-10-24\",\"2020-10-25\",\"2020-10-26\",\"2020-10-27\",\"2020-10-28\",\"2020-10-29\",\"2020-10-30\",\"2020-10-31\",\"2020-11-01\",\"2020-11-02\",\"2020-11-03\",\"2020-11-04\",\"2020-11-05\",\"2020-11-06\",\"2020-11-07\",\"2020-11-08\",\"2020-11-09\",\"2020-11-10\",\"2020-11-11\",\"2020-11-12\",\"2020-11-13\",\"2020-11-14\",\"2020-11-15\",\"2020-11-16\",\"2020-11-17\",\"2020-11-18\",\"2020-11-19\",\"2020-11-20\",\"2020-11-21\",\"2020-11-22\",\"2020-11-23\",\"2020-11-24\",\"2020-11-25\",\"2020-11-26\",\"2020-11-27\",\"2020-11-28\",\"2020-11-29\",\"2020-11-30\",\"2020-12-01\",\"2020-12-02\",\"2020-12-03\",\"2020-12-04\",\"2020-12-05\",\"2020-12-06\",\"2020-12-07\",\"2020-12-08\",\"2020-12-09\",\"2020-12-10\",\"2020-12-11\",\"2020-12-12\",\"2020-12-13\",\"2020-12-14\",\"2020-12-15\",\"2020-12-16\",\"2020-12-17\",\"2020-12-18\",\"2020-12-19\",\"2020-12-20\",\"2020-12-21\",\"2020-12-22\",\"2020-12-23\",\"2020-12-24\",\"2020-12-25\",\"2020-12-26\",\"2020-12-27\",\"2020-12-28\",\"2020-12-29\",\"2020-12-30\",\"2020-12-31\",\"2021-01-01\",\"2021-01-02\",\"2021-01-03\",\"2021-01-04\",\"2021-01-05\",\"2021-01-06\",\"2021-01-07\",\"2021-01-08\",\"2021-01-09\",\"2021-01-10\",\"2021-01-11\",\"2021-01-12\",\"2021-01-13\",\"2021-01-14\",\"2021-01-15\",\"2021-01-16\",\"2021-01-17\",\"2021-01-18\",\"2021-01-19\",\"2021-01-20\",\"2021-01-21\",\"2021-01-22\",\"2021-01-23\",\"2021-01-24\",\"2021-01-25\",\"2021-01-26\",\"2021-01-27\",\"2021-01-28\",\"2021-01-29\",\"2021-01-30\",\"2021-01-31\",\"2021-02-01\",\"2021-02-02\",\"2021-02-03\",\"2021-02-04\",\"2021-02-05\",\"2021-02-06\",\"2021-02-07\",\"2021-02-08\",\"2021-02-09\",\"2021-02-10\",\"2021-02-11\",\"2021-02-12\",\"2021-02-13\",\"2021-02-14\",\"2021-02-15\",\"2021-02-16\",\"2021-02-17\",\"2021-02-18\",\"2021-02-19\",\"2021-02-20\",\"2021-02-21\",\"2021-02-22\",\"2021-02-23\",\"2021-02-24\",\"2021-02-25\",\"2021-02-26\",\"2021-02-27\",\"2021-02-28\",\"2021-03-01\",\"2021-03-02\",\"2021-03-03\",\"2021-03-04\",\"2021-03-05\",\"2021-03-06\",\"2021-03-07\",\"2021-03-08\",\"2021-03-09\",\"2021-03-10\",\"2021-03-11\",\"2021-03-12\",\"2021-03-13\",\"2021-03-14\",\"2021-03-15\",\"2021-03-16\",\"2021-03-17\",\"2021-03-18\",\"2021-03-19\",\"2021-03-20\",\"2021-03-21\",\"2021-03-22\",\"2021-03-23\",\"2021-03-24\",\"2021-03-25\",\"2021-03-26\",\"2021-03-27\",\"2021-03-28\",\"2021-03-29\",\"2021-03-30\",\"2021-03-31\",\"2021-04-01\",\"2021-04-02\",\"2021-04-03\",\"2021-04-04\",\"2021-04-05\",\"2021-04-06\",\"2021-04-07\",\"2021-04-08\",\"2021-04-09\",\"2021-04-10\",\"2021-04-11\",\"2021-04-12\",\"2021-04-13\",\"2021-04-14\",\"2021-04-15\",\"2021-04-16\",\"2021-04-17\",\"2021-04-18\",\"2021-04-19\",\"2021-04-20\",\"2021-04-21\",\"2021-04-22\",\"2021-04-23\",\"2021-04-24\",\"2021-04-25\",\"2021-04-26\",\"2021-04-27\",\"2021-04-28\",\"2021-04-29\",\"2021-04-30\",\"2021-05-01\",\"2021-05-02\",\"2021-05-03\",\"2021-05-04\",\"2021-05-05\",\"2021-05-06\",\"2021-05-07\",\"2021-05-08\",\"2021-05-09\",\"2021-05-10\",\"2021-05-11\",\"2021-05-12\",\"2021-05-13\",\"2021-05-14\",\"2021-05-15\",\"2021-05-16\",\"2021-05-17\",\"2021-05-18\",\"2021-05-19\",\"2021-05-20\",\"2021-05-21\",\"2021-05-22\",\"2021-05-23\",\"2021-05-24\",\"2021-05-25\",\"2021-05-26\",\"2021-05-27\",\"2021-05-28\",\"2021-05-29\",\"2021-05-30\",\"2021-05-31\",\"2021-06-01\",\"2021-06-02\",\"2021-06-03\",\"2021-06-04\",\"2021-06-05\",\"2021-06-06\",\"2021-06-07\",\"2021-06-08\",\"2021-06-09\",\"2021-06-10\",\"2021-06-11\",\"2021-06-12\",\"2021-06-13\",\"2021-06-14\",\"2021-06-15\",\"2021-06-16\",\"2021-06-17\",\"2021-06-18\",\"2021-06-19\",\"2021-06-20\",\"2021-06-21\",\"2021-06-22\",\"2021-06-23\",\"2021-06-24\",\"2021-06-25\",\"2021-06-26\",\"2021-06-27\",\"2021-06-28\",\"2021-06-29\",\"2021-06-30\",\"2021-07-01\",\"2021-07-02\",\"2021-07-03\",\"2021-07-04\",\"2021-07-05\",\"2021-07-06\",\"2021-07-07\",\"2021-07-08\",\"2021-07-09\",\"2021-07-10\",\"2021-07-11\",\"2021-07-12\",\"2021-07-13\",\"2021-07-14\",\"2021-07-15\",\"2021-07-16\",\"2021-07-17\",\"2021-07-18\",\"2021-07-19\",\"2021-07-20\",\"2021-07-21\",\"2021-07-22\",\"2021-07-23\",\"2021-07-24\",\"2021-07-25\",\"2021-07-26\",\"2021-07-27\",\"2021-07-28\",\"2021-07-29\",\"2021-07-30\",\"2021-07-31\",\"2021-08-01\",\"2021-08-02\",\"2021-08-03\",\"2021-08-04\",\"2021-08-05\",\"2021-08-06\",\"2021-08-07\",\"2021-08-08\",\"2021-08-09\",\"2021-08-10\",\"2021-08-11\",\"2021-08-12\",\"2021-08-13\",\"2021-08-14\",\"2021-08-15\",\"2021-08-16\",\"2021-08-17\",\"2021-08-18\",\"2021-08-19\",\"2021-08-20\",\"2021-08-21\",\"2021-08-22\",\"2021-08-23\",\"2021-08-24\",\"2021-08-25\",\"2021-08-26\",\"2021-08-27\",\"2021-08-28\",\"2021-08-29\",\"2021-08-30\",\"2021-08-31\",\"2021-09-01\",\"2021-09-02\",\"2021-09-03\",\"2021-09-04\",\"2021-09-05\",\"2021-09-06\",\"2021-09-07\",\"2021-09-08\",\"2021-09-09\",\"2021-09-10\",\"2021-09-11\",\"2021-09-12\",\"2021-09-13\",\"2021-09-14\",\"2021-09-15\",\"2021-09-16\",\"2021-09-17\",\"2021-09-18\",\"2021-09-19\",\"2021-09-20\",\"2021-09-21\",\"2021-09-22\",\"2021-09-23\",\"2021-09-24\",\"2021-09-25\",\"2021-09-26\",\"2021-09-27\",\"2021-09-28\",\"2021-09-29\",\"2021-09-30\",\"2021-10-01\",\"2021-10-02\",\"2021-10-03\",\"2021-10-04\",\"2021-10-05\",\"2021-10-06\",\"2021-10-07\",\"2021-10-08\",\"2021-10-09\",\"2021-10-10\",\"2021-10-11\",\"2021-10-12\",\"2021-10-13\",\"2021-10-14\",\"2021-10-15\",\"2021-10-16\",\"2021-10-17\",\"2021-10-18\",\"2021-10-19\",\"2021-10-20\",\"2021-10-21\",\"2021-10-22\",\"2021-10-23\",\"2021-10-24\",\"2021-10-25\",\"2021-10-26\",\"2021-10-27\",\"2021-10-28\",\"2021-10-29\",\"2021-10-30\",\"2021-10-31\",\"2021-11-01\",\"2021-11-02\",\"2021-11-03\",\"2021-11-04\",\"2021-11-05\",\"2021-11-06\",\"2021-11-07\",\"2021-11-08\",\"2021-11-09\",\"2021-11-10\",\"2021-11-11\",\"2021-11-12\",\"2021-11-13\",\"2021-11-14\",\"2021-11-15\",\"2021-11-16\",\"2021-11-17\",\"2021-11-18\",\"2021-11-19\",\"2021-11-20\",\"2021-11-21\",\"2021-11-22\",\"2021-11-23\",\"2021-11-24\",\"2021-11-25\",\"2021-11-26\",\"2021-11-27\",\"2021-11-28\",\"2021-11-29\",\"2021-11-30\",\"2021-12-01\",\"2021-12-02\",\"2021-12-03\",\"2021-12-04\",\"2021-12-05\",\"2021-12-06\",\"2021-12-07\",\"2021-12-08\",\"2021-12-09\",\"2021-12-10\",\"2021-12-11\",\"2021-12-12\",\"2021-12-13\",\"2021-12-14\",\"2021-12-15\",\"2021-12-16\",\"2021-12-17\",\"2021-12-18\",\"2021-12-19\",\"2021-12-20\",\"2021-12-21\",\"2021-12-22\",\"2021-12-23\",\"2021-12-24\",\"2021-12-25\",\"2021-12-26\",\"2021-12-27\",\"2021-12-28\",\"2021-12-29\",\"2021-12-30\",\"2021-12-31\",\"2022-01-01\",\"2022-01-02\",\"2022-01-03\",\"2022-01-04\",\"2022-01-05\",\"2022-01-06\",\"2022-01-07\",\"2022-01-08\",\"2022-01-09\",\"2022-01-10\",\"2022-01-11\",\"2022-01-12\",\"2022-01-13\",\"2022-01-14\",\"2022-01-15\",\"2022-01-16\",\"2022-01-17\",\"2022-01-18\",\"2022-01-19\",\"2022-01-20\",\"2022-01-21\",\"2022-01-22\",\"2022-01-23\",\"2022-01-24\",\"2022-01-25\",\"2022-01-26\",\"2022-01-27\",\"2022-01-28\",\"2022-01-29\",\"2022-01-30\",\"2022-01-31\",\"2022-02-01\",\"2022-02-02\",\"2022-02-03\",\"2022-02-04\",\"2022-02-05\",\"2022-02-06\",\"2022-02-07\",\"2022-02-08\",\"2022-02-09\",\"2022-02-10\",\"2022-02-11\",\"2022-02-12\",\"2022-02-13\",\"2022-02-14\",\"2022-02-15\",\"2022-02-16\",\"2022-02-17\",\"2022-02-18\",\"2022-02-19\",\"2022-02-20\",\"2022-02-21\",\"2022-02-22\",\"2022-02-23\",\"2022-02-24\",\"2022-02-25\",\"2022-02-26\",\"2022-02-27\",\"2022-02-28\",\"2022-03-01\",\"2022-03-02\",\"2022-03-03\",\"2022-03-04\",\"2022-03-05\",\"2022-03-06\",\"2022-03-07\",\"2022-03-08\",\"2022-03-09\",\"2022-03-10\",\"2022-03-11\",\"2022-03-12\",\"2022-03-13\",\"2022-03-14\",\"2022-03-15\",\"2022-03-16\",\"2022-03-17\",\"2022-03-18\",\"2022-03-19\",\"2022-03-20\",\"2022-03-21\",\"2022-03-22\",\"2022-03-23\",\"2022-03-24\",\"2022-03-25\",\"2022-03-26\",\"2022-03-27\",\"2022-03-28\",\"2022-03-29\",\"2022-03-30\",\"2022-03-31\",\"2022-04-01\",\"2022-04-02\",\"2022-04-03\",\"2022-04-04\",\"2022-04-05\",\"2022-04-06\",\"2022-04-07\",\"2022-04-08\",\"2022-04-09\",\"2022-04-10\",\"2022-04-11\",\"2022-04-12\",\"2022-04-13\",\"2022-04-14\",\"2022-04-15\",\"2022-04-16\",\"2022-04-17\",\"2022-04-18\",\"2022-04-19\",\"2022-04-20\",\"2022-04-21\",\"2022-04-22\",\"2022-04-23\",\"2022-04-24\",\"2022-04-25\",\"2022-04-26\",\"2022-04-27\",\"2022-04-28\",\"2022-04-29\",\"2022-04-30\",\"2022-05-01\",\"2022-05-02\",\"2022-05-03\",\"2022-05-04\",\"2022-05-05\",\"2022-05-06\",\"2022-05-07\",\"2022-05-08\",\"2022-05-09\",\"2022-05-10\",\"2022-05-11\",\"2022-05-12\",\"2022-05-13\",\"2022-05-14\",\"2022-05-15\",\"2022-05-16\",\"2022-05-17\",\"2022-05-18\",\"2022-05-19\",\"2022-05-20\",\"2022-05-21\",\"2022-05-22\",\"2022-05-23\",\"2022-05-24\",\"2022-05-25\",\"2022-05-26\",\"2022-05-27\",\"2022-05-28\",\"2022-05-29\",\"2022-05-30\",\"2022-05-31\",\"2022-06-01\",\"2022-06-02\",\"2022-06-03\",\"2022-06-04\",\"2022-06-05\",\"2022-06-06\",\"2022-06-07\",\"2022-06-08\",\"2022-06-09\",\"2022-06-10\",\"2022-06-11\",\"2022-06-12\",\"2022-06-13\",\"2022-06-14\",\"2022-06-15\",\"2022-06-16\",\"2022-06-17\",\"2022-06-18\"],\"xaxis\":\"x\",\"y\":[1.0,0.0,4.0,0.0,6.0,5.0,6.0,9.0,18.0,19.0,35.0,16.0,58.0,61.0,13.0,104.0,70.0,111.0,98.0,115.0,152.0,150.0,170.0,168.0,249.0,224.0,193.0,256.0,243.0,392.0,437.0,244.0,475.0,311.0,435.0,357.0,370.0,380.0,401.0,318.0,260.0,268.0,380.0,336.0,461.0,363.0,545.0,306.0,263.0,313.0,342.0,381.0,381.0,344.0,285.0,316.0,422.0,237.0,228.0,270.0,318.0,313.0,425.0,309.0,307.0,319.0,285.0,345.0,330.0,595.0,283.0,411.0,401.0,241.0,272.0,356.0,383.0,471.0,404.0,476.0,312.0,395.0,305.0,443.0,399.0,352.0,330.0,416.0,215.0,379.0,230.0,292.0,361.0,362.0,576.0,575.0,599.0,400.0,282.0,359.0,376.0,440.0,375.0,396.0,407.0,506.0,314.0,301.0,304.0,311.0,296.0,300.0,294.0,298.0,276.0,319.0,193.0,247.0,239.0,382.0,371.0,259.0,314.0,231.0,205.0,257.0,277.0,262.0,265.0,305.0,370.0,299.0,267.0,264.0,333.0,353.0,339.0,358.0,279.0,399.0,380.0,418.0,458.0,584.0,443.0,337.0,502.0,512.0,615.0,657.0,658.0,548.0,575.0,680.0,640.0,726.0,809.0,843.0,624.0,619.0,551.0,715.0,811.0,832.0,771.0,594.0,595.0,597.0,735.0,767.0,903.0,900.0,581.0,548.0,763.0,729.0,887.0,791.0,759.0,631.0,502.0,550.0,595.0,612.0,691.0,567.0,437.0,302.0,400.0,421.0,506.0,594.0,603.0,502.0,377.0,605.0,600.0,837.0,757.0,1002.0,910.0,748.0,711.0,974.0,1136.0,1587.0,1584.0,1350.0,1306.0,1326.0,1552.0,1967.0,2292.0,2367.0,1934.0,2006.0,2236.0,3003.0,4280.0,4739.0,5300.0,4178.0,4394.0,5068.0,6526.0,8099.0,7705.0,9622.0,8536.0,7482.0,9291.0,10040.0,12107.0,13632.0,13628.0,11742.0,10241.0,16300.0,18820.0,20156.0,21629.0,21897.0,17171.0,15578.0,19364.0,24692.0,27143.0,27086.0,27875.0,24785.0,21713.0,25454.0,25221.0,22683.0,24051.0,25571.0,21854.0,20816.0,19152.0,19883.0,23975.0,22464.0,24213.0,17856.0,15002.0,32733.0,15356.0,16690.0,17304.0,15177.0,11482.0,5736.0,9113.0,13823.0,14863.0,13236.0,12427.0,9176.0,4421.0,8310.0,12166.0,13750.0,13105.0,11499.0,8976.0,4896.0,6874.0,12455.0,11953.0,11010.0,11246.0,8590.0,4633.0,7192.0,12358.0,13115.0,9081.0,4878.0,3842.0,3211.0,7624.0,12780.0,13464.0,10896.0,7006.0,5782.0,4385.0,7596.0,14220.0,12119.0,8763.0,10744.0,9133.0,4863.0,5394.0,9126.0,9457.0,7958.0,7292.0,5970.0,3332.0,4890.0,6943.0,7008.0,6693.0,6431.0,4566.0,2674.0,4603.0,6790.0,7153.0,6145.0,5864.0,4711.0,2504.0,4326.0,6801.0,6495.0,6053.0,5966.0,4725.0,2431.0,3999.0,6960.0,7013.0,6378.0,6585.0,5334.0,2542.0,5176.0,8699.0,9074.0,8772.0,8509.0,7040.0,3891.0,6304.0,12147.0,12143.0,11536.0,12097.0,10101.0,4786.0,7936.0,15698.0,15253.0,15831.0,14855.0,13569.0,6169.0,9953.0,17277.0,21111.0,18873.0,21063.0,17272.0,10895.0,14394.0,25053.0,27274.0,25996.0,26456.0,21850.0,14579.0,16740.0,30802.0,34150.0,35145.0,31759.0,29266.0,16973.0,20862.0,32891.0,35253.0,30541.0,28073.0,22958.0,9921.0,8246.0,14908.0,27890.0,28499.0,24892.0,21733.0,12016.0,13203.0,21266.0,21126.0,17846.0,15786.0,12151.0,7302.0,9244.0,13922.0,12763.0,10866.0,9510.0,7224.0,3467.0,5711.0,8893.0,8426.0,6789.0,6475.0,4616.0,2523.0,2296.0,3899.0,6427.0,6047.0,4771.0,3856.0,2031.0,3097.0,4159.0,3423.0,3252.0,2897.0,2168.0,1111.0,1734.0,2337.0,2090.0,1680.0,1515.0,1076.0,559.0,1006.0,1263.0,1202.0,943.0,776.0,579.0,333.0,585.0,659.0,565.0,319.0,413.0,312.0,192.0,401.0,560.0,378.0,340.0,236.0,226.0,139.0,211.0,242.0,215.0,190.0,168.0,133.0,73.0,190.0,162.0,144.0,134.0,99.0,69.0,51.0,122.0,101.0,98.0,97.0,108.0,55.0,38.0,95.0,100.0,93.0,74.0,85.0,66.0,44.0,94.0,87.0,105.0,90.0,114.0,69.0,67.0,103.0,124.0,122.0,108.0,118.0,80.0,74.0,107.0,138.0,165.0,156.0,153.0,90.0,91.0,164.0,164.0,176.0,172.0,180.0,122.0,64.0,199.0,196.0,223.0,194.0,211.0,148.0,128.0,215.0,207.0,196.0,212.0,222.0,185.0,107.0,232.0,233.0,215.0,254.0,289.0,203.0,154.0,285.0,366.0,376.0,361.0,388.0,323.0,182.0,405.0,531.0,511.0,529.0,531.0,476.0,270.0,536.0,768.0,724.0,652.0,796.0,540.0,364.0,709.0,880.0,974.0,812.0,917.0,643.0,421.0,976.0,1235.0,1205.0,1361.0,1344.0,1090.0,683.0,1327.0,2086.0,2007.0,1894.0,2011.0,1527.0,903.0,2121.0,2640.0,2999.0,2770.0,3235.0,2521.0,1536.0,3930.0,5560.0,5591.0,5716.0,6277.0,4727.0,2953.0,6263.0,8366.0,8382.0,9403.0,9806.0,7147.0,4904.0,4517.0,10434.0,15511.0,15905.0,15195.0,12507.0,7314.0,13645.0,18546.0,19079.0,12965.0,14298.0,14448.0,9508.0,16611.0,24241.0,24912.0,23259.0,23418.0,18924.0,12375.0,19935.0,28431.0,28143.0,26794.0,26188.0,20574.0,13133.0,19100.0,29076.0,27354.0,26961.0,25575.0,22394.0,13250.0,19369.0,28549.0,27459.0,24988.0,23762.0,19450.0,11377.0,17460.0,24264.0,22096.0,20027.0,19392.0,15976.0,9610.0,13807.0,18013.0,17150.0,15376.0,10789.0,6253.0,5027.0,9850.0,15567.0,14326.0,13607.0,12033.0,7180.0,6423.0,11667.0,17197.0,16577.0,11901.0,10897.0,11107.0,7787.0,11402.0,16173.0,16874.0,16049.0,16893.0,14661.0,10446.0,19648.0,30588.0,32835.0,36664.0,40878.0,34123.0,29097.0,37045.0,53416.0,57659.0,57265.0,51690.0,48287.0,33477.0,39116.0,56051.0,54475.0,47536.0,45748.0,34700.0,24404.0,35323.0,46856.0,42087.0,35774.0,31327.0,22064.0,13473.0,22255.0,28855.0,29234.0,23979.0,20891.0,13687.0,9457.0,18771.0,20463.0,18266.0,16700.0,13950.0,8897.0,6561.0,12980.0,14733.0,14060.0,12489.0,12725.0,7698.0,5583.0,13176.0,14440.0,13425.0,11633.0,11113.0,7578.0,5295.0,12690.0,14475.0,12267.0,11658.0,10374.0,5694.0,4164.0,10159.0,10425.0,8988.0,8231.0,6628.0,3492.0,2367.0,6606.0,5740.0,4991.0,4039.0,2101.0,550.0,493.0,1884.0,1559.0,1483.0,1324.0,1409.0,442.0,381.0,1624.0,1266.0,1178.0,1200.0,1076.0,311.0,266.0,301.0,1523.0,1177.0,1096.0,1239.0,344.0,267.0,1356.0,1041.0,957.0,856.0,840.0,234.0,187.0,890.0,173.0,911.0,608.0,700.0,199.0,184.0,727.0,566.0,501.0,469.0,434.0,139.0,95.0,510.0,386.0,359.0,315.0,335.0,95.0,65.0,419.0,283.0,249.0,262.0,264.0,83.0,82.0,346.0,256.0,219.0,236.0,255.0,62.0,53.0,338.0,202.0,274.0,247.0,263.0,56.0,45.0,321.0,232.0,228.0,48.0,255.0],\"yaxis\":\"y\",\"type\":\"scattergl\"},{\"hovertemplate\":\"location=United States<br>date=%{x}<br>new_cases=%{y}<extra></extra>\",\"legendgroup\":\"United States\",\"line\":{\"color\":\"rgb(246, 207, 113)\",\"dash\":\"solid\"},\"marker\":{\"symbol\":\"circle\"},\"mode\":\"lines\",\"name\":\"United States\",\"showlegend\":true,\"x\":[\"2020-01-22\",\"2020-01-23\",\"2020-01-24\",\"2020-01-25\",\"2020-01-26\",\"2020-01-27\",\"2020-01-28\",\"2020-01-29\",\"2020-01-30\",\"2020-01-31\",\"2020-02-01\",\"2020-02-02\",\"2020-02-03\",\"2020-02-04\",\"2020-02-05\",\"2020-02-06\",\"2020-02-07\",\"2020-02-08\",\"2020-02-09\",\"2020-02-10\",\"2020-02-11\",\"2020-02-12\",\"2020-02-13\",\"2020-02-14\",\"2020-02-15\",\"2020-02-16\",\"2020-02-17\",\"2020-02-18\",\"2020-02-19\",\"2020-02-20\",\"2020-02-21\",\"2020-02-22\",\"2020-02-23\",\"2020-02-24\",\"2020-02-25\",\"2020-02-26\",\"2020-02-27\",\"2020-02-28\",\"2020-02-29\",\"2020-03-01\",\"2020-03-02\",\"2020-03-03\",\"2020-03-04\",\"2020-03-05\",\"2020-03-06\",\"2020-03-07\",\"2020-03-08\",\"2020-03-09\",\"2020-03-10\",\"2020-03-11\",\"2020-03-12\",\"2020-03-13\",\"2020-03-14\",\"2020-03-15\",\"2020-03-16\",\"2020-03-17\",\"2020-03-18\",\"2020-03-19\",\"2020-03-20\",\"2020-03-21\",\"2020-03-22\",\"2020-03-23\",\"2020-03-24\",\"2020-03-25\",\"2020-03-26\",\"2020-03-27\",\"2020-03-28\",\"2020-03-29\",\"2020-03-30\",\"2020-03-31\",\"2020-04-01\",\"2020-04-02\",\"2020-04-03\",\"2020-04-04\",\"2020-04-05\",\"2020-04-06\",\"2020-04-07\",\"2020-04-08\",\"2020-04-09\",\"2020-04-10\",\"2020-04-11\",\"2020-04-12\",\"2020-04-13\",\"2020-04-14\",\"2020-04-15\",\"2020-04-16\",\"2020-04-17\",\"2020-04-18\",\"2020-04-19\",\"2020-04-20\",\"2020-04-21\",\"2020-04-22\",\"2020-04-23\",\"2020-04-24\",\"2020-04-25\",\"2020-04-26\",\"2020-04-27\",\"2020-04-28\",\"2020-04-29\",\"2020-04-30\",\"2020-05-01\",\"2020-05-02\",\"2020-05-03\",\"2020-05-04\",\"2020-05-05\",\"2020-05-06\",\"2020-05-07\",\"2020-05-08\",\"2020-05-09\",\"2020-05-10\",\"2020-05-11\",\"2020-05-12\",\"2020-05-13\",\"2020-05-14\",\"2020-05-15\",\"2020-05-16\",\"2020-05-17\",\"2020-05-18\",\"2020-05-19\",\"2020-05-20\",\"2020-05-21\",\"2020-05-22\",\"2020-05-23\",\"2020-05-24\",\"2020-05-25\",\"2020-05-26\",\"2020-05-27\",\"2020-05-28\",\"2020-05-29\",\"2020-05-30\",\"2020-05-31\",\"2020-06-01\",\"2020-06-02\",\"2020-06-03\",\"2020-06-04\",\"2020-06-05\",\"2020-06-06\",\"2020-06-07\",\"2020-06-08\",\"2020-06-09\",\"2020-06-10\",\"2020-06-11\",\"2020-06-12\",\"2020-06-13\",\"2020-06-14\",\"2020-06-15\",\"2020-06-16\",\"2020-06-17\",\"2020-06-18\",\"2020-06-19\",\"2020-06-20\",\"2020-06-21\",\"2020-06-22\",\"2020-06-23\",\"2020-06-24\",\"2020-06-25\",\"2020-06-26\",\"2020-06-27\",\"2020-06-28\",\"2020-06-29\",\"2020-06-30\",\"2020-07-01\",\"2020-07-02\",\"2020-07-03\",\"2020-07-04\",\"2020-07-05\",\"2020-07-06\",\"2020-07-07\",\"2020-07-08\",\"2020-07-09\",\"2020-07-10\",\"2020-07-11\",\"2020-07-12\",\"2020-07-13\",\"2020-07-14\",\"2020-07-15\",\"2020-07-16\",\"2020-07-17\",\"2020-07-18\",\"2020-07-19\",\"2020-07-20\",\"2020-07-21\",\"2020-07-22\",\"2020-07-23\",\"2020-07-24\",\"2020-07-25\",\"2020-07-26\",\"2020-07-27\",\"2020-07-28\",\"2020-07-29\",\"2020-07-30\",\"2020-07-31\",\"2020-08-01\",\"2020-08-02\",\"2020-08-03\",\"2020-08-04\",\"2020-08-05\",\"2020-08-06\",\"2020-08-07\",\"2020-08-08\",\"2020-08-09\",\"2020-08-10\",\"2020-08-11\",\"2020-08-12\",\"2020-08-13\",\"2020-08-14\",\"2020-08-15\",\"2020-08-16\",\"2020-08-17\",\"2020-08-18\",\"2020-08-19\",\"2020-08-20\",\"2020-08-21\",\"2020-08-22\",\"2020-08-23\",\"2020-08-24\",\"2020-08-25\",\"2020-08-26\",\"2020-08-27\",\"2020-08-28\",\"2020-08-29\",\"2020-08-30\",\"2020-08-31\",\"2020-09-01\",\"2020-09-02\",\"2020-09-03\",\"2020-09-04\",\"2020-09-05\",\"2020-09-06\",\"2020-09-07\",\"2020-09-08\",\"2020-09-09\",\"2020-09-10\",\"2020-09-11\",\"2020-09-12\",\"2020-09-13\",\"2020-09-14\",\"2020-09-15\",\"2020-09-16\",\"2020-09-17\",\"2020-09-18\",\"2020-09-19\",\"2020-09-20\",\"2020-09-21\",\"2020-09-22\",\"2020-09-23\",\"2020-09-24\",\"2020-09-25\",\"2020-09-26\",\"2020-09-27\",\"2020-09-28\",\"2020-09-29\",\"2020-09-30\",\"2020-10-01\",\"2020-10-02\",\"2020-10-03\",\"2020-10-04\",\"2020-10-05\",\"2020-10-06\",\"2020-10-07\",\"2020-10-08\",\"2020-10-09\",\"2020-10-10\",\"2020-10-11\",\"2020-10-12\",\"2020-10-13\",\"2020-10-14\",\"2020-10-15\",\"2020-10-16\",\"2020-10-17\",\"2020-10-18\",\"2020-10-19\",\"2020-10-20\",\"2020-10-21\",\"2020-10-22\",\"2020-10-23\",\"2020-10-24\",\"2020-10-25\",\"2020-10-26\",\"2020-10-27\",\"2020-10-28\",\"2020-10-29\",\"2020-10-30\",\"2020-10-31\",\"2020-11-01\",\"2020-11-02\",\"2020-11-03\",\"2020-11-04\",\"2020-11-05\",\"2020-11-06\",\"2020-11-07\",\"2020-11-08\",\"2020-11-09\",\"2020-11-10\",\"2020-11-11\",\"2020-11-12\",\"2020-11-13\",\"2020-11-14\",\"2020-11-15\",\"2020-11-16\",\"2020-11-17\",\"2020-11-18\",\"2020-11-19\",\"2020-11-20\",\"2020-11-21\",\"2020-11-22\",\"2020-11-23\",\"2020-11-24\",\"2020-11-25\",\"2020-11-26\",\"2020-11-27\",\"2020-11-28\",\"2020-11-29\",\"2020-11-30\",\"2020-12-01\",\"2020-12-02\",\"2020-12-03\",\"2020-12-04\",\"2020-12-05\",\"2020-12-06\",\"2020-12-07\",\"2020-12-08\",\"2020-12-09\",\"2020-12-10\",\"2020-12-11\",\"2020-12-12\",\"2020-12-13\",\"2020-12-14\",\"2020-12-15\",\"2020-12-16\",\"2020-12-17\",\"2020-12-18\",\"2020-12-19\",\"2020-12-20\",\"2020-12-21\",\"2020-12-22\",\"2020-12-23\",\"2020-12-24\",\"2020-12-25\",\"2020-12-26\",\"2020-12-27\",\"2020-12-28\",\"2020-12-29\",\"2020-12-30\",\"2020-12-31\",\"2021-01-01\",\"2021-01-02\",\"2021-01-03\",\"2021-01-04\",\"2021-01-05\",\"2021-01-06\",\"2021-01-07\",\"2021-01-08\",\"2021-01-09\",\"2021-01-10\",\"2021-01-11\",\"2021-01-12\",\"2021-01-13\",\"2021-01-14\",\"2021-01-15\",\"2021-01-16\",\"2021-01-17\",\"2021-01-18\",\"2021-01-19\",\"2021-01-20\",\"2021-01-21\",\"2021-01-22\",\"2021-01-23\",\"2021-01-24\",\"2021-01-25\",\"2021-01-26\",\"2021-01-27\",\"2021-01-28\",\"2021-01-29\",\"2021-01-30\",\"2021-01-31\",\"2021-02-01\",\"2021-02-02\",\"2021-02-03\",\"2021-02-04\",\"2021-02-05\",\"2021-02-06\",\"2021-02-07\",\"2021-02-08\",\"2021-02-09\",\"2021-02-10\",\"2021-02-11\",\"2021-02-12\",\"2021-02-13\",\"2021-02-14\",\"2021-02-15\",\"2021-02-16\",\"2021-02-17\",\"2021-02-18\",\"2021-02-19\",\"2021-02-20\",\"2021-02-21\",\"2021-02-22\",\"2021-02-23\",\"2021-02-24\",\"2021-02-25\",\"2021-02-26\",\"2021-02-27\",\"2021-02-28\",\"2021-03-01\",\"2021-03-02\",\"2021-03-03\",\"2021-03-04\",\"2021-03-05\",\"2021-03-06\",\"2021-03-07\",\"2021-03-08\",\"2021-03-09\",\"2021-03-10\",\"2021-03-11\",\"2021-03-12\",\"2021-03-13\",\"2021-03-14\",\"2021-03-15\",\"2021-03-16\",\"2021-03-17\",\"2021-03-18\",\"2021-03-19\",\"2021-03-20\",\"2021-03-21\",\"2021-03-22\",\"2021-03-23\",\"2021-03-24\",\"2021-03-25\",\"2021-03-26\",\"2021-03-27\",\"2021-03-28\",\"2021-03-29\",\"2021-03-30\",\"2021-03-31\",\"2021-04-01\",\"2021-04-02\",\"2021-04-03\",\"2021-04-04\",\"2021-04-05\",\"2021-04-06\",\"2021-04-07\",\"2021-04-08\",\"2021-04-09\",\"2021-04-10\",\"2021-04-11\",\"2021-04-12\",\"2021-04-13\",\"2021-04-14\",\"2021-04-15\",\"2021-04-16\",\"2021-04-17\",\"2021-04-18\",\"2021-04-19\",\"2021-04-20\",\"2021-04-21\",\"2021-04-22\",\"2021-04-23\",\"2021-04-24\",\"2021-04-25\",\"2021-04-26\",\"2021-04-27\",\"2021-04-28\",\"2021-04-29\",\"2021-04-30\",\"2021-05-01\",\"2021-05-02\",\"2021-05-03\",\"2021-05-04\",\"2021-05-05\",\"2021-05-06\",\"2021-05-07\",\"2021-05-08\",\"2021-05-09\",\"2021-05-10\",\"2021-05-11\",\"2021-05-12\",\"2021-05-13\",\"2021-05-14\",\"2021-05-15\",\"2021-05-16\",\"2021-05-17\",\"2021-05-18\",\"2021-05-19\",\"2021-05-20\",\"2021-05-21\",\"2021-05-22\",\"2021-05-23\",\"2021-05-24\",\"2021-05-25\",\"2021-05-26\",\"2021-05-27\",\"2021-05-28\",\"2021-05-29\",\"2021-05-30\",\"2021-05-31\",\"2021-06-01\",\"2021-06-02\",\"2021-06-03\",\"2021-06-04\",\"2021-06-05\",\"2021-06-06\",\"2021-06-07\",\"2021-06-08\",\"2021-06-09\",\"2021-06-10\",\"2021-06-11\",\"2021-06-12\",\"2021-06-13\",\"2021-06-14\",\"2021-06-15\",\"2021-06-16\",\"2021-06-17\",\"2021-06-18\",\"2021-06-19\",\"2021-06-20\",\"2021-06-21\",\"2021-06-22\",\"2021-06-23\",\"2021-06-24\",\"2021-06-25\",\"2021-06-26\",\"2021-06-27\",\"2021-06-28\",\"2021-06-29\",\"2021-06-30\",\"2021-07-01\",\"2021-07-02\",\"2021-07-03\",\"2021-07-04\",\"2021-07-05\",\"2021-07-06\",\"2021-07-07\",\"2021-07-08\",\"2021-07-09\",\"2021-07-10\",\"2021-07-11\",\"2021-07-12\",\"2021-07-13\",\"2021-07-14\",\"2021-07-15\",\"2021-07-16\",\"2021-07-17\",\"2021-07-18\",\"2021-07-19\",\"2021-07-20\",\"2021-07-21\",\"2021-07-22\",\"2021-07-23\",\"2021-07-24\",\"2021-07-25\",\"2021-07-26\",\"2021-07-27\",\"2021-07-28\",\"2021-07-29\",\"2021-07-30\",\"2021-07-31\",\"2021-08-01\",\"2021-08-02\",\"2021-08-03\",\"2021-08-04\",\"2021-08-05\",\"2021-08-06\",\"2021-08-07\",\"2021-08-08\",\"2021-08-09\",\"2021-08-10\",\"2021-08-11\",\"2021-08-12\",\"2021-08-13\",\"2021-08-14\",\"2021-08-15\",\"2021-08-16\",\"2021-08-17\",\"2021-08-18\",\"2021-08-19\",\"2021-08-20\",\"2021-08-21\",\"2021-08-22\",\"2021-08-23\",\"2021-08-24\",\"2021-08-25\",\"2021-08-26\",\"2021-08-27\",\"2021-08-28\",\"2021-08-29\",\"2021-08-30\",\"2021-08-31\",\"2021-09-01\",\"2021-09-02\",\"2021-09-03\",\"2021-09-04\",\"2021-09-05\",\"2021-09-06\",\"2021-09-07\",\"2021-09-08\",\"2021-09-09\",\"2021-09-10\",\"2021-09-11\",\"2021-09-12\",\"2021-09-13\",\"2021-09-14\",\"2021-09-15\",\"2021-09-16\",\"2021-09-17\",\"2021-09-18\",\"2021-09-19\",\"2021-09-20\",\"2021-09-21\",\"2021-09-22\",\"2021-09-23\",\"2021-09-24\",\"2021-09-25\",\"2021-09-26\",\"2021-09-27\",\"2021-09-28\",\"2021-09-29\",\"2021-09-30\",\"2021-10-01\",\"2021-10-02\",\"2021-10-03\",\"2021-10-04\",\"2021-10-05\",\"2021-10-06\",\"2021-10-07\",\"2021-10-08\",\"2021-10-09\",\"2021-10-10\",\"2021-10-11\",\"2021-10-12\",\"2021-10-13\",\"2021-10-14\",\"2021-10-15\",\"2021-10-16\",\"2021-10-17\",\"2021-10-18\",\"2021-10-19\",\"2021-10-20\",\"2021-10-21\",\"2021-10-22\",\"2021-10-23\",\"2021-10-24\",\"2021-10-25\",\"2021-10-26\",\"2021-10-27\",\"2021-10-28\",\"2021-10-29\",\"2021-10-30\",\"2021-10-31\",\"2021-11-01\",\"2021-11-02\",\"2021-11-03\",\"2021-11-04\",\"2021-11-05\",\"2021-11-06\",\"2021-11-07\",\"2021-11-08\",\"2021-11-09\",\"2021-11-10\",\"2021-11-11\",\"2021-11-12\",\"2021-11-13\",\"2021-11-14\",\"2021-11-15\",\"2021-11-16\",\"2021-11-17\",\"2021-11-18\",\"2021-11-19\",\"2021-11-20\",\"2021-11-21\",\"2021-11-22\",\"2021-11-23\",\"2021-11-24\",\"2021-11-25\",\"2021-11-26\",\"2021-11-27\",\"2021-11-28\",\"2021-11-29\",\"2021-11-30\",\"2021-12-01\",\"2021-12-02\",\"2021-12-03\",\"2021-12-04\",\"2021-12-05\",\"2021-12-06\",\"2021-12-07\",\"2021-12-08\",\"2021-12-09\",\"2021-12-10\",\"2021-12-11\",\"2021-12-12\",\"2021-12-13\",\"2021-12-14\",\"2021-12-15\",\"2021-12-16\",\"2021-12-17\",\"2021-12-18\",\"2021-12-19\",\"2021-12-20\",\"2021-12-21\",\"2021-12-22\",\"2021-12-23\",\"2021-12-24\",\"2021-12-25\",\"2021-12-26\",\"2021-12-27\",\"2021-12-28\",\"2021-12-29\",\"2021-12-30\",\"2021-12-31\",\"2022-01-01\",\"2022-01-02\",\"2022-01-03\",\"2022-01-04\",\"2022-01-05\",\"2022-01-06\",\"2022-01-07\",\"2022-01-08\",\"2022-01-09\",\"2022-01-10\",\"2022-01-11\",\"2022-01-12\",\"2022-01-13\",\"2022-01-14\",\"2022-01-15\",\"2022-01-16\",\"2022-01-17\",\"2022-01-18\",\"2022-01-19\",\"2022-01-20\",\"2022-01-21\",\"2022-01-22\",\"2022-01-23\",\"2022-01-24\",\"2022-01-25\",\"2022-01-26\",\"2022-01-27\",\"2022-01-28\",\"2022-01-29\",\"2022-01-30\",\"2022-01-31\",\"2022-02-01\",\"2022-02-02\",\"2022-02-03\",\"2022-02-04\",\"2022-02-05\",\"2022-02-06\",\"2022-02-07\",\"2022-02-08\",\"2022-02-09\",\"2022-02-10\",\"2022-02-11\",\"2022-02-12\",\"2022-02-13\",\"2022-02-14\",\"2022-02-15\",\"2022-02-16\",\"2022-02-17\",\"2022-02-18\",\"2022-02-19\",\"2022-02-20\",\"2022-02-21\",\"2022-02-22\",\"2022-02-23\",\"2022-02-24\",\"2022-02-25\",\"2022-02-26\",\"2022-02-27\",\"2022-02-28\",\"2022-03-01\",\"2022-03-02\",\"2022-03-03\",\"2022-03-04\",\"2022-03-05\",\"2022-03-06\",\"2022-03-07\",\"2022-03-08\",\"2022-03-09\",\"2022-03-10\",\"2022-03-11\",\"2022-03-12\",\"2022-03-13\",\"2022-03-14\",\"2022-03-15\",\"2022-03-16\",\"2022-03-17\",\"2022-03-18\",\"2022-03-19\",\"2022-03-20\",\"2022-03-21\",\"2022-03-22\",\"2022-03-23\",\"2022-03-24\",\"2022-03-25\",\"2022-03-26\",\"2022-03-27\",\"2022-03-28\",\"2022-03-29\",\"2022-03-30\",\"2022-03-31\",\"2022-04-01\",\"2022-04-02\",\"2022-04-03\",\"2022-04-04\",\"2022-04-05\",\"2022-04-06\",\"2022-04-07\",\"2022-04-08\",\"2022-04-09\",\"2022-04-10\",\"2022-04-11\",\"2022-04-12\",\"2022-04-13\",\"2022-04-14\",\"2022-04-15\",\"2022-04-16\",\"2022-04-17\",\"2022-04-18\",\"2022-04-19\",\"2022-04-20\",\"2022-04-21\",\"2022-04-22\",\"2022-04-23\",\"2022-04-24\",\"2022-04-25\",\"2022-04-26\",\"2022-04-27\",\"2022-04-28\",\"2022-04-29\",\"2022-04-30\",\"2022-05-01\",\"2022-05-02\",\"2022-05-03\",\"2022-05-04\",\"2022-05-05\",\"2022-05-06\",\"2022-05-07\",\"2022-05-08\",\"2022-05-09\",\"2022-05-10\",\"2022-05-11\",\"2022-05-12\",\"2022-05-13\",\"2022-05-14\",\"2022-05-15\",\"2022-05-16\",\"2022-05-17\",\"2022-05-18\",\"2022-05-19\",\"2022-05-20\",\"2022-05-21\",\"2022-05-22\",\"2022-05-23\",\"2022-05-24\",\"2022-05-25\",\"2022-05-26\",\"2022-05-27\",\"2022-05-28\",\"2022-05-29\",\"2022-05-30\",\"2022-05-31\",\"2022-06-01\",\"2022-06-02\",\"2022-06-03\",\"2022-06-04\",\"2022-06-05\",\"2022-06-06\",\"2022-06-07\",\"2022-06-08\",\"2022-06-09\",\"2022-06-10\",\"2022-06-11\",\"2022-06-12\",\"2022-06-13\",\"2022-06-14\",\"2022-06-15\",\"2022-06-16\",\"2022-06-17\",\"2022-06-18\"],\"xaxis\":\"x\",\"y\":[null,0.0,1.0,0.0,3.0,0.0,0.0,1.0,0.0,2.0,0.0,0.0,3.0,0.0,0.0,1.0,0.0,0.0,0.0,0.0,1.0,0.0,1.0,0.0,0.0,0.0,0.0,0.0,0.0,0.0,2.0,0.0,0.0,0.0,0.0,0.0,1.0,0.0,8.0,7.0,23.0,19.0,33.0,77.0,53.0,166.0,116.0,75.0,188.0,365.0,439.0,633.0,759.0,234.0,1467.0,1833.0,2657.0,4494.0,6367.0,5995.0,8919.0,11152.0,10618.0,12127.0,17821.0,18591.0,22164.0,16127.0,22154.0,26381.0,31175.0,32276.0,32401.0,31845.0,29240.0,31782.0,30036.0,31063.0,35610.0,34283.0,28924.0,26308.0,27143.0,28328.0,25897.0,29638.0,33107.0,27329.0,25422.0,30084.0,26075.0,29881.0,31965.0,31965.0,30914.0,25971.0,24650.0,24573.0,26852.0,29702.0,34892.0,26764.0,23733.0,23802.0,24019.0,24482.0,27739.0,27183.0,24454.0,18747.0,19077.0,23382.0,20015.0,25890.0,24851.0,24050.0,18729.0,22308.0,20503.0,22826.0,25152.0,23829.0,20189.0,20174.0,19094.0,18726.0,18763.0,21267.0,25082.0,23080.0,18919.0,17840.0,20090.0,19156.0,27934.0,26440.0,20269.0,17826.0,16900.0,20321.0,21718.0,22278.0,25558.0,24157.0,18901.0,20999.0,24549.0,27050.0,28227.0,31054.0,31826.0,25836.0,29801.0,38729.0,36251.0,39299.0,49046.0,40754.0,42925.0,41295.0,49824.0,49123.0,54943.0,51504.0,45946.0,53728.0,43165.0,57231.0,60306.0,59656.0,68859.0,60439.0,60132.0,59364.0,65662.0,66026.0,70814.0,66472.0,64322.0,58932.0,60663.0,68194.0,67545.0,67886.0,75147.0,64200.0,55839.0,59724.0,64830.0,64128.0,69241.0,64576.0,57578.0,47109.0,41684.0,61657.0,54348.0,60180.0,60587.0,63933.0,54267.0,51617.0,56955.0,55244.0,51656.0,70125.0,52395.0,34662.0,37849.0,44902.0,45884.0,45128.0,47591.0,45673.0,31911.0,33923.0,42673.0,42073.0,50518.0,46470.0,43103.0,34131.0,33362.0,41978.0,39961.0,45141.0,48334.0,43623.0,29119.0,24563.0,26744.0,33638.0,39448.0,44623.0,45583.0,40291.0,32564.0,37178.0,38292.0,45319.0,50184.0,45778.0,41610.0,32043.0,38271.0,41120.0,48883.0,47136.0,43547.0,33779.0,37740.0,42033.0,38631.0,46244.0,53443.0,49281.0,33131.0,37357.0,44545.0,49137.0,57890.0,55079.0,55366.0,46900.0,42080.0,50123.0,58442.0,63537.0,70174.0,54832.0,52170.0,67882.0,61737.0,60706.0,79622.0,81660.0,78375.0,60975.0,64564.0,77223.0,86477.0,91293.0,99849.0,87343.0,77830.0,81807.0,124766.0,100262.0,128081.0,127056.0,127064.0,119673.0,116956.0,136552.0,147682.0,158796.0,179518.0,164050.0,139715.0,153088.0,164647.0,171969.0,192301.0,201669.0,179820.0,146587.0,181512.0,173562.0,180212.0,117251.0,214634.0,168224.0,140352.0,154914.0,197116.0,196163.0,220222.0,235370.0,222010.0,179324.0,195460.0,227057.0,216007.0,236944.0,238902.0,224535.0,191597.0,209828.0,226315.0,234804.0,240246.0,247946.0,205851.0,187195.0,196858.0,205930.0,221441.0,212948.0,127178.0,217440.0,135961.0,173302.0,205972.0,218297.0,315088.0,178902.0,272279.0,203401.0,185502.0,232863.0,259761.0,286244.0,304066.0,264738.0,210843.0,203964.0,221813.0,229330.0,235578.0,244998.0,217689.0,176554.0,140828.0,156895.0,187382.0,192553.0,191775.0,178175.0,140144.0,129600.0,151008.0,155456.0,166760.0,163743.0,150940.0,112858.0,125314.0,117030.0,124372.0,125029.0,131111.0,116860.0,89429.0,82799.0,95381.0,95283.0,106772.0,100580.0,90758.0,68308.0,55448.0,59222.0,68845.0,72580.0,75158.0,73783.0,55265.0,55483.0,73860.0,75025.0,77279.0,75420.0,71289.0,51764.0,50440.0,58418.0,67051.0,68943.0,67879.0,61031.0,41611.0,44092.0,55503.0,57772.0,61790.0,62603.0,56820.0,39274.0,51033.0,54067.0,59274.0,62390.0,61632.0,58867.0,35378.0,47424.0,52858.0,87757.0,67627.0,76371.0,64055.0,46320.0,65872.0,61690.0,69530.0,76856.0,74024.0,64880.0,37923.0,67087.0,62826.0,75777.0,80066.0,84753.0,70535.0,47456.0,62183.0,80841.0,75604.0,73982.0,83473.0,55487.0,43829.0,58546.0,62440.0,64346.0,66719.0,62895.0,54972.0,34769.0,42287.0,52282.0,55186.0,58826.0,58102.0,48776.0,30556.0,44622.0,42895.0,46043.0,46179.0,48415.0,35655.0,22870.0,32376.0,35478.0,36151.0,38736.0,42217.0,30757.0,17692.0,25243.0,28915.0,29605.0,30217.0,28825.0,21213.0,13784.0,21872.0,24590.0,24596.0,26841.0,22242.0,13311.0,7354.0,6275.0,20853.0,16713.0,18396.0,17865.0,15604.0,6016.0,14070.0,13039.0,18565.0,14781.0,25151.0,9160.0,5270.0,11786.0,10729.0,11908.0,11763.0,21182.0,9052.0,4956.0,10554.0,10796.0,12665.0,14476.0,24603.0,9369.0,4622.0,13583.0,7477.0,15351.0,15120.0,29757.0,5414.0,4285.0,8902.0,22282.0,20176.0,20865.0,47592.0,10119.0,11747.0,29423.0,26531.0,31125.0,31961.0,78109.0,14102.0,20329.0,48843.0,39726.0,47736.0,56526.0,120802.0,28744.0,27972.0,79372.0,65003.0,73576.0,72545.0,191445.0,43891.0,44569.0,108360.0,97754.0,102446.0,109687.0,251896.0,63006.0,34876.0,159787.0,117801.0,154452.0,144086.0,226806.0,73067.0,46788.0,194355.0,150591.0,167602.0,155221.0,239074.0,92196.0,44203.0,208225.0,154460.0,178982.0,183771.0,238672.0,78889.0,52011.0,229214.0,179961.0,190517.0,179135.0,235444.0,85908.0,63505.0,93739.0,209170.0,176927.0,166418.0,242009.0,89131.0,48352.0,210779.0,145404.0,173253.0,158777.0,210862.0,74973.0,44871.0,171802.0,121738.0,131352.0,129169.0,174766.0,60495.0,54317.0,155946.0,112752.0,121389.0,110386.0,154830.0,48205.0,44778.0,142915.0,95233.0,112173.0,101526.0,131415.0,38827.0,39670.0,96064.0,110606.0,108464.0,86947.0,109480.0,39784.0,31657.0,98951.0,81917.0,91620.0,78082.0,95952.0,32420.0,19170.0,112572.0,66657.0,102563.0,75096.0,95106.0,34295.0,32326.0,113254.0,68748.0,85594.0,81438.0,96858.0,34861.0,36828.0,110750.0,78359.0,95070.0,57644.0,143511.0,43952.0,31912.0,134036.0,87271.0,112847.0,109827.0,126875.0,45361.0,39832.0,144616.0,91345.0,111580.0,39319.0,53421.0,26539.0,43149.0,186293.0,117105.0,137114.0,138851.0,158612.0,66341.0,55184.0,177686.0,113260.0,149912.0,124531.0,158210.0,56588.0,52309.0,185486.0,112821.0,145846.0,141731.0,192654.0,79760.0,89199.0,240041.0,179413.0,243742.0,269760.0,248520.0,86655.0,178387.0,500568.0,362033.0,502107.0,590698.0,513620.0,188763.0,285957.0,1044955.0,812218.0,662605.0,835022.0,869760.0,397694.0,485025.0,1383898.0,787395.0,848637.0,861345.0,880060.0,408314.0,479802.0,675132.0,1129513.0,908127.0,732597.0,841088.0,302500.0,365446.0,922152.0,493085.0,624058.0,506258.0,614074.0,178619.0,197961.0,542240.0,325409.0,329538.0,274803.0,354969.0,86429.0,83476.0,346437.0,214368.0,188406.0,171409.0,209315.0,51865.0,58321.0,170180.0,111170.0,114817.0,101689.0,145170.0,31407.0,23004.0,82887.0,89332.0,85136.0,67071.0,74372.0,47412.0,18220.0,98914.0,46707.0,53402.0,48608.0,51260.0,14920.0,12395.0,64080.0,29754.0,37699.0,46577.0,49709.0,10218.0,11050.0,35384.0,24375.0,46129.0,53172.0,31360.0,10879.0,11451.0,42274.0,24562.0,41013.0,42994.0,46435.0,9434.0,11790.0,38970.0,24181.0,39182.0,45633.0,32218.0,11806.0,4755.0,28904.0,25603.0,40947.0,50635.0,75022.0,12712.0,9531.0,40341.0,35737.0,55386.0,50658.0,35442.0,12335.0,7504.0,61387.0,39259.0,68937.0,61695.0,90052.0,19729.0,13488.0,70202.0,45349.0,90014.0,77353.0,61189.0,23979.0,16702.0,94704.0,49589.0,112024.0,88549.0,128761.0,27820.0,5763.0,130010.0,70244.0,160183.0,113981.0,87373.0,17057.0,32110.0,178708.0,84590.0,203754.0,135154.0,149034.0,26930.0,19582.0,142457.0,83004.0,210049.0,145447.0,107963.0,12682.0,5768.0,60911.0,169782.0,227078.0,121389.0,157059.0,26156.0,14456.0,161130.0,85407.0,198002.0,141914.0,106317.0,33349.0,9352.0,150911.0,92072.0,182778.0,116445.0,158683.0,14564.0],\"yaxis\":\"y\",\"type\":\"scattergl\"}],                        {\"template\":{\"data\":{\"histogram2dcontour\":[{\"type\":\"histogram2dcontour\",\"colorbar\":{\"outlinewidth\":0,\"ticks\":\"\"},\"colorscale\":[[0.0,\"#0d0887\"],[0.1111111111111111,\"#46039f\"],[0.2222222222222222,\"#7201a8\"],[0.3333333333333333,\"#9c179e\"],[0.4444444444444444,\"#bd3786\"],[0.5555555555555556,\"#d8576b\"],[0.6666666666666666,\"#ed7953\"],[0.7777777777777778,\"#fb9f3a\"],[0.8888888888888888,\"#fdca26\"],[1.0,\"#f0f921\"]]}],\"choropleth\":[{\"type\":\"choropleth\",\"colorbar\":{\"outlinewidth\":0,\"ticks\":\"\"}}],\"histogram2d\":[{\"type\":\"histogram2d\",\"colorbar\":{\"outlinewidth\":0,\"ticks\":\"\"},\"colorscale\":[[0.0,\"#0d0887\"],[0.1111111111111111,\"#46039f\"],[0.2222222222222222,\"#7201a8\"],[0.3333333333333333,\"#9c179e\"],[0.4444444444444444,\"#bd3786\"],[0.5555555555555556,\"#d8576b\"],[0.6666666666666666,\"#ed7953\"],[0.7777777777777778,\"#fb9f3a\"],[0.8888888888888888,\"#fdca26\"],[1.0,\"#f0f921\"]]}],\"heatmap\":[{\"type\":\"heatmap\",\"colorbar\":{\"outlinewidth\":0,\"ticks\":\"\"},\"colorscale\":[[0.0,\"#0d0887\"],[0.1111111111111111,\"#46039f\"],[0.2222222222222222,\"#7201a8\"],[0.3333333333333333,\"#9c179e\"],[0.4444444444444444,\"#bd3786\"],[0.5555555555555556,\"#d8576b\"],[0.6666666666666666,\"#ed7953\"],[0.7777777777777778,\"#fb9f3a\"],[0.8888888888888888,\"#fdca26\"],[1.0,\"#f0f921\"]]}],\"heatmapgl\":[{\"type\":\"heatmapgl\",\"colorbar\":{\"outlinewidth\":0,\"ticks\":\"\"},\"colorscale\":[[0.0,\"#0d0887\"],[0.1111111111111111,\"#46039f\"],[0.2222222222222222,\"#7201a8\"],[0.3333333333333333,\"#9c179e\"],[0.4444444444444444,\"#bd3786\"],[0.5555555555555556,\"#d8576b\"],[0.6666666666666666,\"#ed7953\"],[0.7777777777777778,\"#fb9f3a\"],[0.8888888888888888,\"#fdca26\"],[1.0,\"#f0f921\"]]}],\"contourcarpet\":[{\"type\":\"contourcarpet\",\"colorbar\":{\"outlinewidth\":0,\"ticks\":\"\"}}],\"contour\":[{\"type\":\"contour\",\"colorbar\":{\"outlinewidth\":0,\"ticks\":\"\"},\"colorscale\":[[0.0,\"#0d0887\"],[0.1111111111111111,\"#46039f\"],[0.2222222222222222,\"#7201a8\"],[0.3333333333333333,\"#9c179e\"],[0.4444444444444444,\"#bd3786\"],[0.5555555555555556,\"#d8576b\"],[0.6666666666666666,\"#ed7953\"],[0.7777777777777778,\"#fb9f3a\"],[0.8888888888888888,\"#fdca26\"],[1.0,\"#f0f921\"]]}],\"surface\":[{\"type\":\"surface\",\"colorbar\":{\"outlinewidth\":0,\"ticks\":\"\"},\"colorscale\":[[0.0,\"#0d0887\"],[0.1111111111111111,\"#46039f\"],[0.2222222222222222,\"#7201a8\"],[0.3333333333333333,\"#9c179e\"],[0.4444444444444444,\"#bd3786\"],[0.5555555555555556,\"#d8576b\"],[0.6666666666666666,\"#ed7953\"],[0.7777777777777778,\"#fb9f3a\"],[0.8888888888888888,\"#fdca26\"],[1.0,\"#f0f921\"]]}],\"mesh3d\":[{\"type\":\"mesh3d\",\"colorbar\":{\"outlinewidth\":0,\"ticks\":\"\"}}],\"scatter\":[{\"fillpattern\":{\"fillmode\":\"overlay\",\"size\":10,\"solidity\":0.2},\"type\":\"scatter\"}],\"parcoords\":[{\"type\":\"parcoords\",\"line\":{\"colorbar\":{\"outlinewidth\":0,\"ticks\":\"\"}}}],\"scatterpolargl\":[{\"type\":\"scatterpolargl\",\"marker\":{\"colorbar\":{\"outlinewidth\":0,\"ticks\":\"\"}}}],\"bar\":[{\"error_x\":{\"color\":\"#2a3f5f\"},\"error_y\":{\"color\":\"#2a3f5f\"},\"marker\":{\"line\":{\"color\":\"#E5ECF6\",\"width\":0.5},\"pattern\":{\"fillmode\":\"overlay\",\"size\":10,\"solidity\":0.2}},\"type\":\"bar\"}],\"scattergeo\":[{\"type\":\"scattergeo\",\"marker\":{\"colorbar\":{\"outlinewidth\":0,\"ticks\":\"\"}}}],\"scatterpolar\":[{\"type\":\"scatterpolar\",\"marker\":{\"colorbar\":{\"outlinewidth\":0,\"ticks\":\"\"}}}],\"histogram\":[{\"marker\":{\"pattern\":{\"fillmode\":\"overlay\",\"size\":10,\"solidity\":0.2}},\"type\":\"histogram\"}],\"scattergl\":[{\"type\":\"scattergl\",\"marker\":{\"colorbar\":{\"outlinewidth\":0,\"ticks\":\"\"}}}],\"scatter3d\":[{\"type\":\"scatter3d\",\"line\":{\"colorbar\":{\"outlinewidth\":0,\"ticks\":\"\"}},\"marker\":{\"colorbar\":{\"outlinewidth\":0,\"ticks\":\"\"}}}],\"scattermapbox\":[{\"type\":\"scattermapbox\",\"marker\":{\"colorbar\":{\"outlinewidth\":0,\"ticks\":\"\"}}}],\"scatterternary\":[{\"type\":\"scatterternary\",\"marker\":{\"colorbar\":{\"outlinewidth\":0,\"ticks\":\"\"}}}],\"scattercarpet\":[{\"type\":\"scattercarpet\",\"marker\":{\"colorbar\":{\"outlinewidth\":0,\"ticks\":\"\"}}}],\"carpet\":[{\"aaxis\":{\"endlinecolor\":\"#2a3f5f\",\"gridcolor\":\"white\",\"linecolor\":\"white\",\"minorgridcolor\":\"white\",\"startlinecolor\":\"#2a3f5f\"},\"baxis\":{\"endlinecolor\":\"#2a3f5f\",\"gridcolor\":\"white\",\"linecolor\":\"white\",\"minorgridcolor\":\"white\",\"startlinecolor\":\"#2a3f5f\"},\"type\":\"carpet\"}],\"table\":[{\"cells\":{\"fill\":{\"color\":\"#EBF0F8\"},\"line\":{\"color\":\"white\"}},\"header\":{\"fill\":{\"color\":\"#C8D4E3\"},\"line\":{\"color\":\"white\"}},\"type\":\"table\"}],\"barpolar\":[{\"marker\":{\"line\":{\"color\":\"#E5ECF6\",\"width\":0.5},\"pattern\":{\"fillmode\":\"overlay\",\"size\":10,\"solidity\":0.2}},\"type\":\"barpolar\"}],\"pie\":[{\"automargin\":true,\"type\":\"pie\"}]},\"layout\":{\"autotypenumbers\":\"strict\",\"colorway\":[\"#636efa\",\"#EF553B\",\"#00cc96\",\"#ab63fa\",\"#FFA15A\",\"#19d3f3\",\"#FF6692\",\"#B6E880\",\"#FF97FF\",\"#FECB52\"],\"font\":{\"color\":\"#2a3f5f\"},\"hovermode\":\"closest\",\"hoverlabel\":{\"align\":\"left\"},\"paper_bgcolor\":\"white\",\"plot_bgcolor\":\"#E5ECF6\",\"polar\":{\"bgcolor\":\"#E5ECF6\",\"angularaxis\":{\"gridcolor\":\"white\",\"linecolor\":\"white\",\"ticks\":\"\"},\"radialaxis\":{\"gridcolor\":\"white\",\"linecolor\":\"white\",\"ticks\":\"\"}},\"ternary\":{\"bgcolor\":\"#E5ECF6\",\"aaxis\":{\"gridcolor\":\"white\",\"linecolor\":\"white\",\"ticks\":\"\"},\"baxis\":{\"gridcolor\":\"white\",\"linecolor\":\"white\",\"ticks\":\"\"},\"caxis\":{\"gridcolor\":\"white\",\"linecolor\":\"white\",\"ticks\":\"\"}},\"coloraxis\":{\"colorbar\":{\"outlinewidth\":0,\"ticks\":\"\"}},\"colorscale\":{\"sequential\":[[0.0,\"#0d0887\"],[0.1111111111111111,\"#46039f\"],[0.2222222222222222,\"#7201a8\"],[0.3333333333333333,\"#9c179e\"],[0.4444444444444444,\"#bd3786\"],[0.5555555555555556,\"#d8576b\"],[0.6666666666666666,\"#ed7953\"],[0.7777777777777778,\"#fb9f3a\"],[0.8888888888888888,\"#fdca26\"],[1.0,\"#f0f921\"]],\"sequentialminus\":[[0.0,\"#0d0887\"],[0.1111111111111111,\"#46039f\"],[0.2222222222222222,\"#7201a8\"],[0.3333333333333333,\"#9c179e\"],[0.4444444444444444,\"#bd3786\"],[0.5555555555555556,\"#d8576b\"],[0.6666666666666666,\"#ed7953\"],[0.7777777777777778,\"#fb9f3a\"],[0.8888888888888888,\"#fdca26\"],[1.0,\"#f0f921\"]],\"diverging\":[[0,\"#8e0152\"],[0.1,\"#c51b7d\"],[0.2,\"#de77ae\"],[0.3,\"#f1b6da\"],[0.4,\"#fde0ef\"],[0.5,\"#f7f7f7\"],[0.6,\"#e6f5d0\"],[0.7,\"#b8e186\"],[0.8,\"#7fbc41\"],[0.9,\"#4d9221\"],[1,\"#276419\"]]},\"xaxis\":{\"gridcolor\":\"white\",\"linecolor\":\"white\",\"ticks\":\"\",\"title\":{\"standoff\":15},\"zerolinecolor\":\"white\",\"automargin\":true,\"zerolinewidth\":2},\"yaxis\":{\"gridcolor\":\"white\",\"linecolor\":\"white\",\"ticks\":\"\",\"title\":{\"standoff\":15},\"zerolinecolor\":\"white\",\"automargin\":true,\"zerolinewidth\":2},\"scene\":{\"xaxis\":{\"backgroundcolor\":\"#E5ECF6\",\"gridcolor\":\"white\",\"linecolor\":\"white\",\"showbackground\":true,\"ticks\":\"\",\"zerolinecolor\":\"white\",\"gridwidth\":2},\"yaxis\":{\"backgroundcolor\":\"#E5ECF6\",\"gridcolor\":\"white\",\"linecolor\":\"white\",\"showbackground\":true,\"ticks\":\"\",\"zerolinecolor\":\"white\",\"gridwidth\":2},\"zaxis\":{\"backgroundcolor\":\"#E5ECF6\",\"gridcolor\":\"white\",\"linecolor\":\"white\",\"showbackground\":true,\"ticks\":\"\",\"zerolinecolor\":\"white\",\"gridwidth\":2}},\"shapedefaults\":{\"line\":{\"color\":\"#2a3f5f\"}},\"annotationdefaults\":{\"arrowcolor\":\"#2a3f5f\",\"arrowhead\":0,\"arrowwidth\":1},\"geo\":{\"bgcolor\":\"white\",\"landcolor\":\"#E5ECF6\",\"subunitcolor\":\"white\",\"showland\":true,\"showlakes\":true,\"lakecolor\":\"white\"},\"title\":{\"x\":0.05},\"mapbox\":{\"style\":\"light\"}}},\"xaxis\":{\"anchor\":\"y\",\"domain\":[0.0,1.0],\"title\":{\"text\":\"date\"}},\"yaxis\":{\"anchor\":\"x\",\"domain\":[0.0,1.0],\"title\":{\"text\":\"new_cases\"}},\"legend\":{\"title\":{\"text\":\"location\"},\"tracegroupgap\":0},\"title\":{\"text\":\"Number of new cases of COVID-19 over time for Poland and the United States\"},\"height\":400},                        {\"responsive\": true}                    ).then(function(){\n",
       "                            \n",
       "var gd = document.getElementById('20eef086-fbdc-4f72-8e6c-d3d0e18f753d');\n",
       "var x = new MutationObserver(function (mutations, observer) {{\n",
       "        var display = window.getComputedStyle(gd).display;\n",
       "        if (!display || display === 'none') {{\n",
       "            console.log([gd, 'removed!']);\n",
       "            Plotly.purge(gd);\n",
       "            observer.disconnect();\n",
       "        }}\n",
       "}});\n",
       "\n",
       "// Listen for the removal of the full notebook cells\n",
       "var notebookContainer = gd.closest('#notebook-container');\n",
       "if (notebookContainer) {{\n",
       "    x.observe(notebookContainer, {childList: true});\n",
       "}}\n",
       "\n",
       "// Listen for the clearing of the current output cell\n",
       "var outputEl = gd.closest('.output');\n",
       "if (outputEl) {{\n",
       "    x.observe(outputEl, {childList: true});\n",
       "}}\n",
       "\n",
       "                        })                };                });            </script>        </div>"
      ]
     },
     "metadata": {},
     "output_type": "display_data"
    }
   ],
   "source": [
    "fig = px.line(\n",
    "  df_filtered4,\n",
    "  x=\"date\",\n",
    "  y=\"new_cases\",\n",
    "  color=\"location\",\n",
    "  title='Number of new cases of COVID-19 over time for Poland and the United States',\n",
    "  color_discrete_sequence=px.colors.qualitative.Pastel,\n",
    "  height = 400,\n",
    ")\n",
    "fig.show()\n"
   ]
  },
  {
   "cell_type": "markdown",
   "metadata": {
    "id": "p6BM6gF9TqLk"
   },
   "source": [
    "## Map 1"
   ]
  },
  {
   "cell_type": "code",
   "execution_count": 161,
   "metadata": {
    "executionInfo": {
     "elapsed": 247,
     "status": "ok",
     "timestamp": 1708256070762,
     "user": {
      "displayName": "Astarte",
      "userId": "15697340223878132473"
     },
     "user_tz": -60
    },
    "id": "HT9ZkoWeUlNA",
    "tags": []
   },
   "outputs": [],
   "source": [
    "df_2 = df.groupby('location').max()\n",
    "df_2['cases_per_person'] = df_2['total_cases'] / df_2['population']"
   ]
  },
  {
   "cell_type": "code",
   "execution_count": 162,
   "metadata": {
    "executionInfo": {
     "elapsed": 3,
     "status": "ok",
     "timestamp": 1708256071789,
     "user": {
      "displayName": "Astarte",
      "userId": "15697340223878132473"
     },
     "user_tz": -60
    },
    "id": "V-IICSmiUrjs",
    "tags": []
   },
   "outputs": [],
   "source": [
    "df3 = df_2[df_2['total_cases'].notnull()]\n",
    "df3 = df3.reset_index()"
   ]
  },
  {
   "cell_type": "code",
   "execution_count": 50,
   "metadata": {
    "executionInfo": {
     "elapsed": 1,
     "status": "ok",
     "timestamp": 1708256072823,
     "user": {
      "displayName": "Astarte",
      "userId": "15697340223878132473"
     },
     "user_tz": -60
    },
    "id": "oHjybHiAMMv8",
    "tags": []
   },
   "outputs": [],
   "source": [
    "my_mapbox_token = 'paste-token-here'\n",
    "px.set_mapbox_access_token(my_mapbox_token)"
   ]
  },
  {
   "cell_type": "code",
   "execution_count": 53,
   "metadata": {
    "colab": {
     "base_uri": "https://localhost:8080/",
     "height": 542
    },
    "executionInfo": {
     "elapsed": 284,
     "status": "ok",
     "timestamp": 1708256084231,
     "user": {
      "displayName": "Astarte",
      "userId": "15697340223878132473"
     },
     "user_tz": -60
    },
    "id": "ChcIGdajMcw2",
    "outputId": "8b94249b-7b39-4340-a821-e9d3c223de45",
    "tags": []
   },
   "outputs": [
    {
     "data": {
      "application/vnd.plotly.v1+json": {
       "config": {
        "plotlyServerURL": "https://plot.ly"
       },
       "data": [
        {
         "customdata": [
          [
           "Afghanistan",
           181574,
           "Asia",
           0.004558103404838527,
           33,
           65
          ],
          [
           "Armenia",
           423044,
           "Asia",
           0.1425288936326196,
           40,
           45
          ],
          [
           "Azerbaijan",
           792985,
           "Asia",
           0.07756610752802605,
           40.5,
           47.5
          ],
          [
           "Bahrain",
           603848,
           "Asia",
           0.34539251098927815,
           26,
           50.55
          ],
          [
           "Bangladesh",
           1955731,
           "Asia",
           0.011760011488393623,
           24,
           90
          ],
          [
           "Bhutan",
           59644,
           "Asia",
           0.0764764713424798,
           27.5,
           90.5
          ],
          [
           "Brunei",
           156452,
           "Asia",
           0.3543389833579446,
           4.5,
           114.6667
          ],
          [
           "Cambodia",
           136262,
           "Asia",
           0.008040741993926043,
           13,
           105
          ],
          [
           "China",
           887201,
           "Asia",
           0.0006143131895367831,
           35,
           105
          ],
          [
           "Georgia",
           1658755,
           "Asia",
           0.41679638512045786,
           42,
           43.5
          ],
          [
           "Hong Kong",
           1225408,
           "Asia",
           0.1622455248384705,
           22.25,
           114.1667
          ],
          [
           "India",
           43296692,
           "Asia",
           0.031072492695689305,
           20,
           77
          ],
          [
           "Indonesia",
           6066908,
           "Asia",
           0.021952774455200733,
           -5,
           120
          ],
          [
           "Iran",
           7234597,
           "Asia",
           0.08508411742097614,
           32,
           53
          ],
          [
           "Iraq",
           2331872,
           "Asia",
           0.05662721590731238,
           33,
           44
          ],
          [
           "Israel",
           4226245,
           "Asia",
           0.4548751479926811,
           31.5,
           34.75
          ],
          [
           "Japan",
           9124454,
           "Asia",
           0.07238711923723194,
           36,
           138
          ],
          [
           "Jordan",
           1697673,
           "Asia",
           0.16531983279420376,
           31,
           36
          ],
          [
           "Kazakhstan",
           1395148,
           "Asia",
           0.07344833297341326,
           48,
           68
          ],
          [
           "Kuwait",
           638708,
           "Asia",
           0.14755693184304317,
           29.3375,
           47.6581
          ],
          [
           "Kyrgyzstan",
           201016,
           "Asia",
           0.03032671644981773,
           41,
           75
          ],
          [
           "Laos",
           210194,
           "Asia",
           0.02848404969646411,
           18,
           105
          ],
          [
           "Lebanon",
           1103264,
           "Asia",
           0.16298410243766168,
           33.8333,
           35.8333
          ],
          [
           "Macao",
           83,
           "Asia",
           0.0001260649067195633,
           22.1667,
           113.55
          ],
          [
           "Malaysia",
           4538922,
           "Asia",
           0.13848227349147757,
           2.5,
           112.5
          ],
          [
           "Maldives",
           179979,
           "Asia",
           0.3310750156359222,
           3.25,
           73
          ],
          [
           "Mongolia",
           926282,
           "Asia",
           0.278222751932699,
           46,
           105
          ],
          [
           "Myanmar",
           613485,
           "Asia",
           0.011193753298679958,
           22,
           98
          ],
          [
           "Nepal",
           979344,
           "Asia",
           0.033002414159835985,
           28,
           84
          ],
          [
           "North Korea",
           1,
           "Asia",
           3.862936074781807e-08,
           40,
           127
          ],
          [
           "Oman",
           389758,
           "Asia",
           0.07461802481766582,
           21,
           57
          ],
          [
           "Pakistan",
           1531982,
           "Asia",
           0.006802764134086384,
           30,
           70
          ],
          [
           "Palestine",
           658100,
           "Asia",
           0.126006269486838,
           32,
           35.25
          ],
          [
           "Philippines",
           3695652,
           "Asia",
           0.033280097573178756,
           13,
           122
          ],
          [
           "Qatar",
           374923,
           "Asia",
           0.12793718802507675,
           25.5,
           51.25
          ],
          [
           "Saudi Arabia",
           783907,
           "Asia",
           0.022181435105379975,
           25,
           45
          ],
          [
           "Singapore",
           1364562,
           "Asia",
           0.2502130702655127,
           1.3667,
           103.8
          ],
          [
           "South Korea",
           18276552,
           "Asia",
           0.3562320719871115,
           37,
           127.5
          ],
          [
           "Sri Lanka",
           663984,
           "Asia",
           0.030886846937937248,
           7,
           81
          ],
          [
           "Syria",
           55913,
           "Asia",
           0.003059417027108778,
           35,
           38
          ],
          [
           "Taiwan",
           3244453,
           "Asia",
           0.13600720653709275,
           23.5,
           121
          ],
          [
           "Tajikistan",
           17786,
           "Asia",
           0.0018242752926394604,
           39,
           71
          ],
          [
           "Thailand",
           4499044,
           "Asia",
           0.06431722253415556,
           15,
           100
          ],
          [
           "Timor",
           22944,
           "Asia",
           0.01707301646358478,
           -8.55,
           125.5167
          ],
          [
           "Turkey",
           15085742,
           "Asia",
           0.17739013006354828,
           39,
           35
          ],
          [
           "United Arab Emirates",
           925898,
           "Asia",
           0.09267243601119118,
           24,
           54
          ],
          [
           "Uzbekistan",
           239525,
           "Asia",
           0.0070581877261349495,
           41,
           64
          ],
          [
           "Vietnam",
           10737107,
           "Asia",
           0.10937389301037705,
           16,
           106
          ],
          [
           "Yemen",
           11823,
           "Asia",
           0.00038775835429359157,
           15,
           48
          ]
         ],
         "hovertemplate": "location=%{customdata[0]}<br>total_cases=%{customdata[1]}<extra></extra>",
         "lat": [
          33,
          40,
          40.5,
          26,
          24,
          27.5,
          4.5,
          13,
          35,
          42,
          22.25,
          20,
          -5,
          32,
          33,
          31.5,
          36,
          31,
          48,
          29.3375,
          41,
          18,
          33.8333,
          22.1667,
          2.5,
          3.25,
          46,
          22,
          28,
          40,
          21,
          30,
          32,
          13,
          25.5,
          25,
          1.3667,
          37,
          7,
          35,
          23.5,
          39,
          15,
          -8.55,
          39,
          24,
          41,
          16,
          15
         ],
         "legendgroup": "Asia",
         "lon": [
          65,
          45,
          47.5,
          50.55,
          90,
          90.5,
          114.6667,
          105,
          105,
          43.5,
          114.1667,
          77,
          120,
          53,
          44,
          34.75,
          138,
          36,
          68,
          47.6581,
          75,
          105,
          35.8333,
          113.55,
          112.5,
          73,
          105,
          98,
          84,
          127,
          57,
          70,
          35.25,
          122,
          51.25,
          45,
          103.8,
          127.5,
          81,
          38,
          121,
          71,
          100,
          125.5167,
          35,
          54,
          64,
          106,
          48
         ],
         "marker": {
          "color": "#636efa",
          "size": [
           0.004558103404838527,
           0.1425288936326196,
           0.07756610752802605,
           0.34539251098927815,
           0.011760011488393623,
           0.0764764713424798,
           0.3543389833579446,
           0.008040741993926043,
           0.0006143131895367831,
           0.41679638512045786,
           0.1622455248384705,
           0.031072492695689305,
           0.021952774455200733,
           0.08508411742097614,
           0.05662721590731238,
           0.4548751479926811,
           0.07238711923723194,
           0.16531983279420376,
           0.07344833297341326,
           0.14755693184304317,
           0.03032671644981773,
           0.02848404969646411,
           0.16298410243766168,
           0.0001260649067195633,
           0.13848227349147757,
           0.3310750156359222,
           0.278222751932699,
           0.011193753298679958,
           0.033002414159835985,
           3.862936074781807e-08,
           0.07461802481766582,
           0.006802764134086384,
           0.126006269486838,
           0.033280097573178756,
           0.12793718802507675,
           0.022181435105379975,
           0.2502130702655127,
           0.3562320719871115,
           0.030886846937937248,
           0.003059417027108778,
           0.13600720653709275,
           0.0018242752926394604,
           0.06431722253415556,
           0.01707301646358478,
           0.17739013006354828,
           0.09267243601119118,
           0.0070581877261349495,
           0.10937389301037705,
           0.00038775835429359157
          ],
          "sizemode": "area",
          "sizeref": 0.0017663547591380752
         },
         "mode": "markers",
         "name": "Asia",
         "showlegend": true,
         "subplot": "mapbox",
         "type": "scattermapbox"
        },
        {
         "customdata": [
          [
           "Albania",
           277141,
           "Europe",
           0.09646619100891284,
           41,
           20
          ],
          [
           "Andorra",
           43449,
           "Europe",
           0.5616904103213797,
           42.5,
           1.6
          ],
          [
           "Austria",
           4349916,
           "Europe",
           0.48102193590850545,
           47.3333,
           13.3333
          ],
          [
           "Belarus",
           982867,
           "Europe",
           0.10408565534175161,
           53,
           28
          ],
          [
           "Belgium",
           4187940,
           "Europe",
           0.36002576954891424,
           50.8333,
           4
          ],
          [
           "Bosnia and Herzegovina",
           378209,
           "Europe",
           0.11589206421775178,
           44,
           18
          ],
          [
           "Bulgaria",
           1168035,
           "Europe",
           0.16936253879598154,
           43,
           25
          ],
          [
           "Croatia",
           1141546,
           "Europe",
           0.27967710172608823,
           45.1667,
           15.5
          ],
          [
           "Cyprus",
           497454,
           "Europe",
           0.5551910982639606,
           35,
           33
          ],
          [
           "Czechia",
           3925291,
           "Europe",
           0.3660097535067429,
           49.75,
           15.5
          ],
          [
           "Denmark",
           3150599,
           "Europe",
           0.541963758290899,
           56,
           10
          ],
          [
           "Estonia",
           578494,
           "Europe",
           0.4365373064048271,
           59,
           26
          ],
          [
           "Faeroe Islands",
           34658,
           "Europe",
           0.7065419036552301,
           62,
           -7
          ],
          [
           "Finland",
           1125342,
           "Europe",
           0.2028242214232275,
           64,
           26
          ],
          [
           "France",
           30139875,
           "Europe",
           0.44703323840882797,
           46,
           2
          ],
          [
           "Germany",
           27204955,
           "Europe",
           0.3242527089031479,
           51,
           9
          ],
          [
           "Gibraltar",
           19010,
           "Europe",
           0.5642456442373334,
           36.1833,
           -5.3667
          ],
          [
           "Greece",
           3539423,
           "Europe",
           0.34128910868233503,
           39,
           22
          ],
          [
           "Hungary",
           1923122,
           "Europe",
           0.19961487049937504,
           47,
           20
          ],
          [
           "Iceland",
           191079,
           "Europe",
           0.5181213258422092,
           65,
           -18
          ],
          [
           "Ireland",
           1578284,
           "Europe",
           0.3167397967129208,
           53,
           -8
          ],
          [
           "Isle of Man",
           33821,
           "Europe",
           0.3959840768059946,
           54.23,
           -4.55
          ],
          [
           "Italy",
           17844905,
           "Europe",
           0.2956046477414964,
           42.8333,
           12.8333
          ],
          [
           "Latvia",
           831727,
           "Europe",
           0.4455042331437533,
           57,
           25
          ],
          [
           "Liechtenstein",
           17653,
           "Europe",
           0.46146808176922677,
           47.1667,
           9.5333
          ],
          [
           "Lithuania",
           1065134,
           "Europe",
           0.3959809090577881,
           56,
           24
          ],
          [
           "Luxembourg",
           254865,
           "Europe",
           0.4014798035330034,
           49.75,
           6.1667
          ],
          [
           "Malta",
           97557,
           "Europe",
           0.18902732028676614,
           35.8333,
           14.5833
          ],
          [
           "Moldova",
           519452,
           "Europe",
           0.12908766719888667,
           47,
           29
          ],
          [
           "Monaco",
           12616,
           "Europe",
           0.3192307692307692,
           43.7333,
           7.4
          ],
          [
           "Montenegro",
           238416,
           "Europe",
           0.3796124836995722,
           42,
           19
          ],
          [
           "Netherlands",
           8132678,
           "Europe",
           0.47357092437740106,
           52.5,
           5.75
          ],
          [
           "North Macedonia",
           312879,
           "Europe",
           0.15023040235544816,
           41.8333,
           22
          ],
          [
           "Norway",
           1439656,
           "Europe",
           0.26340170545787134,
           62,
           10
          ],
          [
           "Poland",
           6011174,
           "Europe",
           0.1590383892901553,
           52,
           20
          ],
          [
           "Portugal",
           5005783,
           "Europe",
           0.49231126160180405,
           39.5,
           -8
          ],
          [
           "Romania",
           2912705,
           "Europe",
           0.15227622955773418,
           46,
           25
          ],
          [
           "Russia",
           18126576,
           "Europe",
           0.1242294894659194,
           60,
           100
          ],
          [
           "San Marino",
           17413,
           "Europe",
           0.5119964716259924,
           43.7667,
           12.4167
          ],
          [
           "Serbia",
           2022252,
           "Europe",
           0.2942935557306091,
           44,
           21
          ],
          [
           "Slovakia",
           2546134,
           "Europe",
           0.4672431353190427,
           48.6667,
           19.5
          ],
          [
           "Slovenia",
           1030354,
           "Europe",
           0.4956668108256848,
           46,
           15
          ],
          [
           "Spain",
           12563399,
           "Europe",
           0.26876333920067236,
           40,
           -4
          ],
          [
           "Sweden",
           2512853,
           "Europe",
           0.24732418065504683,
           62,
           15
          ],
          [
           "Switzerland",
           3701895,
           "Europe",
           0.42474872910244676,
           47,
           8
          ],
          [
           "Ukraine",
           5040518,
           "Europe",
           0.11596242301772143,
           49,
           32
          ],
          [
           "United Kingdom",
           22549766,
           "Europe",
           0.3306072442824659,
           54,
           -2
          ],
          [
           "Vatican",
           29,
           "Europe",
           0.03571428571428571,
           41.9,
           12.45
          ]
         ],
         "hovertemplate": "location=%{customdata[0]}<br>total_cases=%{customdata[1]}<extra></extra>",
         "lat": [
          41,
          42.5,
          47.3333,
          53,
          50.8333,
          44,
          43,
          45.1667,
          35,
          49.75,
          56,
          59,
          62,
          64,
          46,
          51,
          36.1833,
          39,
          47,
          65,
          53,
          54.23,
          42.8333,
          57,
          47.1667,
          56,
          49.75,
          35.8333,
          47,
          43.7333,
          42,
          52.5,
          41.8333,
          62,
          52,
          39.5,
          46,
          60,
          43.7667,
          44,
          48.6667,
          46,
          40,
          62,
          47,
          49,
          54,
          41.9
         ],
         "legendgroup": "Europe",
         "lon": [
          20,
          1.6,
          13.3333,
          28,
          4,
          18,
          25,
          15.5,
          33,
          15.5,
          10,
          26,
          -7,
          26,
          2,
          9,
          -5.3667,
          22,
          20,
          -18,
          -8,
          -4.55,
          12.8333,
          25,
          9.5333,
          24,
          6.1667,
          14.5833,
          29,
          7.4,
          19,
          5.75,
          22,
          10,
          20,
          -8,
          25,
          100,
          12.4167,
          21,
          19.5,
          15,
          -4,
          15,
          8,
          32,
          -2,
          12.45
         ],
         "marker": {
          "color": "#EF553B",
          "size": [
           0.09646619100891284,
           0.5616904103213797,
           0.48102193590850545,
           0.10408565534175161,
           0.36002576954891424,
           0.11589206421775178,
           0.16936253879598154,
           0.27967710172608823,
           0.5551910982639606,
           0.3660097535067429,
           0.541963758290899,
           0.4365373064048271,
           0.7065419036552301,
           0.2028242214232275,
           0.44703323840882797,
           0.3242527089031479,
           0.5642456442373334,
           0.34128910868233503,
           0.19961487049937504,
           0.5181213258422092,
           0.3167397967129208,
           0.3959840768059946,
           0.2956046477414964,
           0.4455042331437533,
           0.46146808176922677,
           0.3959809090577881,
           0.4014798035330034,
           0.18902732028676614,
           0.12908766719888667,
           0.3192307692307692,
           0.3796124836995722,
           0.47357092437740106,
           0.15023040235544816,
           0.26340170545787134,
           0.1590383892901553,
           0.49231126160180405,
           0.15227622955773418,
           0.1242294894659194,
           0.5119964716259924,
           0.2942935557306091,
           0.4672431353190427,
           0.4956668108256848,
           0.26876333920067236,
           0.24732418065504683,
           0.42474872910244676,
           0.11596242301772143,
           0.3306072442824659,
           0.03571428571428571
          ],
          "sizemode": "area",
          "sizeref": 0.0017663547591380752
         },
         "mode": "markers",
         "name": "Europe",
         "showlegend": true,
         "subplot": "mapbox",
         "type": "scattermapbox"
        },
        {
         "customdata": [
          [
           "Algeria",
           265971,
           "Africa",
           0.005961253098788779,
           28,
           3
          ],
          [
           "Angola",
           99761,
           "Africa",
           0.0029398875351049434,
           -12.5,
           18.5
          ],
          [
           "Benin",
           27122,
           "Africa",
           0.0021782935083849682,
           9.5,
           2.25
          ],
          [
           "Botswana",
           314242,
           "Africa",
           0.13108491431813252,
           -22,
           24
          ],
          [
           "Burkina Faso",
           21044,
           "Africa",
           0.0009789228750281956,
           13,
           -2
          ],
          [
           "Burundi",
           42398,
           "Africa",
           0.00345952801815424,
           -3.5,
           30
          ],
          [
           "Cameroon",
           119947,
           "Africa",
           0.004405886190780856,
           6,
           12
          ],
          [
           "Cape Verde",
           58029,
           "Africa",
           0.10327264055411896,
           16,
           -24
          ],
          [
           "Central African Republic",
           14649,
           "Africa",
           0.002977446891627966,
           7,
           21
          ],
          [
           "Chad",
           7420,
           "Africa",
           0.0004386642967759061,
           15,
           19
          ],
          [
           "Comoros",
           8131,
           "Africa",
           0.00915183194215583,
           -12.1667,
           44.25
          ],
          [
           "Congo",
           24128,
           "Africa",
           0.004265145393764947,
           -1,
           15
          ],
          [
           "Cote d'Ivoire",
           82659,
           "Africa",
           0.003055375676217043,
           8,
           -5
          ],
          [
           "Democratic Republic of Congo",
           89932,
           "Africa",
           0.0009735219817414075,
           0,
           25
          ],
          [
           "Djibouti",
           15690,
           "Africa",
           0.01565560463661336,
           11.5,
           43
          ],
          [
           "Egypt",
           515645,
           "Africa",
           0.004945839961540913,
           27,
           30
          ],
          [
           "Equatorial Guinea",
           16001,
           "Africa",
           0.011036002016703324,
           2,
           10
          ],
          [
           "Eritrea",
           9777,
           "Africa",
           0.0027147308509710777,
           15,
           39
          ],
          [
           "Eswatini",
           73003,
           "Africa",
           0.06226964377256649,
           -26.5,
           31.5
          ],
          [
           "Ethiopia",
           483739,
           "Africa",
           0.004103787645865079,
           8,
           38
          ],
          [
           "Gabon",
           47742,
           "Africa",
           0.020950233650703937,
           -1,
           11.75
          ],
          [
           "Gambia",
           12002,
           "Africa",
           0.004826016903524295,
           13.4667,
           -16.5667
          ],
          [
           "Ghana",
           163332,
           "Africa",
           0.005147212314282862,
           8,
           -2
          ],
          [
           "Guinea",
           36817,
           "Africa",
           0.0027277434633473504,
           11,
           -10
          ],
          [
           "Guinea-Bissau",
           8307,
           "Africa",
           0.004121578375481893,
           12,
           -15
          ],
          [
           "Kenya",
           329107,
           "Africa",
           0.005985319601812122,
           1,
           38
          ],
          [
           "Lesotho",
           33746,
           "Africa",
           0.015629899396359632,
           -29.5,
           28.5
          ],
          [
           "Liberia",
           7489,
           "Africa",
           0.0014456948446857733,
           6.5,
           -9.5
          ],
          [
           "Libya",
           502076,
           "Africa",
           0.0721525124961594,
           25,
           17
          ],
          [
           "Madagascar",
           64685,
           "Africa",
           0.0022754508838377487,
           -20,
           47
          ],
          [
           "Malawi",
           86202,
           "Africa",
           0.004387388007775574,
           -13.5,
           34
          ],
          [
           "Mali",
           31137,
           "Africa",
           0.0014929714259739916,
           17,
           -4
          ],
          [
           "Mauritania",
           59293,
           "Africa",
           0.012417096150664593,
           20,
           -12
          ],
          [
           "Mauritius",
           227442,
           "Africa",
           0.17860609315956616,
           -20.2833,
           57.55
          ],
          [
           "Morocco",
           1184732,
           "Africa",
           0.031724160054788904,
           32,
           -5
          ],
          [
           "Mozambique",
           227083,
           "Africa",
           0.007060370061354577,
           -18.25,
           35
          ],
          [
           "Namibia",
           168851,
           "Africa",
           0.06526035965839873,
           -22,
           17
          ],
          [
           "Niger",
           9031,
           "Africa",
           0.000359359686377001,
           16,
           8
          ],
          [
           "Nigeria",
           256573,
           "Africa",
           0.0012136809156510662,
           10,
           8
          ],
          [
           "Rwanda",
           130531,
           "Africa",
           0.009831720171789031,
           -2,
           30
          ],
          [
           "Saint Helena",
           4,
           "Africa",
           0.0006562756357670221,
           -15.9333,
           -5.7
          ],
          [
           "Sao Tome and Principe",
           6010,
           "Africa",
           0.02690675310255905,
           1,
           7
          ],
          [
           "Senegal",
           86201,
           "Africa",
           0.005012762041712675,
           14,
           -14
          ],
          [
           "Seychelles",
           44521,
           "Africa",
           0.45011626731371956,
           -4.5833,
           55.6667
          ],
          [
           "Sierra Leone",
           7688,
           "Africa",
           0.000944315943941927,
           8.5,
           -11.5
          ],
          [
           "Somalia",
           26675,
           "Africa",
           0.001630551055961368,
           10,
           49
          ],
          [
           "South Africa",
           3984646,
           "Africa",
           0.06636431606970561,
           -29,
           24
          ],
          [
           "South Sudan",
           17697,
           "Africa",
           0.0015549085141455205,
           8,
           30
          ],
          [
           "Sudan",
           62489,
           "Africa",
           0.0013914474070222036,
           15,
           30
          ],
          [
           "Tanzania",
           35354,
           "Africa",
           0.0005748763895434222,
           -6,
           35
          ],
          [
           "Togo",
           37242,
           "Africa",
           0.004392655930321404,
           8,
           1.1667
          ],
          [
           "Tunisia",
           1044426,
           "Africa",
           0.0875039084217818,
           34,
           9
          ],
          [
           "Uganda",
           166809,
           "Africa",
           0.003539823722470045,
           1,
           32
          ],
          [
           "Zambia",
           324025,
           "Africa",
           0.017125462398055204,
           -15,
           30
          ],
          [
           "Zimbabwe",
           254753,
           "Africa",
           0.016879811393602683,
           -20,
           30
          ]
         ],
         "hovertemplate": "location=%{customdata[0]}<br>total_cases=%{customdata[1]}<extra></extra>",
         "lat": [
          28,
          -12.5,
          9.5,
          -22,
          13,
          -3.5,
          6,
          16,
          7,
          15,
          -12.1667,
          -1,
          8,
          0,
          11.5,
          27,
          2,
          15,
          -26.5,
          8,
          -1,
          13.4667,
          8,
          11,
          12,
          1,
          -29.5,
          6.5,
          25,
          -20,
          -13.5,
          17,
          20,
          -20.2833,
          32,
          -18.25,
          -22,
          16,
          10,
          -2,
          -15.9333,
          1,
          14,
          -4.5833,
          8.5,
          10,
          -29,
          8,
          15,
          -6,
          8,
          34,
          1,
          -15,
          -20
         ],
         "legendgroup": "Africa",
         "lon": [
          3,
          18.5,
          2.25,
          24,
          -2,
          30,
          12,
          -24,
          21,
          19,
          44.25,
          15,
          -5,
          25,
          43,
          30,
          10,
          39,
          31.5,
          38,
          11.75,
          -16.5667,
          -2,
          -10,
          -15,
          38,
          28.5,
          -9.5,
          17,
          47,
          34,
          -4,
          -12,
          57.55,
          -5,
          35,
          17,
          8,
          8,
          30,
          -5.7,
          7,
          -14,
          55.6667,
          -11.5,
          49,
          24,
          30,
          30,
          35,
          1.1667,
          9,
          32,
          30,
          30
         ],
         "marker": {
          "color": "#00cc96",
          "size": [
           0.005961253098788779,
           0.0029398875351049434,
           0.0021782935083849682,
           0.13108491431813252,
           0.0009789228750281956,
           0.00345952801815424,
           0.004405886190780856,
           0.10327264055411896,
           0.002977446891627966,
           0.0004386642967759061,
           0.00915183194215583,
           0.004265145393764947,
           0.003055375676217043,
           0.0009735219817414075,
           0.01565560463661336,
           0.004945839961540913,
           0.011036002016703324,
           0.0027147308509710777,
           0.06226964377256649,
           0.004103787645865079,
           0.020950233650703937,
           0.004826016903524295,
           0.005147212314282862,
           0.0027277434633473504,
           0.004121578375481893,
           0.005985319601812122,
           0.015629899396359632,
           0.0014456948446857733,
           0.0721525124961594,
           0.0022754508838377487,
           0.004387388007775574,
           0.0014929714259739916,
           0.012417096150664593,
           0.17860609315956616,
           0.031724160054788904,
           0.007060370061354577,
           0.06526035965839873,
           0.000359359686377001,
           0.0012136809156510662,
           0.009831720171789031,
           0.0006562756357670221,
           0.02690675310255905,
           0.005012762041712675,
           0.45011626731371956,
           0.000944315943941927,
           0.001630551055961368,
           0.06636431606970561,
           0.0015549085141455205,
           0.0013914474070222036,
           0.0005748763895434222,
           0.004392655930321404,
           0.0875039084217818,
           0.003539823722470045,
           0.017125462398055204,
           0.016879811393602683
          ],
          "sizemode": "area",
          "sizeref": 0.0017663547591380752
         },
         "mode": "markers",
         "name": "Africa",
         "showlegend": true,
         "subplot": "mapbox",
         "type": "scattermapbox"
        },
        {
         "customdata": [
          [
           "Anguilla",
           3374,
           "North America",
           0.22307438016528924,
           18.25,
           -63.1667
          ],
          [
           "Antigua and Barbuda",
           8581,
           "North America",
           0.08691556599951382,
           17.05,
           -61.8
          ],
          [
           "Aruba",
           39980,
           "North America",
           0.3729651569569476,
           12.5,
           -69.9667
          ],
          [
           "Bahamas",
           35603,
           "North America",
           0.08969953188851994,
           24.25,
           -76
          ],
          [
           "Barbados",
           82826,
           "North America",
           0.2878821582993869,
           13.1667,
           -59.5333
          ],
          [
           "Belize",
           61918,
           "North America",
           0.15291604410802268,
           17.25,
           -88.75
          ],
          [
           "Bermuda",
           15762,
           "North America",
           0.25384912710172003,
           32.3333,
           -64.75
          ],
          [
           "British Virgin Islands",
           6941,
           "North America",
           0.22814975511948196,
           18.5,
           -64.5
          ],
          [
           "Canada",
           3925888,
           "North America",
           0.10312853242046655,
           60,
           -95
          ],
          [
           "Cayman Islands",
           26797,
           "North America",
           0.4029745255496406,
           19.5,
           -80.5
          ],
          [
           "Costa Rica",
           904934,
           "North America",
           0.17608964141837027,
           10,
           -84
          ],
          [
           "Cuba",
           1105729,
           "North America",
           0.09770083458375695,
           21.5,
           -80
          ],
          [
           "Dominica",
           14781,
           "North America",
           0.20480241644959263,
           15.4167,
           -61.3333
          ],
          [
           "Dominican Republic",
           595927,
           "North America",
           0.05440410439783255,
           19,
           -70.6667
          ],
          [
           "El Salvador",
           164134,
           "North America",
           0.025179719260566082,
           13.8333,
           -88.9167
          ],
          [
           "Greenland",
           11971,
           "North America",
           0.21050502919040584,
           72,
           -40
          ],
          [
           "Grenada",
           18115,
           "North America",
           0.16028845728443128,
           12.1167,
           -61.6667
          ],
          [
           "Guatemala",
           880169,
           "North America",
           0.04822878718903611,
           15.5,
           -90.25
          ],
          [
           "Haiti",
           31054,
           "North America",
           0.0026905954703486485,
           19,
           -72.4167
          ],
          [
           "Honduras",
           426095,
           "North America",
           0.04234276597998568,
           15,
           -86.5
          ],
          [
           "Jamaica",
           141306,
           "North America",
           0.04752238300001816,
           18.25,
           -77.5
          ],
          [
           "Mexico",
           5852596,
           "North America",
           0.04492934328925148,
           23,
           -102
          ],
          [
           "Montserrat",
           1015,
           "North America",
           0.20377434250150572,
           16.75,
           -62.2
          ],
          [
           "Nicaragua",
           14619,
           "North America",
           0.002181165821867131,
           13,
           -85
          ],
          [
           "Panama",
           902386,
           "North America",
           0.20594976746988475,
           9,
           -80
          ],
          [
           "Saint Kitts and Nevis",
           5899,
           "North America",
           0.11016695924999066,
           17.3333,
           -62.75
          ],
          [
           "Saint Lucia",
           26722,
           "North America",
           0.14491244624486851,
           13.8833,
           -61.1333
          ],
          [
           "Saint Pierre and Miquelon",
           2767,
           "North America",
           0.47946629700225263,
           46.8333,
           -56.3333
          ],
          [
           "Saint Vincent and the Grenadines",
           9447,
           "North America",
           0.0849023537553137,
           13.25,
           -61.2
          ],
          [
           "Trinidad and Tobago",
           165706,
           "North America",
           0.11807686333080133,
           11,
           -61
          ],
          [
           "Turks and Caicos Islands",
           6189,
           "North America",
           0.1577780043848468,
           21.75,
           -71.5833
          ],
          [
           "United States",
           86230982,
           "North America",
           0.25901795603283495,
           38,
           -97
          ]
         ],
         "hovertemplate": "location=%{customdata[0]}<br>total_cases=%{customdata[1]}<extra></extra>",
         "lat": [
          18.25,
          17.05,
          12.5,
          24.25,
          13.1667,
          17.25,
          32.3333,
          18.5,
          60,
          19.5,
          10,
          21.5,
          15.4167,
          19,
          13.8333,
          72,
          12.1167,
          15.5,
          19,
          15,
          18.25,
          23,
          16.75,
          13,
          9,
          17.3333,
          13.8833,
          46.8333,
          13.25,
          11,
          21.75,
          38
         ],
         "legendgroup": "North America",
         "lon": [
          -63.1667,
          -61.8,
          -69.9667,
          -76,
          -59.5333,
          -88.75,
          -64.75,
          -64.5,
          -95,
          -80.5,
          -84,
          -80,
          -61.3333,
          -70.6667,
          -88.9167,
          -40,
          -61.6667,
          -90.25,
          -72.4167,
          -86.5,
          -77.5,
          -102,
          -62.2,
          -85,
          -80,
          -62.75,
          -61.1333,
          -56.3333,
          -61.2,
          -61,
          -71.5833,
          -97
         ],
         "marker": {
          "color": "#ab63fa",
          "size": [
           0.22307438016528924,
           0.08691556599951382,
           0.3729651569569476,
           0.08969953188851994,
           0.2878821582993869,
           0.15291604410802268,
           0.25384912710172003,
           0.22814975511948196,
           0.10312853242046655,
           0.4029745255496406,
           0.17608964141837027,
           0.09770083458375695,
           0.20480241644959263,
           0.05440410439783255,
           0.025179719260566082,
           0.21050502919040584,
           0.16028845728443128,
           0.04822878718903611,
           0.0026905954703486485,
           0.04234276597998568,
           0.04752238300001816,
           0.04492934328925148,
           0.20377434250150572,
           0.002181165821867131,
           0.20594976746988475,
           0.11016695924999066,
           0.14491244624486851,
           0.47946629700225263,
           0.0849023537553137,
           0.11807686333080133,
           0.1577780043848468,
           0.25901795603283495
          ],
          "sizemode": "area",
          "sizeref": 0.0017663547591380752
         },
         "mode": "markers",
         "name": "North America",
         "showlegend": true,
         "subplot": "mapbox",
         "type": "scattermapbox"
        },
        {
         "customdata": [
          [
           "Argentina",
           9313453,
           "South America",
           0.20421631246518673,
           -34,
           -64
          ],
          [
           "Bolivia",
           914827,
           "South America",
           0.07731191988192955,
           -17,
           -65
          ],
          [
           "Brazil",
           31611769,
           "South America",
           0.147723074372172,
           -10,
           -55
          ],
          [
           "Chile",
           3882425,
           "South America",
           0.2020795256720647,
           -30,
           -71
          ],
          [
           "Colombia",
           6131657,
           "South America",
           0.1196051187378356,
           4,
           -72
          ],
          [
           "Ecuador",
           896483,
           "South America",
           0.050115118818966894,
           -2,
           -77.5
          ],
          [
           "Falkland Islands",
           1756,
           "South America",
           0.4977324263038549,
           -51.75,
           -59
          ],
          [
           "Guyana",
           66456,
           "South America",
           0.0840865006851577,
           5,
           -59
          ],
          [
           "Paraguay",
           653428,
           "South America",
           0.09050699335327062,
           -23,
           -58
          ],
          [
           "Peru",
           3597866,
           "South America",
           0.10785159152221345,
           -10,
           -76
          ],
          [
           "Suriname",
           80766,
           "South America",
           0.1364756217493131,
           4,
           -56
          ],
          [
           "Uruguay",
           943877,
           "South America",
           0.27082807292192707,
           -33,
           -56
          ],
          [
           "Venezuela",
           524823,
           "South America",
           0.018283364188061382,
           8,
           -66
          ]
         ],
         "hovertemplate": "location=%{customdata[0]}<br>total_cases=%{customdata[1]}<extra></extra>",
         "lat": [
          -34,
          -17,
          -10,
          -30,
          4,
          -2,
          -51.75,
          5,
          -23,
          -10,
          4,
          -33,
          8
         ],
         "legendgroup": "South America",
         "lon": [
          -64,
          -65,
          -55,
          -71,
          -72,
          -77.5,
          -59,
          -59,
          -58,
          -76,
          -56,
          -56,
          -66
         ],
         "marker": {
          "color": "#FFA15A",
          "size": [
           0.20421631246518673,
           0.07731191988192955,
           0.147723074372172,
           0.2020795256720647,
           0.1196051187378356,
           0.050115118818966894,
           0.4977324263038549,
           0.0840865006851577,
           0.09050699335327062,
           0.10785159152221345,
           0.1364756217493131,
           0.27082807292192707,
           0.018283364188061382
          ],
          "sizemode": "area",
          "sizeref": 0.0017663547591380752
         },
         "mode": "markers",
         "name": "South America",
         "showlegend": true,
         "subplot": "mapbox",
         "type": "scattermapbox"
        },
        {
         "customdata": [
          [
           "Australia",
           7801241,
           "Oceania",
           0.3025118409698507,
           -27,
           133
          ],
          [
           "Cook Islands",
           5727,
           "Oceania",
           0.32591623036649214,
           -21.2333,
           -159.7667
          ],
          [
           "Fiji",
           65268,
           "Oceania",
           0.07228715504170455,
           -18,
           175
          ],
          [
           "French Polynesia",
           73142,
           "Oceania",
           0.2588785774455464,
           -15,
           -140
          ],
          [
           "Kiribati",
           3215,
           "Oceania",
           0.026485319800968795,
           1.4167,
           173
          ],
          [
           "Marshall Islands",
           18,
           "Oceania",
           0.0003019222382501929,
           9,
           168
          ],
          [
           "Micronesia (country)",
           38,
           "Oceania",
           0.0003268676616059524,
           6.9167,
           158.25
          ],
          [
           "New Caledonia",
           63002,
           "Oceania",
           0.21859224126265972,
           -21.5,
           165.5
          ],
          [
           "New Zealand",
           1273389,
           "Oceania",
           0.2484031367653083,
           -41,
           174
          ],
          [
           "Palau",
           5181,
           "Oceania",
           0.28507758336084515,
           7.5,
           134.5
          ],
          [
           "Papua New Guinea",
           44681,
           "Oceania",
           0.0048997670250208215,
           -6,
           147
          ],
          [
           "Samoa",
           14497,
           "Oceania",
           0.07243284834918859,
           -13.5833,
           -172.3333
          ],
          [
           "Solomon Islands",
           21544,
           "Oceania",
           0.030602490074503372,
           -8,
           159
          ],
          [
           "Tonga",
           12079,
           "Oceania",
           0.11314268586255023,
           -20,
           -175
          ],
          [
           "Vanuatu",
           10857,
           "Oceania",
           0.03452541467385774,
           -16,
           167
          ],
          [
           "Wallis and Futuna",
           454,
           "Oceania",
           0.04092302145303768,
           -13.3,
           -176.2
          ]
         ],
         "hovertemplate": "location=%{customdata[0]}<br>total_cases=%{customdata[1]}<extra></extra>",
         "lat": [
          -27,
          -21.2333,
          -18,
          -15,
          1.4167,
          9,
          6.9167,
          -21.5,
          -41,
          7.5,
          -6,
          -13.5833,
          -8,
          -20,
          -16,
          -13.3
         ],
         "legendgroup": "Oceania",
         "lon": [
          133,
          -159.7667,
          175,
          -140,
          173,
          168,
          158.25,
          165.5,
          174,
          134.5,
          147,
          -172.3333,
          159,
          -175,
          167,
          -176.2
         ],
         "marker": {
          "color": "#19d3f3",
          "size": [
           0.3025118409698507,
           0.32591623036649214,
           0.07228715504170455,
           0.2588785774455464,
           0.026485319800968795,
           0.0003019222382501929,
           0.0003268676616059524,
           0.21859224126265972,
           0.2484031367653083,
           0.28507758336084515,
           0.0048997670250208215,
           0.07243284834918859,
           0.030602490074503372,
           0.11314268586255023,
           0.03452541467385774,
           0.04092302145303768
          ],
          "sizemode": "area",
          "sizeref": 0.0017663547591380752
         },
         "mode": "markers",
         "name": "Oceania",
         "showlegend": true,
         "subplot": "mapbox",
         "type": "scattermapbox"
        }
       ],
       "layout": {
        "height": 600,
        "legend": {
         "itemsizing": "constant",
         "title": {
          "text": "continent"
         },
         "tracegroupgap": 0
        },
        "mapbox": {
         "accesstoken": "pk.eyJ1IjoiYW5nZWxpa2ExMjMxMjMiLCJhIjoiY2xyZGE4MWFxMTE2dTJxcnZra3BzN2hvZiJ9.Pux2Kbgu8S7NRMIX0NEFbg",
         "bearing": 0,
         "center": {
          "lat": 29.54368762067125,
          "lon": 19.857246187095143
         },
         "domain": {
          "x": [
           0,
           1
          ],
          "y": [
           0,
           1
          ]
         },
         "pitch": 0,
         "style": "dark",
         "zoom": 0.3784163551678742
        },
        "template": {
         "data": {
          "bar": [
           {
            "error_x": {
             "color": "#2a3f5f"
            },
            "error_y": {
             "color": "#2a3f5f"
            },
            "marker": {
             "line": {
              "color": "#E5ECF6",
              "width": 0.5
             },
             "pattern": {
              "fillmode": "overlay",
              "size": 10,
              "solidity": 0.2
             }
            },
            "type": "bar"
           }
          ],
          "barpolar": [
           {
            "marker": {
             "line": {
              "color": "#E5ECF6",
              "width": 0.5
             },
             "pattern": {
              "fillmode": "overlay",
              "size": 10,
              "solidity": 0.2
             }
            },
            "type": "barpolar"
           }
          ],
          "carpet": [
           {
            "aaxis": {
             "endlinecolor": "#2a3f5f",
             "gridcolor": "white",
             "linecolor": "white",
             "minorgridcolor": "white",
             "startlinecolor": "#2a3f5f"
            },
            "baxis": {
             "endlinecolor": "#2a3f5f",
             "gridcolor": "white",
             "linecolor": "white",
             "minorgridcolor": "white",
             "startlinecolor": "#2a3f5f"
            },
            "type": "carpet"
           }
          ],
          "choropleth": [
           {
            "colorbar": {
             "outlinewidth": 0,
             "ticks": ""
            },
            "type": "choropleth"
           }
          ],
          "contour": [
           {
            "colorbar": {
             "outlinewidth": 0,
             "ticks": ""
            },
            "colorscale": [
             [
              0,
              "#0d0887"
             ],
             [
              0.1111111111111111,
              "#46039f"
             ],
             [
              0.2222222222222222,
              "#7201a8"
             ],
             [
              0.3333333333333333,
              "#9c179e"
             ],
             [
              0.4444444444444444,
              "#bd3786"
             ],
             [
              0.5555555555555556,
              "#d8576b"
             ],
             [
              0.6666666666666666,
              "#ed7953"
             ],
             [
              0.7777777777777778,
              "#fb9f3a"
             ],
             [
              0.8888888888888888,
              "#fdca26"
             ],
             [
              1,
              "#f0f921"
             ]
            ],
            "type": "contour"
           }
          ],
          "contourcarpet": [
           {
            "colorbar": {
             "outlinewidth": 0,
             "ticks": ""
            },
            "type": "contourcarpet"
           }
          ],
          "heatmap": [
           {
            "colorbar": {
             "outlinewidth": 0,
             "ticks": ""
            },
            "colorscale": [
             [
              0,
              "#0d0887"
             ],
             [
              0.1111111111111111,
              "#46039f"
             ],
             [
              0.2222222222222222,
              "#7201a8"
             ],
             [
              0.3333333333333333,
              "#9c179e"
             ],
             [
              0.4444444444444444,
              "#bd3786"
             ],
             [
              0.5555555555555556,
              "#d8576b"
             ],
             [
              0.6666666666666666,
              "#ed7953"
             ],
             [
              0.7777777777777778,
              "#fb9f3a"
             ],
             [
              0.8888888888888888,
              "#fdca26"
             ],
             [
              1,
              "#f0f921"
             ]
            ],
            "type": "heatmap"
           }
          ],
          "heatmapgl": [
           {
            "colorbar": {
             "outlinewidth": 0,
             "ticks": ""
            },
            "colorscale": [
             [
              0,
              "#0d0887"
             ],
             [
              0.1111111111111111,
              "#46039f"
             ],
             [
              0.2222222222222222,
              "#7201a8"
             ],
             [
              0.3333333333333333,
              "#9c179e"
             ],
             [
              0.4444444444444444,
              "#bd3786"
             ],
             [
              0.5555555555555556,
              "#d8576b"
             ],
             [
              0.6666666666666666,
              "#ed7953"
             ],
             [
              0.7777777777777778,
              "#fb9f3a"
             ],
             [
              0.8888888888888888,
              "#fdca26"
             ],
             [
              1,
              "#f0f921"
             ]
            ],
            "type": "heatmapgl"
           }
          ],
          "histogram": [
           {
            "marker": {
             "pattern": {
              "fillmode": "overlay",
              "size": 10,
              "solidity": 0.2
             }
            },
            "type": "histogram"
           }
          ],
          "histogram2d": [
           {
            "colorbar": {
             "outlinewidth": 0,
             "ticks": ""
            },
            "colorscale": [
             [
              0,
              "#0d0887"
             ],
             [
              0.1111111111111111,
              "#46039f"
             ],
             [
              0.2222222222222222,
              "#7201a8"
             ],
             [
              0.3333333333333333,
              "#9c179e"
             ],
             [
              0.4444444444444444,
              "#bd3786"
             ],
             [
              0.5555555555555556,
              "#d8576b"
             ],
             [
              0.6666666666666666,
              "#ed7953"
             ],
             [
              0.7777777777777778,
              "#fb9f3a"
             ],
             [
              0.8888888888888888,
              "#fdca26"
             ],
             [
              1,
              "#f0f921"
             ]
            ],
            "type": "histogram2d"
           }
          ],
          "histogram2dcontour": [
           {
            "colorbar": {
             "outlinewidth": 0,
             "ticks": ""
            },
            "colorscale": [
             [
              0,
              "#0d0887"
             ],
             [
              0.1111111111111111,
              "#46039f"
             ],
             [
              0.2222222222222222,
              "#7201a8"
             ],
             [
              0.3333333333333333,
              "#9c179e"
             ],
             [
              0.4444444444444444,
              "#bd3786"
             ],
             [
              0.5555555555555556,
              "#d8576b"
             ],
             [
              0.6666666666666666,
              "#ed7953"
             ],
             [
              0.7777777777777778,
              "#fb9f3a"
             ],
             [
              0.8888888888888888,
              "#fdca26"
             ],
             [
              1,
              "#f0f921"
             ]
            ],
            "type": "histogram2dcontour"
           }
          ],
          "mesh3d": [
           {
            "colorbar": {
             "outlinewidth": 0,
             "ticks": ""
            },
            "type": "mesh3d"
           }
          ],
          "parcoords": [
           {
            "line": {
             "colorbar": {
              "outlinewidth": 0,
              "ticks": ""
             }
            },
            "type": "parcoords"
           }
          ],
          "pie": [
           {
            "automargin": true,
            "type": "pie"
           }
          ],
          "scatter": [
           {
            "fillpattern": {
             "fillmode": "overlay",
             "size": 10,
             "solidity": 0.2
            },
            "type": "scatter"
           }
          ],
          "scatter3d": [
           {
            "line": {
             "colorbar": {
              "outlinewidth": 0,
              "ticks": ""
             }
            },
            "marker": {
             "colorbar": {
              "outlinewidth": 0,
              "ticks": ""
             }
            },
            "type": "scatter3d"
           }
          ],
          "scattercarpet": [
           {
            "marker": {
             "colorbar": {
              "outlinewidth": 0,
              "ticks": ""
             }
            },
            "type": "scattercarpet"
           }
          ],
          "scattergeo": [
           {
            "marker": {
             "colorbar": {
              "outlinewidth": 0,
              "ticks": ""
             }
            },
            "type": "scattergeo"
           }
          ],
          "scattergl": [
           {
            "marker": {
             "colorbar": {
              "outlinewidth": 0,
              "ticks": ""
             }
            },
            "type": "scattergl"
           }
          ],
          "scattermapbox": [
           {
            "marker": {
             "colorbar": {
              "outlinewidth": 0,
              "ticks": ""
             }
            },
            "type": "scattermapbox"
           }
          ],
          "scatterpolar": [
           {
            "marker": {
             "colorbar": {
              "outlinewidth": 0,
              "ticks": ""
             }
            },
            "type": "scatterpolar"
           }
          ],
          "scatterpolargl": [
           {
            "marker": {
             "colorbar": {
              "outlinewidth": 0,
              "ticks": ""
             }
            },
            "type": "scatterpolargl"
           }
          ],
          "scatterternary": [
           {
            "marker": {
             "colorbar": {
              "outlinewidth": 0,
              "ticks": ""
             }
            },
            "type": "scatterternary"
           }
          ],
          "surface": [
           {
            "colorbar": {
             "outlinewidth": 0,
             "ticks": ""
            },
            "colorscale": [
             [
              0,
              "#0d0887"
             ],
             [
              0.1111111111111111,
              "#46039f"
             ],
             [
              0.2222222222222222,
              "#7201a8"
             ],
             [
              0.3333333333333333,
              "#9c179e"
             ],
             [
              0.4444444444444444,
              "#bd3786"
             ],
             [
              0.5555555555555556,
              "#d8576b"
             ],
             [
              0.6666666666666666,
              "#ed7953"
             ],
             [
              0.7777777777777778,
              "#fb9f3a"
             ],
             [
              0.8888888888888888,
              "#fdca26"
             ],
             [
              1,
              "#f0f921"
             ]
            ],
            "type": "surface"
           }
          ],
          "table": [
           {
            "cells": {
             "fill": {
              "color": "#EBF0F8"
             },
             "line": {
              "color": "white"
             }
            },
            "header": {
             "fill": {
              "color": "#C8D4E3"
             },
             "line": {
              "color": "white"
             }
            },
            "type": "table"
           }
          ]
         },
         "layout": {
          "annotationdefaults": {
           "arrowcolor": "#2a3f5f",
           "arrowhead": 0,
           "arrowwidth": 1
          },
          "autotypenumbers": "strict",
          "coloraxis": {
           "colorbar": {
            "outlinewidth": 0,
            "ticks": ""
           }
          },
          "colorscale": {
           "diverging": [
            [
             0,
             "#8e0152"
            ],
            [
             0.1,
             "#c51b7d"
            ],
            [
             0.2,
             "#de77ae"
            ],
            [
             0.3,
             "#f1b6da"
            ],
            [
             0.4,
             "#fde0ef"
            ],
            [
             0.5,
             "#f7f7f7"
            ],
            [
             0.6,
             "#e6f5d0"
            ],
            [
             0.7,
             "#b8e186"
            ],
            [
             0.8,
             "#7fbc41"
            ],
            [
             0.9,
             "#4d9221"
            ],
            [
             1,
             "#276419"
            ]
           ],
           "sequential": [
            [
             0,
             "#0d0887"
            ],
            [
             0.1111111111111111,
             "#46039f"
            ],
            [
             0.2222222222222222,
             "#7201a8"
            ],
            [
             0.3333333333333333,
             "#9c179e"
            ],
            [
             0.4444444444444444,
             "#bd3786"
            ],
            [
             0.5555555555555556,
             "#d8576b"
            ],
            [
             0.6666666666666666,
             "#ed7953"
            ],
            [
             0.7777777777777778,
             "#fb9f3a"
            ],
            [
             0.8888888888888888,
             "#fdca26"
            ],
            [
             1,
             "#f0f921"
            ]
           ],
           "sequentialminus": [
            [
             0,
             "#0d0887"
            ],
            [
             0.1111111111111111,
             "#46039f"
            ],
            [
             0.2222222222222222,
             "#7201a8"
            ],
            [
             0.3333333333333333,
             "#9c179e"
            ],
            [
             0.4444444444444444,
             "#bd3786"
            ],
            [
             0.5555555555555556,
             "#d8576b"
            ],
            [
             0.6666666666666666,
             "#ed7953"
            ],
            [
             0.7777777777777778,
             "#fb9f3a"
            ],
            [
             0.8888888888888888,
             "#fdca26"
            ],
            [
             1,
             "#f0f921"
            ]
           ]
          },
          "colorway": [
           "#636efa",
           "#EF553B",
           "#00cc96",
           "#ab63fa",
           "#FFA15A",
           "#19d3f3",
           "#FF6692",
           "#B6E880",
           "#FF97FF",
           "#FECB52"
          ],
          "font": {
           "color": "#2a3f5f"
          },
          "geo": {
           "bgcolor": "white",
           "lakecolor": "white",
           "landcolor": "#E5ECF6",
           "showlakes": true,
           "showland": true,
           "subunitcolor": "white"
          },
          "hoverlabel": {
           "align": "left"
          },
          "hovermode": "closest",
          "mapbox": {
           "style": "light"
          },
          "paper_bgcolor": "white",
          "plot_bgcolor": "#E5ECF6",
          "polar": {
           "angularaxis": {
            "gridcolor": "white",
            "linecolor": "white",
            "ticks": ""
           },
           "bgcolor": "#E5ECF6",
           "radialaxis": {
            "gridcolor": "white",
            "linecolor": "white",
            "ticks": ""
           }
          },
          "scene": {
           "xaxis": {
            "backgroundcolor": "#E5ECF6",
            "gridcolor": "white",
            "gridwidth": 2,
            "linecolor": "white",
            "showbackground": true,
            "ticks": "",
            "zerolinecolor": "white"
           },
           "yaxis": {
            "backgroundcolor": "#E5ECF6",
            "gridcolor": "white",
            "gridwidth": 2,
            "linecolor": "white",
            "showbackground": true,
            "ticks": "",
            "zerolinecolor": "white"
           },
           "zaxis": {
            "backgroundcolor": "#E5ECF6",
            "gridcolor": "white",
            "gridwidth": 2,
            "linecolor": "white",
            "showbackground": true,
            "ticks": "",
            "zerolinecolor": "white"
           }
          },
          "shapedefaults": {
           "line": {
            "color": "#2a3f5f"
           }
          },
          "ternary": {
           "aaxis": {
            "gridcolor": "white",
            "linecolor": "white",
            "ticks": ""
           },
           "baxis": {
            "gridcolor": "white",
            "linecolor": "white",
            "ticks": ""
           },
           "bgcolor": "#E5ECF6",
           "caxis": {
            "gridcolor": "white",
            "linecolor": "white",
            "ticks": ""
           }
          },
          "title": {
           "x": 0.05
          },
          "xaxis": {
           "automargin": true,
           "gridcolor": "white",
           "linecolor": "white",
           "ticks": "",
           "title": {
            "standoff": 15
           },
           "zerolinecolor": "white",
           "zerolinewidth": 2
          },
          "yaxis": {
           "automargin": true,
           "gridcolor": "white",
           "linecolor": "white",
           "ticks": "",
           "title": {
            "standoff": 15
           },
           "zerolinecolor": "white",
           "zerolinewidth": 2
          }
         }
        },
        "title": {
         "text": "COVID-19 map - positive cases per person"
        },
        "width": 1000
       }
      },
      "image/png": "[encoded data removed]",
      "text/html": [
       "<div>                            <div id=\"56b87b6b-f81a-4526-b668-25b1ee23a488\" class=\"plotly-graph-div\" style=\"height:600px; width:1000px;\"></div>            <script type=\"text/javascript\">                require([\"plotly\"], function(Plotly) {                    window.PLOTLYENV=window.PLOTLYENV || {};                                    if (document.getElementById(\"56b87b6b-f81a-4526-b668-25b1ee23a488\")) {                    Plotly.newPlot(                        \"56b87b6b-f81a-4526-b668-25b1ee23a488\",                        [{\"customdata\":[[\"Afghanistan\",181574.0,\"Asia\",0.004558103404838527,33.0,65.0],[\"Armenia\",423044.0,\"Asia\",0.1425288936326196,40.0,45.0],[\"Azerbaijan\",792985.0,\"Asia\",0.07756610752802605,40.5,47.5],[\"Bahrain\",603848.0,\"Asia\",0.34539251098927815,26.0,50.55],[\"Bangladesh\",1955731.0,\"Asia\",0.011760011488393623,24.0,90.0],[\"Bhutan\",59644.0,\"Asia\",0.0764764713424798,27.5,90.5],[\"Brunei\",156452.0,\"Asia\",0.3543389833579446,4.5,114.6667],[\"Cambodia\",136262.0,\"Asia\",0.008040741993926043,13.0,105.0],[\"China\",887201.0,\"Asia\",0.0006143131895367831,35.0,105.0],[\"Georgia\",1658755.0,\"Asia\",0.41679638512045786,42.0,43.5],[\"Hong Kong\",1225408.0,\"Asia\",0.1622455248384705,22.25,114.1667],[\"India\",43296692.0,\"Asia\",0.031072492695689305,20.0,77.0],[\"Indonesia\",6066908.0,\"Asia\",0.021952774455200733,-5.0,120.0],[\"Iran\",7234597.0,\"Asia\",0.08508411742097614,32.0,53.0],[\"Iraq\",2331872.0,\"Asia\",0.05662721590731238,33.0,44.0],[\"Israel\",4226245.0,\"Asia\",0.4548751479926811,31.5,34.75],[\"Japan\",9124454.0,\"Asia\",0.07238711923723194,36.0,138.0],[\"Jordan\",1697673.0,\"Asia\",0.16531983279420376,31.0,36.0],[\"Kazakhstan\",1395148.0,\"Asia\",0.07344833297341326,48.0,68.0],[\"Kuwait\",638708.0,\"Asia\",0.14755693184304317,29.3375,47.6581],[\"Kyrgyzstan\",201016.0,\"Asia\",0.03032671644981773,41.0,75.0],[\"Laos\",210194.0,\"Asia\",0.02848404969646411,18.0,105.0],[\"Lebanon\",1103264.0,\"Asia\",0.16298410243766168,33.8333,35.8333],[\"Macao\",83.0,\"Asia\",0.0001260649067195633,22.1667,113.55],[\"Malaysia\",4538922.0,\"Asia\",0.13848227349147757,2.5,112.5],[\"Maldives\",179979.0,\"Asia\",0.3310750156359222,3.25,73.0],[\"Mongolia\",926282.0,\"Asia\",0.278222751932699,46.0,105.0],[\"Myanmar\",613485.0,\"Asia\",0.011193753298679958,22.0,98.0],[\"Nepal\",979344.0,\"Asia\",0.033002414159835985,28.0,84.0],[\"North Korea\",1.0,\"Asia\",3.862936074781807e-08,40.0,127.0],[\"Oman\",389758.0,\"Asia\",0.07461802481766582,21.0,57.0],[\"Pakistan\",1531982.0,\"Asia\",0.006802764134086384,30.0,70.0],[\"Palestine\",658100.0,\"Asia\",0.126006269486838,32.0,35.25],[\"Philippines\",3695652.0,\"Asia\",0.033280097573178756,13.0,122.0],[\"Qatar\",374923.0,\"Asia\",0.12793718802507675,25.5,51.25],[\"Saudi Arabia\",783907.0,\"Asia\",0.022181435105379975,25.0,45.0],[\"Singapore\",1364562.0,\"Asia\",0.2502130702655127,1.3667,103.8],[\"South Korea\",18276552.0,\"Asia\",0.3562320719871115,37.0,127.5],[\"Sri Lanka\",663984.0,\"Asia\",0.030886846937937248,7.0,81.0],[\"Syria\",55913.0,\"Asia\",0.003059417027108778,35.0,38.0],[\"Taiwan\",3244453.0,\"Asia\",0.13600720653709275,23.5,121.0],[\"Tajikistan\",17786.0,\"Asia\",0.0018242752926394604,39.0,71.0],[\"Thailand\",4499044.0,\"Asia\",0.06431722253415556,15.0,100.0],[\"Timor\",22944.0,\"Asia\",0.01707301646358478,-8.55,125.5167],[\"Turkey\",15085742.0,\"Asia\",0.17739013006354828,39.0,35.0],[\"United Arab Emirates\",925898.0,\"Asia\",0.09267243601119118,24.0,54.0],[\"Uzbekistan\",239525.0,\"Asia\",0.0070581877261349495,41.0,64.0],[\"Vietnam\",10737107.0,\"Asia\",0.10937389301037705,16.0,106.0],[\"Yemen\",11823.0,\"Asia\",0.00038775835429359157,15.0,48.0]],\"hovertemplate\":\"location=%{customdata[0]}<br>total_cases=%{customdata[1]}<extra></extra>\",\"lat\":[33.0,40.0,40.5,26.0,24.0,27.5,4.5,13.0,35.0,42.0,22.25,20.0,-5.0,32.0,33.0,31.5,36.0,31.0,48.0,29.3375,41.0,18.0,33.8333,22.1667,2.5,3.25,46.0,22.0,28.0,40.0,21.0,30.0,32.0,13.0,25.5,25.0,1.3667,37.0,7.0,35.0,23.5,39.0,15.0,-8.55,39.0,24.0,41.0,16.0,15.0],\"legendgroup\":\"Asia\",\"lon\":[65.0,45.0,47.5,50.55,90.0,90.5,114.6667,105.0,105.0,43.5,114.1667,77.0,120.0,53.0,44.0,34.75,138.0,36.0,68.0,47.6581,75.0,105.0,35.8333,113.55,112.5,73.0,105.0,98.0,84.0,127.0,57.0,70.0,35.25,122.0,51.25,45.0,103.8,127.5,81.0,38.0,121.0,71.0,100.0,125.5167,35.0,54.0,64.0,106.0,48.0],\"marker\":{\"color\":\"#636efa\",\"size\":[0.004558103404838527,0.1425288936326196,0.07756610752802605,0.34539251098927815,0.011760011488393623,0.0764764713424798,0.3543389833579446,0.008040741993926043,0.0006143131895367831,0.41679638512045786,0.1622455248384705,0.031072492695689305,0.021952774455200733,0.08508411742097614,0.05662721590731238,0.4548751479926811,0.07238711923723194,0.16531983279420376,0.07344833297341326,0.14755693184304317,0.03032671644981773,0.02848404969646411,0.16298410243766168,0.0001260649067195633,0.13848227349147757,0.3310750156359222,0.278222751932699,0.011193753298679958,0.033002414159835985,3.862936074781807e-08,0.07461802481766582,0.006802764134086384,0.126006269486838,0.033280097573178756,0.12793718802507675,0.022181435105379975,0.2502130702655127,0.3562320719871115,0.030886846937937248,0.003059417027108778,0.13600720653709275,0.0018242752926394604,0.06431722253415556,0.01707301646358478,0.17739013006354828,0.09267243601119118,0.0070581877261349495,0.10937389301037705,0.00038775835429359157],\"sizemode\":\"area\",\"sizeref\":0.0017663547591380752},\"mode\":\"markers\",\"name\":\"Asia\",\"showlegend\":true,\"subplot\":\"mapbox\",\"type\":\"scattermapbox\"},{\"customdata\":[[\"Albania\",277141.0,\"Europe\",0.09646619100891284,41.0,20.0],[\"Andorra\",43449.0,\"Europe\",0.5616904103213797,42.5,1.6],[\"Austria\",4349916.0,\"Europe\",0.48102193590850545,47.3333,13.3333],[\"Belarus\",982867.0,\"Europe\",0.10408565534175161,53.0,28.0],[\"Belgium\",4187940.0,\"Europe\",0.36002576954891424,50.8333,4.0],[\"Bosnia and Herzegovina\",378209.0,\"Europe\",0.11589206421775178,44.0,18.0],[\"Bulgaria\",1168035.0,\"Europe\",0.16936253879598154,43.0,25.0],[\"Croatia\",1141546.0,\"Europe\",0.27967710172608823,45.1667,15.5],[\"Cyprus\",497454.0,\"Europe\",0.5551910982639606,35.0,33.0],[\"Czechia\",3925291.0,\"Europe\",0.3660097535067429,49.75,15.5],[\"Denmark\",3150599.0,\"Europe\",0.541963758290899,56.0,10.0],[\"Estonia\",578494.0,\"Europe\",0.4365373064048271,59.0,26.0],[\"Faeroe Islands\",34658.0,\"Europe\",0.7065419036552301,62.0,-7.0],[\"Finland\",1125342.0,\"Europe\",0.2028242214232275,64.0,26.0],[\"France\",30139875.0,\"Europe\",0.44703323840882797,46.0,2.0],[\"Germany\",27204955.0,\"Europe\",0.3242527089031479,51.0,9.0],[\"Gibraltar\",19010.0,\"Europe\",0.5642456442373334,36.1833,-5.3667],[\"Greece\",3539423.0,\"Europe\",0.34128910868233503,39.0,22.0],[\"Hungary\",1923122.0,\"Europe\",0.19961487049937504,47.0,20.0],[\"Iceland\",191079.0,\"Europe\",0.5181213258422092,65.0,-18.0],[\"Ireland\",1578284.0,\"Europe\",0.3167397967129208,53.0,-8.0],[\"Isle of Man\",33821.0,\"Europe\",0.3959840768059946,54.23,-4.55],[\"Italy\",17844905.0,\"Europe\",0.2956046477414964,42.8333,12.8333],[\"Latvia\",831727.0,\"Europe\",0.4455042331437533,57.0,25.0],[\"Liechtenstein\",17653.0,\"Europe\",0.46146808176922677,47.1667,9.5333],[\"Lithuania\",1065134.0,\"Europe\",0.3959809090577881,56.0,24.0],[\"Luxembourg\",254865.0,\"Europe\",0.4014798035330034,49.75,6.1667],[\"Malta\",97557.0,\"Europe\",0.18902732028676614,35.8333,14.5833],[\"Moldova\",519452.0,\"Europe\",0.12908766719888667,47.0,29.0],[\"Monaco\",12616.0,\"Europe\",0.3192307692307692,43.7333,7.4],[\"Montenegro\",238416.0,\"Europe\",0.3796124836995722,42.0,19.0],[\"Netherlands\",8132678.0,\"Europe\",0.47357092437740106,52.5,5.75],[\"North Macedonia\",312879.0,\"Europe\",0.15023040235544816,41.8333,22.0],[\"Norway\",1439656.0,\"Europe\",0.26340170545787134,62.0,10.0],[\"Poland\",6011174.0,\"Europe\",0.1590383892901553,52.0,20.0],[\"Portugal\",5005783.0,\"Europe\",0.49231126160180405,39.5,-8.0],[\"Romania\",2912705.0,\"Europe\",0.15227622955773418,46.0,25.0],[\"Russia\",18126576.0,\"Europe\",0.1242294894659194,60.0,100.0],[\"San Marino\",17413.0,\"Europe\",0.5119964716259924,43.7667,12.4167],[\"Serbia\",2022252.0,\"Europe\",0.2942935557306091,44.0,21.0],[\"Slovakia\",2546134.0,\"Europe\",0.4672431353190427,48.6667,19.5],[\"Slovenia\",1030354.0,\"Europe\",0.4956668108256848,46.0,15.0],[\"Spain\",12563399.0,\"Europe\",0.26876333920067236,40.0,-4.0],[\"Sweden\",2512853.0,\"Europe\",0.24732418065504683,62.0,15.0],[\"Switzerland\",3701895.0,\"Europe\",0.42474872910244676,47.0,8.0],[\"Ukraine\",5040518.0,\"Europe\",0.11596242301772143,49.0,32.0],[\"United Kingdom\",22549766.0,\"Europe\",0.3306072442824659,54.0,-2.0],[\"Vatican\",29.0,\"Europe\",0.03571428571428571,41.9,12.45]],\"hovertemplate\":\"location=%{customdata[0]}<br>total_cases=%{customdata[1]}<extra></extra>\",\"lat\":[41.0,42.5,47.3333,53.0,50.8333,44.0,43.0,45.1667,35.0,49.75,56.0,59.0,62.0,64.0,46.0,51.0,36.1833,39.0,47.0,65.0,53.0,54.23,42.8333,57.0,47.1667,56.0,49.75,35.8333,47.0,43.7333,42.0,52.5,41.8333,62.0,52.0,39.5,46.0,60.0,43.7667,44.0,48.6667,46.0,40.0,62.0,47.0,49.0,54.0,41.9],\"legendgroup\":\"Europe\",\"lon\":[20.0,1.6,13.3333,28.0,4.0,18.0,25.0,15.5,33.0,15.5,10.0,26.0,-7.0,26.0,2.0,9.0,-5.3667,22.0,20.0,-18.0,-8.0,-4.55,12.8333,25.0,9.5333,24.0,6.1667,14.5833,29.0,7.4,19.0,5.75,22.0,10.0,20.0,-8.0,25.0,100.0,12.4167,21.0,19.5,15.0,-4.0,15.0,8.0,32.0,-2.0,12.45],\"marker\":{\"color\":\"#EF553B\",\"size\":[0.09646619100891284,0.5616904103213797,0.48102193590850545,0.10408565534175161,0.36002576954891424,0.11589206421775178,0.16936253879598154,0.27967710172608823,0.5551910982639606,0.3660097535067429,0.541963758290899,0.4365373064048271,0.7065419036552301,0.2028242214232275,0.44703323840882797,0.3242527089031479,0.5642456442373334,0.34128910868233503,0.19961487049937504,0.5181213258422092,0.3167397967129208,0.3959840768059946,0.2956046477414964,0.4455042331437533,0.46146808176922677,0.3959809090577881,0.4014798035330034,0.18902732028676614,0.12908766719888667,0.3192307692307692,0.3796124836995722,0.47357092437740106,0.15023040235544816,0.26340170545787134,0.1590383892901553,0.49231126160180405,0.15227622955773418,0.1242294894659194,0.5119964716259924,0.2942935557306091,0.4672431353190427,0.4956668108256848,0.26876333920067236,0.24732418065504683,0.42474872910244676,0.11596242301772143,0.3306072442824659,0.03571428571428571],\"sizemode\":\"area\",\"sizeref\":0.0017663547591380752},\"mode\":\"markers\",\"name\":\"Europe\",\"showlegend\":true,\"subplot\":\"mapbox\",\"type\":\"scattermapbox\"},{\"customdata\":[[\"Algeria\",265971.0,\"Africa\",0.005961253098788779,28.0,3.0],[\"Angola\",99761.0,\"Africa\",0.0029398875351049434,-12.5,18.5],[\"Benin\",27122.0,\"Africa\",0.0021782935083849682,9.5,2.25],[\"Botswana\",314242.0,\"Africa\",0.13108491431813252,-22.0,24.0],[\"Burkina Faso\",21044.0,\"Africa\",0.0009789228750281956,13.0,-2.0],[\"Burundi\",42398.0,\"Africa\",0.00345952801815424,-3.5,30.0],[\"Cameroon\",119947.0,\"Africa\",0.004405886190780856,6.0,12.0],[\"Cape Verde\",58029.0,\"Africa\",0.10327264055411896,16.0,-24.0],[\"Central African Republic\",14649.0,\"Africa\",0.002977446891627966,7.0,21.0],[\"Chad\",7420.0,\"Africa\",0.0004386642967759061,15.0,19.0],[\"Comoros\",8131.0,\"Africa\",0.00915183194215583,-12.1667,44.25],[\"Congo\",24128.0,\"Africa\",0.004265145393764947,-1.0,15.0],[\"Cote d'Ivoire\",82659.0,\"Africa\",0.003055375676217043,8.0,-5.0],[\"Democratic Republic of Congo\",89932.0,\"Africa\",0.0009735219817414075,0.0,25.0],[\"Djibouti\",15690.0,\"Africa\",0.01565560463661336,11.5,43.0],[\"Egypt\",515645.0,\"Africa\",0.004945839961540913,27.0,30.0],[\"Equatorial Guinea\",16001.0,\"Africa\",0.011036002016703324,2.0,10.0],[\"Eritrea\",9777.0,\"Africa\",0.0027147308509710777,15.0,39.0],[\"Eswatini\",73003.0,\"Africa\",0.06226964377256649,-26.5,31.5],[\"Ethiopia\",483739.0,\"Africa\",0.004103787645865079,8.0,38.0],[\"Gabon\",47742.0,\"Africa\",0.020950233650703937,-1.0,11.75],[\"Gambia\",12002.0,\"Africa\",0.004826016903524295,13.4667,-16.5667],[\"Ghana\",163332.0,\"Africa\",0.005147212314282862,8.0,-2.0],[\"Guinea\",36817.0,\"Africa\",0.0027277434633473504,11.0,-10.0],[\"Guinea-Bissau\",8307.0,\"Africa\",0.004121578375481893,12.0,-15.0],[\"Kenya\",329107.0,\"Africa\",0.005985319601812122,1.0,38.0],[\"Lesotho\",33746.0,\"Africa\",0.015629899396359632,-29.5,28.5],[\"Liberia\",7489.0,\"Africa\",0.0014456948446857733,6.5,-9.5],[\"Libya\",502076.0,\"Africa\",0.0721525124961594,25.0,17.0],[\"Madagascar\",64685.0,\"Africa\",0.0022754508838377487,-20.0,47.0],[\"Malawi\",86202.0,\"Africa\",0.004387388007775574,-13.5,34.0],[\"Mali\",31137.0,\"Africa\",0.0014929714259739916,17.0,-4.0],[\"Mauritania\",59293.0,\"Africa\",0.012417096150664593,20.0,-12.0],[\"Mauritius\",227442.0,\"Africa\",0.17860609315956616,-20.2833,57.55],[\"Morocco\",1184732.0,\"Africa\",0.031724160054788904,32.0,-5.0],[\"Mozambique\",227083.0,\"Africa\",0.007060370061354577,-18.25,35.0],[\"Namibia\",168851.0,\"Africa\",0.06526035965839873,-22.0,17.0],[\"Niger\",9031.0,\"Africa\",0.000359359686377001,16.0,8.0],[\"Nigeria\",256573.0,\"Africa\",0.0012136809156510662,10.0,8.0],[\"Rwanda\",130531.0,\"Africa\",0.009831720171789031,-2.0,30.0],[\"Saint Helena\",4.0,\"Africa\",0.0006562756357670221,-15.9333,-5.7],[\"Sao Tome and Principe\",6010.0,\"Africa\",0.02690675310255905,1.0,7.0],[\"Senegal\",86201.0,\"Africa\",0.005012762041712675,14.0,-14.0],[\"Seychelles\",44521.0,\"Africa\",0.45011626731371956,-4.5833,55.6667],[\"Sierra Leone\",7688.0,\"Africa\",0.000944315943941927,8.5,-11.5],[\"Somalia\",26675.0,\"Africa\",0.001630551055961368,10.0,49.0],[\"South Africa\",3984646.0,\"Africa\",0.06636431606970561,-29.0,24.0],[\"South Sudan\",17697.0,\"Africa\",0.0015549085141455205,8.0,30.0],[\"Sudan\",62489.0,\"Africa\",0.0013914474070222036,15.0,30.0],[\"Tanzania\",35354.0,\"Africa\",0.0005748763895434222,-6.0,35.0],[\"Togo\",37242.0,\"Africa\",0.004392655930321404,8.0,1.1667],[\"Tunisia\",1044426.0,\"Africa\",0.0875039084217818,34.0,9.0],[\"Uganda\",166809.0,\"Africa\",0.003539823722470045,1.0,32.0],[\"Zambia\",324025.0,\"Africa\",0.017125462398055204,-15.0,30.0],[\"Zimbabwe\",254753.0,\"Africa\",0.016879811393602683,-20.0,30.0]],\"hovertemplate\":\"location=%{customdata[0]}<br>total_cases=%{customdata[1]}<extra></extra>\",\"lat\":[28.0,-12.5,9.5,-22.0,13.0,-3.5,6.0,16.0,7.0,15.0,-12.1667,-1.0,8.0,0.0,11.5,27.0,2.0,15.0,-26.5,8.0,-1.0,13.4667,8.0,11.0,12.0,1.0,-29.5,6.5,25.0,-20.0,-13.5,17.0,20.0,-20.2833,32.0,-18.25,-22.0,16.0,10.0,-2.0,-15.9333,1.0,14.0,-4.5833,8.5,10.0,-29.0,8.0,15.0,-6.0,8.0,34.0,1.0,-15.0,-20.0],\"legendgroup\":\"Africa\",\"lon\":[3.0,18.5,2.25,24.0,-2.0,30.0,12.0,-24.0,21.0,19.0,44.25,15.0,-5.0,25.0,43.0,30.0,10.0,39.0,31.5,38.0,11.75,-16.5667,-2.0,-10.0,-15.0,38.0,28.5,-9.5,17.0,47.0,34.0,-4.0,-12.0,57.55,-5.0,35.0,17.0,8.0,8.0,30.0,-5.7,7.0,-14.0,55.6667,-11.5,49.0,24.0,30.0,30.0,35.0,1.1667,9.0,32.0,30.0,30.0],\"marker\":{\"color\":\"#00cc96\",\"size\":[0.005961253098788779,0.0029398875351049434,0.0021782935083849682,0.13108491431813252,0.0009789228750281956,0.00345952801815424,0.004405886190780856,0.10327264055411896,0.002977446891627966,0.0004386642967759061,0.00915183194215583,0.004265145393764947,0.003055375676217043,0.0009735219817414075,0.01565560463661336,0.004945839961540913,0.011036002016703324,0.0027147308509710777,0.06226964377256649,0.004103787645865079,0.020950233650703937,0.004826016903524295,0.005147212314282862,0.0027277434633473504,0.004121578375481893,0.005985319601812122,0.015629899396359632,0.0014456948446857733,0.0721525124961594,0.0022754508838377487,0.004387388007775574,0.0014929714259739916,0.012417096150664593,0.17860609315956616,0.031724160054788904,0.007060370061354577,0.06526035965839873,0.000359359686377001,0.0012136809156510662,0.009831720171789031,0.0006562756357670221,0.02690675310255905,0.005012762041712675,0.45011626731371956,0.000944315943941927,0.001630551055961368,0.06636431606970561,0.0015549085141455205,0.0013914474070222036,0.0005748763895434222,0.004392655930321404,0.0875039084217818,0.003539823722470045,0.017125462398055204,0.016879811393602683],\"sizemode\":\"area\",\"sizeref\":0.0017663547591380752},\"mode\":\"markers\",\"name\":\"Africa\",\"showlegend\":true,\"subplot\":\"mapbox\",\"type\":\"scattermapbox\"},{\"customdata\":[[\"Anguilla\",3374.0,\"North America\",0.22307438016528924,18.25,-63.1667],[\"Antigua and Barbuda\",8581.0,\"North America\",0.08691556599951382,17.05,-61.8],[\"Aruba\",39980.0,\"North America\",0.3729651569569476,12.5,-69.9667],[\"Bahamas\",35603.0,\"North America\",0.08969953188851994,24.25,-76.0],[\"Barbados\",82826.0,\"North America\",0.2878821582993869,13.1667,-59.5333],[\"Belize\",61918.0,\"North America\",0.15291604410802268,17.25,-88.75],[\"Bermuda\",15762.0,\"North America\",0.25384912710172003,32.3333,-64.75],[\"British Virgin Islands\",6941.0,\"North America\",0.22814975511948196,18.5,-64.5],[\"Canada\",3925888.0,\"North America\",0.10312853242046655,60.0,-95.0],[\"Cayman Islands\",26797.0,\"North America\",0.4029745255496406,19.5,-80.5],[\"Costa Rica\",904934.0,\"North America\",0.17608964141837027,10.0,-84.0],[\"Cuba\",1105729.0,\"North America\",0.09770083458375695,21.5,-80.0],[\"Dominica\",14781.0,\"North America\",0.20480241644959263,15.4167,-61.3333],[\"Dominican Republic\",595927.0,\"North America\",0.05440410439783255,19.0,-70.6667],[\"El Salvador\",164134.0,\"North America\",0.025179719260566082,13.8333,-88.9167],[\"Greenland\",11971.0,\"North America\",0.21050502919040584,72.0,-40.0],[\"Grenada\",18115.0,\"North America\",0.16028845728443128,12.1167,-61.6667],[\"Guatemala\",880169.0,\"North America\",0.04822878718903611,15.5,-90.25],[\"Haiti\",31054.0,\"North America\",0.0026905954703486485,19.0,-72.4167],[\"Honduras\",426095.0,\"North America\",0.04234276597998568,15.0,-86.5],[\"Jamaica\",141306.0,\"North America\",0.04752238300001816,18.25,-77.5],[\"Mexico\",5852596.0,\"North America\",0.04492934328925148,23.0,-102.0],[\"Montserrat\",1015.0,\"North America\",0.20377434250150572,16.75,-62.2],[\"Nicaragua\",14619.0,\"North America\",0.002181165821867131,13.0,-85.0],[\"Panama\",902386.0,\"North America\",0.20594976746988475,9.0,-80.0],[\"Saint Kitts and Nevis\",5899.0,\"North America\",0.11016695924999066,17.3333,-62.75],[\"Saint Lucia\",26722.0,\"North America\",0.14491244624486851,13.8833,-61.1333],[\"Saint Pierre and Miquelon\",2767.0,\"North America\",0.47946629700225263,46.8333,-56.3333],[\"Saint Vincent and the Grenadines\",9447.0,\"North America\",0.0849023537553137,13.25,-61.2],[\"Trinidad and Tobago\",165706.0,\"North America\",0.11807686333080133,11.0,-61.0],[\"Turks and Caicos Islands\",6189.0,\"North America\",0.1577780043848468,21.75,-71.5833],[\"United States\",86230982.0,\"North America\",0.25901795603283495,38.0,-97.0]],\"hovertemplate\":\"location=%{customdata[0]}<br>total_cases=%{customdata[1]}<extra></extra>\",\"lat\":[18.25,17.05,12.5,24.25,13.1667,17.25,32.3333,18.5,60.0,19.5,10.0,21.5,15.4167,19.0,13.8333,72.0,12.1167,15.5,19.0,15.0,18.25,23.0,16.75,13.0,9.0,17.3333,13.8833,46.8333,13.25,11.0,21.75,38.0],\"legendgroup\":\"North America\",\"lon\":[-63.1667,-61.8,-69.9667,-76.0,-59.5333,-88.75,-64.75,-64.5,-95.0,-80.5,-84.0,-80.0,-61.3333,-70.6667,-88.9167,-40.0,-61.6667,-90.25,-72.4167,-86.5,-77.5,-102.0,-62.2,-85.0,-80.0,-62.75,-61.1333,-56.3333,-61.2,-61.0,-71.5833,-97.0],\"marker\":{\"color\":\"#ab63fa\",\"size\":[0.22307438016528924,0.08691556599951382,0.3729651569569476,0.08969953188851994,0.2878821582993869,0.15291604410802268,0.25384912710172003,0.22814975511948196,0.10312853242046655,0.4029745255496406,0.17608964141837027,0.09770083458375695,0.20480241644959263,0.05440410439783255,0.025179719260566082,0.21050502919040584,0.16028845728443128,0.04822878718903611,0.0026905954703486485,0.04234276597998568,0.04752238300001816,0.04492934328925148,0.20377434250150572,0.002181165821867131,0.20594976746988475,0.11016695924999066,0.14491244624486851,0.47946629700225263,0.0849023537553137,0.11807686333080133,0.1577780043848468,0.25901795603283495],\"sizemode\":\"area\",\"sizeref\":0.0017663547591380752},\"mode\":\"markers\",\"name\":\"North America\",\"showlegend\":true,\"subplot\":\"mapbox\",\"type\":\"scattermapbox\"},{\"customdata\":[[\"Argentina\",9313453.0,\"South America\",0.20421631246518673,-34.0,-64.0],[\"Bolivia\",914827.0,\"South America\",0.07731191988192955,-17.0,-65.0],[\"Brazil\",31611769.0,\"South America\",0.147723074372172,-10.0,-55.0],[\"Chile\",3882425.0,\"South America\",0.2020795256720647,-30.0,-71.0],[\"Colombia\",6131657.0,\"South America\",0.1196051187378356,4.0,-72.0],[\"Ecuador\",896483.0,\"South America\",0.050115118818966894,-2.0,-77.5],[\"Falkland Islands\",1756.0,\"South America\",0.4977324263038549,-51.75,-59.0],[\"Guyana\",66456.0,\"South America\",0.0840865006851577,5.0,-59.0],[\"Paraguay\",653428.0,\"South America\",0.09050699335327062,-23.0,-58.0],[\"Peru\",3597866.0,\"South America\",0.10785159152221345,-10.0,-76.0],[\"Suriname\",80766.0,\"South America\",0.1364756217493131,4.0,-56.0],[\"Uruguay\",943877.0,\"South America\",0.27082807292192707,-33.0,-56.0],[\"Venezuela\",524823.0,\"South America\",0.018283364188061382,8.0,-66.0]],\"hovertemplate\":\"location=%{customdata[0]}<br>total_cases=%{customdata[1]}<extra></extra>\",\"lat\":[-34.0,-17.0,-10.0,-30.0,4.0,-2.0,-51.75,5.0,-23.0,-10.0,4.0,-33.0,8.0],\"legendgroup\":\"South America\",\"lon\":[-64.0,-65.0,-55.0,-71.0,-72.0,-77.5,-59.0,-59.0,-58.0,-76.0,-56.0,-56.0,-66.0],\"marker\":{\"color\":\"#FFA15A\",\"size\":[0.20421631246518673,0.07731191988192955,0.147723074372172,0.2020795256720647,0.1196051187378356,0.050115118818966894,0.4977324263038549,0.0840865006851577,0.09050699335327062,0.10785159152221345,0.1364756217493131,0.27082807292192707,0.018283364188061382],\"sizemode\":\"area\",\"sizeref\":0.0017663547591380752},\"mode\":\"markers\",\"name\":\"South America\",\"showlegend\":true,\"subplot\":\"mapbox\",\"type\":\"scattermapbox\"},{\"customdata\":[[\"Australia\",7801241.0,\"Oceania\",0.3025118409698507,-27.0,133.0],[\"Cook Islands\",5727.0,\"Oceania\",0.32591623036649214,-21.2333,-159.7667],[\"Fiji\",65268.0,\"Oceania\",0.07228715504170455,-18.0,175.0],[\"French Polynesia\",73142.0,\"Oceania\",0.2588785774455464,-15.0,-140.0],[\"Kiribati\",3215.0,\"Oceania\",0.026485319800968795,1.4167,173.0],[\"Marshall Islands\",18.0,\"Oceania\",0.0003019222382501929,9.0,168.0],[\"Micronesia (country)\",38.0,\"Oceania\",0.0003268676616059524,6.9167,158.25],[\"New Caledonia\",63002.0,\"Oceania\",0.21859224126265972,-21.5,165.5],[\"New Zealand\",1273389.0,\"Oceania\",0.2484031367653083,-41.0,174.0],[\"Palau\",5181.0,\"Oceania\",0.28507758336084515,7.5,134.5],[\"Papua New Guinea\",44681.0,\"Oceania\",0.0048997670250208215,-6.0,147.0],[\"Samoa\",14497.0,\"Oceania\",0.07243284834918859,-13.5833,-172.3333],[\"Solomon Islands\",21544.0,\"Oceania\",0.030602490074503372,-8.0,159.0],[\"Tonga\",12079.0,\"Oceania\",0.11314268586255023,-20.0,-175.0],[\"Vanuatu\",10857.0,\"Oceania\",0.03452541467385774,-16.0,167.0],[\"Wallis and Futuna\",454.0,\"Oceania\",0.04092302145303768,-13.3,-176.2]],\"hovertemplate\":\"location=%{customdata[0]}<br>total_cases=%{customdata[1]}<extra></extra>\",\"lat\":[-27.0,-21.2333,-18.0,-15.0,1.4167,9.0,6.9167,-21.5,-41.0,7.5,-6.0,-13.5833,-8.0,-20.0,-16.0,-13.3],\"legendgroup\":\"Oceania\",\"lon\":[133.0,-159.7667,175.0,-140.0,173.0,168.0,158.25,165.5,174.0,134.5,147.0,-172.3333,159.0,-175.0,167.0,-176.2],\"marker\":{\"color\":\"#19d3f3\",\"size\":[0.3025118409698507,0.32591623036649214,0.07228715504170455,0.2588785774455464,0.026485319800968795,0.0003019222382501929,0.0003268676616059524,0.21859224126265972,0.2484031367653083,0.28507758336084515,0.0048997670250208215,0.07243284834918859,0.030602490074503372,0.11314268586255023,0.03452541467385774,0.04092302145303768],\"sizemode\":\"area\",\"sizeref\":0.0017663547591380752},\"mode\":\"markers\",\"name\":\"Oceania\",\"showlegend\":true,\"subplot\":\"mapbox\",\"type\":\"scattermapbox\"}],                        {\"template\":{\"data\":{\"histogram2dcontour\":[{\"type\":\"histogram2dcontour\",\"colorbar\":{\"outlinewidth\":0,\"ticks\":\"\"},\"colorscale\":[[0.0,\"#0d0887\"],[0.1111111111111111,\"#46039f\"],[0.2222222222222222,\"#7201a8\"],[0.3333333333333333,\"#9c179e\"],[0.4444444444444444,\"#bd3786\"],[0.5555555555555556,\"#d8576b\"],[0.6666666666666666,\"#ed7953\"],[0.7777777777777778,\"#fb9f3a\"],[0.8888888888888888,\"#fdca26\"],[1.0,\"#f0f921\"]]}],\"choropleth\":[{\"type\":\"choropleth\",\"colorbar\":{\"outlinewidth\":0,\"ticks\":\"\"}}],\"histogram2d\":[{\"type\":\"histogram2d\",\"colorbar\":{\"outlinewidth\":0,\"ticks\":\"\"},\"colorscale\":[[0.0,\"#0d0887\"],[0.1111111111111111,\"#46039f\"],[0.2222222222222222,\"#7201a8\"],[0.3333333333333333,\"#9c179e\"],[0.4444444444444444,\"#bd3786\"],[0.5555555555555556,\"#d8576b\"],[0.6666666666666666,\"#ed7953\"],[0.7777777777777778,\"#fb9f3a\"],[0.8888888888888888,\"#fdca26\"],[1.0,\"#f0f921\"]]}],\"heatmap\":[{\"type\":\"heatmap\",\"colorbar\":{\"outlinewidth\":0,\"ticks\":\"\"},\"colorscale\":[[0.0,\"#0d0887\"],[0.1111111111111111,\"#46039f\"],[0.2222222222222222,\"#7201a8\"],[0.3333333333333333,\"#9c179e\"],[0.4444444444444444,\"#bd3786\"],[0.5555555555555556,\"#d8576b\"],[0.6666666666666666,\"#ed7953\"],[0.7777777777777778,\"#fb9f3a\"],[0.8888888888888888,\"#fdca26\"],[1.0,\"#f0f921\"]]}],\"heatmapgl\":[{\"type\":\"heatmapgl\",\"colorbar\":{\"outlinewidth\":0,\"ticks\":\"\"},\"colorscale\":[[0.0,\"#0d0887\"],[0.1111111111111111,\"#46039f\"],[0.2222222222222222,\"#7201a8\"],[0.3333333333333333,\"#9c179e\"],[0.4444444444444444,\"#bd3786\"],[0.5555555555555556,\"#d8576b\"],[0.6666666666666666,\"#ed7953\"],[0.7777777777777778,\"#fb9f3a\"],[0.8888888888888888,\"#fdca26\"],[1.0,\"#f0f921\"]]}],\"contourcarpet\":[{\"type\":\"contourcarpet\",\"colorbar\":{\"outlinewidth\":0,\"ticks\":\"\"}}],\"contour\":[{\"type\":\"contour\",\"colorbar\":{\"outlinewidth\":0,\"ticks\":\"\"},\"colorscale\":[[0.0,\"#0d0887\"],[0.1111111111111111,\"#46039f\"],[0.2222222222222222,\"#7201a8\"],[0.3333333333333333,\"#9c179e\"],[0.4444444444444444,\"#bd3786\"],[0.5555555555555556,\"#d8576b\"],[0.6666666666666666,\"#ed7953\"],[0.7777777777777778,\"#fb9f3a\"],[0.8888888888888888,\"#fdca26\"],[1.0,\"#f0f921\"]]}],\"surface\":[{\"type\":\"surface\",\"colorbar\":{\"outlinewidth\":0,\"ticks\":\"\"},\"colorscale\":[[0.0,\"#0d0887\"],[0.1111111111111111,\"#46039f\"],[0.2222222222222222,\"#7201a8\"],[0.3333333333333333,\"#9c179e\"],[0.4444444444444444,\"#bd3786\"],[0.5555555555555556,\"#d8576b\"],[0.6666666666666666,\"#ed7953\"],[0.7777777777777778,\"#fb9f3a\"],[0.8888888888888888,\"#fdca26\"],[1.0,\"#f0f921\"]]}],\"mesh3d\":[{\"type\":\"mesh3d\",\"colorbar\":{\"outlinewidth\":0,\"ticks\":\"\"}}],\"scatter\":[{\"fillpattern\":{\"fillmode\":\"overlay\",\"size\":10,\"solidity\":0.2},\"type\":\"scatter\"}],\"parcoords\":[{\"type\":\"parcoords\",\"line\":{\"colorbar\":{\"outlinewidth\":0,\"ticks\":\"\"}}}],\"scatterpolargl\":[{\"type\":\"scatterpolargl\",\"marker\":{\"colorbar\":{\"outlinewidth\":0,\"ticks\":\"\"}}}],\"bar\":[{\"error_x\":{\"color\":\"#2a3f5f\"},\"error_y\":{\"color\":\"#2a3f5f\"},\"marker\":{\"line\":{\"color\":\"#E5ECF6\",\"width\":0.5},\"pattern\":{\"fillmode\":\"overlay\",\"size\":10,\"solidity\":0.2}},\"type\":\"bar\"}],\"scattergeo\":[{\"type\":\"scattergeo\",\"marker\":{\"colorbar\":{\"outlinewidth\":0,\"ticks\":\"\"}}}],\"scatterpolar\":[{\"type\":\"scatterpolar\",\"marker\":{\"colorbar\":{\"outlinewidth\":0,\"ticks\":\"\"}}}],\"histogram\":[{\"marker\":{\"pattern\":{\"fillmode\":\"overlay\",\"size\":10,\"solidity\":0.2}},\"type\":\"histogram\"}],\"scattergl\":[{\"type\":\"scattergl\",\"marker\":{\"colorbar\":{\"outlinewidth\":0,\"ticks\":\"\"}}}],\"scatter3d\":[{\"type\":\"scatter3d\",\"line\":{\"colorbar\":{\"outlinewidth\":0,\"ticks\":\"\"}},\"marker\":{\"colorbar\":{\"outlinewidth\":0,\"ticks\":\"\"}}}],\"scattermapbox\":[{\"type\":\"scattermapbox\",\"marker\":{\"colorbar\":{\"outlinewidth\":0,\"ticks\":\"\"}}}],\"scatterternary\":[{\"type\":\"scatterternary\",\"marker\":{\"colorbar\":{\"outlinewidth\":0,\"ticks\":\"\"}}}],\"scattercarpet\":[{\"type\":\"scattercarpet\",\"marker\":{\"colorbar\":{\"outlinewidth\":0,\"ticks\":\"\"}}}],\"carpet\":[{\"aaxis\":{\"endlinecolor\":\"#2a3f5f\",\"gridcolor\":\"white\",\"linecolor\":\"white\",\"minorgridcolor\":\"white\",\"startlinecolor\":\"#2a3f5f\"},\"baxis\":{\"endlinecolor\":\"#2a3f5f\",\"gridcolor\":\"white\",\"linecolor\":\"white\",\"minorgridcolor\":\"white\",\"startlinecolor\":\"#2a3f5f\"},\"type\":\"carpet\"}],\"table\":[{\"cells\":{\"fill\":{\"color\":\"#EBF0F8\"},\"line\":{\"color\":\"white\"}},\"header\":{\"fill\":{\"color\":\"#C8D4E3\"},\"line\":{\"color\":\"white\"}},\"type\":\"table\"}],\"barpolar\":[{\"marker\":{\"line\":{\"color\":\"#E5ECF6\",\"width\":0.5},\"pattern\":{\"fillmode\":\"overlay\",\"size\":10,\"solidity\":0.2}},\"type\":\"barpolar\"}],\"pie\":[{\"automargin\":true,\"type\":\"pie\"}]},\"layout\":{\"autotypenumbers\":\"strict\",\"colorway\":[\"#636efa\",\"#EF553B\",\"#00cc96\",\"#ab63fa\",\"#FFA15A\",\"#19d3f3\",\"#FF6692\",\"#B6E880\",\"#FF97FF\",\"#FECB52\"],\"font\":{\"color\":\"#2a3f5f\"},\"hovermode\":\"closest\",\"hoverlabel\":{\"align\":\"left\"},\"paper_bgcolor\":\"white\",\"plot_bgcolor\":\"#E5ECF6\",\"polar\":{\"bgcolor\":\"#E5ECF6\",\"angularaxis\":{\"gridcolor\":\"white\",\"linecolor\":\"white\",\"ticks\":\"\"},\"radialaxis\":{\"gridcolor\":\"white\",\"linecolor\":\"white\",\"ticks\":\"\"}},\"ternary\":{\"bgcolor\":\"#E5ECF6\",\"aaxis\":{\"gridcolor\":\"white\",\"linecolor\":\"white\",\"ticks\":\"\"},\"baxis\":{\"gridcolor\":\"white\",\"linecolor\":\"white\",\"ticks\":\"\"},\"caxis\":{\"gridcolor\":\"white\",\"linecolor\":\"white\",\"ticks\":\"\"}},\"coloraxis\":{\"colorbar\":{\"outlinewidth\":0,\"ticks\":\"\"}},\"colorscale\":{\"sequential\":[[0.0,\"#0d0887\"],[0.1111111111111111,\"#46039f\"],[0.2222222222222222,\"#7201a8\"],[0.3333333333333333,\"#9c179e\"],[0.4444444444444444,\"#bd3786\"],[0.5555555555555556,\"#d8576b\"],[0.6666666666666666,\"#ed7953\"],[0.7777777777777778,\"#fb9f3a\"],[0.8888888888888888,\"#fdca26\"],[1.0,\"#f0f921\"]],\"sequentialminus\":[[0.0,\"#0d0887\"],[0.1111111111111111,\"#46039f\"],[0.2222222222222222,\"#7201a8\"],[0.3333333333333333,\"#9c179e\"],[0.4444444444444444,\"#bd3786\"],[0.5555555555555556,\"#d8576b\"],[0.6666666666666666,\"#ed7953\"],[0.7777777777777778,\"#fb9f3a\"],[0.8888888888888888,\"#fdca26\"],[1.0,\"#f0f921\"]],\"diverging\":[[0,\"#8e0152\"],[0.1,\"#c51b7d\"],[0.2,\"#de77ae\"],[0.3,\"#f1b6da\"],[0.4,\"#fde0ef\"],[0.5,\"#f7f7f7\"],[0.6,\"#e6f5d0\"],[0.7,\"#b8e186\"],[0.8,\"#7fbc41\"],[0.9,\"#4d9221\"],[1,\"#276419\"]]},\"xaxis\":{\"gridcolor\":\"white\",\"linecolor\":\"white\",\"ticks\":\"\",\"title\":{\"standoff\":15},\"zerolinecolor\":\"white\",\"automargin\":true,\"zerolinewidth\":2},\"yaxis\":{\"gridcolor\":\"white\",\"linecolor\":\"white\",\"ticks\":\"\",\"title\":{\"standoff\":15},\"zerolinecolor\":\"white\",\"automargin\":true,\"zerolinewidth\":2},\"scene\":{\"xaxis\":{\"backgroundcolor\":\"#E5ECF6\",\"gridcolor\":\"white\",\"linecolor\":\"white\",\"showbackground\":true,\"ticks\":\"\",\"zerolinecolor\":\"white\",\"gridwidth\":2},\"yaxis\":{\"backgroundcolor\":\"#E5ECF6\",\"gridcolor\":\"white\",\"linecolor\":\"white\",\"showbackground\":true,\"ticks\":\"\",\"zerolinecolor\":\"white\",\"gridwidth\":2},\"zaxis\":{\"backgroundcolor\":\"#E5ECF6\",\"gridcolor\":\"white\",\"linecolor\":\"white\",\"showbackground\":true,\"ticks\":\"\",\"zerolinecolor\":\"white\",\"gridwidth\":2}},\"shapedefaults\":{\"line\":{\"color\":\"#2a3f5f\"}},\"annotationdefaults\":{\"arrowcolor\":\"#2a3f5f\",\"arrowhead\":0,\"arrowwidth\":1},\"geo\":{\"bgcolor\":\"white\",\"landcolor\":\"#E5ECF6\",\"subunitcolor\":\"white\",\"showland\":true,\"showlakes\":true,\"lakecolor\":\"white\"},\"title\":{\"x\":0.05},\"mapbox\":{\"style\":\"light\"}}},\"mapbox\":{\"domain\":{\"x\":[0.0,1.0],\"y\":[0.0,1.0]},\"center\":{\"lat\":18.929894835680752,\"lon\":15.324138028169015},\"accesstoken\":\"pk.eyJ1IjoiYW5nZWxpa2ExMjMxMjMiLCJhIjoiY2xyZGE4MWFxMTE2dTJxcnZra3BzN2hvZiJ9.Pux2Kbgu8S7NRMIX0NEFbg\",\"zoom\":1,\"style\":\"dark\"},\"legend\":{\"title\":{\"text\":\"continent\"},\"tracegroupgap\":0,\"itemsizing\":\"constant\"},\"title\":{\"text\":\"COVID-19 map - positive cases per person\"},\"height\":600,\"width\":1000},                        {\"responsive\": true}                    ).then(function(){\n",
       "                            \n",
       "var gd = document.getElementById('56b87b6b-f81a-4526-b668-25b1ee23a488');\n",
       "var x = new MutationObserver(function (mutations, observer) {{\n",
       "        var display = window.getComputedStyle(gd).display;\n",
       "        if (!display || display === 'none') {{\n",
       "            console.log([gd, 'removed!']);\n",
       "            Plotly.purge(gd);\n",
       "            observer.disconnect();\n",
       "        }}\n",
       "}});\n",
       "\n",
       "// Listen for the removal of the full notebook cells\n",
       "var notebookContainer = gd.closest('#notebook-container');\n",
       "if (notebookContainer) {{\n",
       "    x.observe(notebookContainer, {childList: true});\n",
       "}}\n",
       "\n",
       "// Listen for the clearing of the current output cell\n",
       "var outputEl = gd.closest('.output');\n",
       "if (outputEl) {{\n",
       "    x.observe(outputEl, {childList: true});\n",
       "}}\n",
       "\n",
       "                        })                };                });            </script>        </div>"
      ]
     },
     "metadata": {},
     "output_type": "display_data"
    }
   ],
   "source": [
    "\n",
    "cases_map = px.scatter_mapbox(data_frame=df3,\n",
    "                                  lat='latitude', lon='longitude',\n",
    "                                  color='continent',\n",
    "                                  size='cases_per_person',\n",
    "                                  size_max=20,\n",
    "                                  hover_data={'location': True,\n",
    "                                              'total_cases': True,\n",
    "                                              'continent': False,\n",
    "                                              'cases_per_person': False,\n",
    "                                              'latitude': False,\n",
    "                                              'longitude': False,\n",
    "                                              },\n",
    "                                  zoom=1,\n",
    "                                  mapbox_style='dark',\n",
    "                                  title='COVID-19 map - positive cases per person',\n",
    "                             height = 600,\n",
    "                             width = 1000)\n",
    "cases_map\n"
   ]
  },
  {
   "cell_type": "markdown",
   "metadata": {
    "id": "g3aZUGJNNar3"
   },
   "source": [
    "# Dashboard 1"
   ]
  },
  {
   "cell_type": "code",
   "execution_count": 69,
   "metadata": {
    "executionInfo": {
     "elapsed": 255,
     "status": "ok",
     "timestamp": 1708256687506,
     "user": {
      "displayName": "Astarte",
      "userId": "15697340223878132473"
     },
     "user_tz": -60
    },
    "id": "G6PlFzx3Pjks",
    "tags": []
   },
   "outputs": [],
   "source": [
    "import threading\n",
    "from dash import dcc\n",
    "from dash import html\n",
    "from dash.dependencies import Input, Output\n",
    "from IPython.display import IFrame\n",
    "\n",
    "df_dash_1 = df\n",
    "\n",
    "countries_list = list(df_dash_1['location'].drop_duplicates())"
   ]
  },
  {
   "cell_type": "code",
   "execution_count": 70,
   "metadata": {
    "executionInfo": {
     "elapsed": 1,
     "status": "ok",
     "timestamp": 1708256688318,
     "user": {
      "displayName": "Astarte",
      "userId": "15697340223878132473"
     },
     "user_tz": -60
    },
    "id": "sScMTzYlPrMl",
    "tags": []
   },
   "outputs": [],
   "source": [
    "first_dash_app = dash.Dash()\n",
    "\n",
    "first_dash_app.layout = html.Div([\n",
    "                                  html.Div([\n",
    "                                                  html.H1(id='title', children = 'COVID-19 Tracker')\n",
    "                                                  ]),\n",
    "\n",
    "                                  html.P(\"Choose country:\"),\n",
    "\n",
    "                                  dcc.Dropdown(\n",
    "                                                  id='country',\n",
    "                                                  options=[{'value': str(country), 'label': country}\n",
    "                                                          for country in countries_list],\n",
    "                                                  value=countries_list[0]\n",
    "                                                  ),\n",
    "                                  html.Br(),\n",
    "\n",
    "                                  html.Div(children=[\n",
    "                                                  dcc.Graph(id=\"graph-1\", style={'display': 'inline-block', 'width': '48%'}),\n",
    "                                                  dcc.Graph(id=\"graph-2\", style={'display': 'inline-block', 'width': '48%'}),\n",
    "                                                  ])\n",
    "\n",
    "])\n",
    "\n"
   ]
  },
  {
   "cell_type": "code",
   "execution_count": 71,
   "metadata": {
    "executionInfo": {
     "elapsed": 2,
     "status": "ok",
     "timestamp": 1708256689875,
     "user": {
      "displayName": "Astarte",
      "userId": "15697340223878132473"
     },
     "user_tz": -60
    },
    "id": "V3xBGhssVZPE",
    "tags": []
   },
   "outputs": [],
   "source": [
    "@first_dash_app.callback(\n",
    "    Output(component_id='graph-1', component_property='figure'),\n",
    "    Input(component_id='country', component_property='value')\n",
    ")\n",
    "def generate_first_graph(country):\n",
    "    df = df_dash_1[df_dash_1['location'] == country]\n",
    "    fig = px.line(\n",
    "        data_frame=df,\n",
    "        x='date',\n",
    "        y='total_cases',\n",
    "        title=f'Cummulative number of positive cases in {country}',\n",
    "        labels={'total_cases': 'Total cases'}\n",
    "    )\n",
    "    return fig\n"
   ]
  },
  {
   "cell_type": "code",
   "execution_count": 72,
   "metadata": {
    "executionInfo": {
     "elapsed": 1,
     "status": "ok",
     "timestamp": 1708256690894,
     "user": {
      "displayName": "Astarte",
      "userId": "15697340223878132473"
     },
     "user_tz": -60
    },
    "id": "36Vs9xQcVbSy",
    "tags": []
   },
   "outputs": [],
   "source": [
    "@first_dash_app.callback(\n",
    "    Output(component_id='graph-2', component_property='figure'),\n",
    "    Input(component_id='country', component_property='value')\n",
    ")\n",
    "def generate_second_graph(country):\n",
    "    df = df_dash_1[df_dash_1['location'] == country]\n",
    "    fig = px.line(\n",
    "        data_frame=df,\n",
    "        x='date',\n",
    "        y='total_deaths',\n",
    "        title=f'Cummulative number of deaths in {country}',\n",
    "        labels={'total_deaths': 'Total deaths'}\n",
    "    )\n",
    "    return fig"
   ]
  },
  {
   "cell_type": "code",
   "execution_count": 73,
   "metadata": {
    "executionInfo": {
     "elapsed": 253,
     "status": "ok",
     "timestamp": 1708256769601,
     "user": {
      "displayName": "Astarte",
      "userId": "15697340223878132473"
     },
     "user_tz": -60
    },
    "id": "_IyvxDOkBwj7",
    "tags": []
   },
   "outputs": [],
   "source": [
    "# edycja tytułu\n",
    "@first_dash_app.callback(\n",
    "    Output(component_id='title', component_property='children'),\n",
    "    Input(component_id='country', component_property='value')\n",
    ")\n",
    "def generate_title(country):\n",
    "    children = f'Cummulative number of positive cases in {country}'\n",
    "    return children\n"
   ]
  },
  {
   "cell_type": "code",
   "execution_count": 77,
   "metadata": {
    "colab": {
     "base_uri": "https://localhost:8080/",
     "height": 34
    },
    "executionInfo": {
     "elapsed": 255,
     "status": "ok",
     "timestamp": 1708256771402,
     "user": {
      "displayName": "Astarte",
      "userId": "15697340223878132473"
     },
     "user_tz": -60
    },
    "id": "yQ1v2O1sVdt9",
    "outputId": "804d66d0-502a-40cf-e842-b59d42877730",
    "tags": []
   },
   "outputs": [
    {
     "data": {
      "text/html": [
       "\n",
       "        <iframe\n",
       "            width=\"100%\"\n",
       "            height=\"650\"\n",
       "            src=\"http://127.0.0.1:8050/\"\n",
       "            frameborder=\"0\"\n",
       "            allowfullscreen\n",
       "            \n",
       "        ></iframe>\n",
       "        "
      ],
      "text/plain": [
       "<IPython.lib.display.IFrame at 0x166f64bd0>"
      ]
     },
     "metadata": {},
     "output_type": "display_data"
    }
   ],
   "source": [
    "thread = threading.Thread(target=first_dash_app.run_server)\n",
    "thread.start()\n",
    "# IFrame(src=f'http://localhost:8050', width=1000, height=600)"
   ]
  },
  {
   "cell_type": "markdown",
   "metadata": {
    "id": "-o622xAaWNS-"
   },
   "source": [
    "# Dashboard 2"
   ]
  },
  {
   "cell_type": "code",
   "execution_count": 78,
   "metadata": {
    "executionInfo": {
     "elapsed": 244,
     "status": "ok",
     "timestamp": 1708261842967,
     "user": {
      "displayName": "Astarte",
      "userId": "15697340223878132473"
     },
     "user_tz": -60
    },
    "id": "HqAfA6zTm2Br",
    "tags": []
   },
   "outputs": [],
   "source": [
    "from dash import dcc\n",
    "df_dash_2 = df3\n",
    "df_dash_2 = df_dash_2.reset_index()"
   ]
  },
  {
   "cell_type": "code",
   "execution_count": 79,
   "metadata": {
    "colab": {
     "base_uri": "https://localhost:8080/",
     "height": 35
    },
    "executionInfo": {
     "elapsed": 4,
     "status": "ok",
     "timestamp": 1708261844296,
     "user": {
      "displayName": "Astarte",
      "userId": "15697340223878132473"
     },
     "user_tz": -60
    },
    "id": "eXa53QsjpZqX",
    "outputId": "034f3e30-55c9-4e50-f68c-e68afe6fd01e",
    "tags": []
   },
   "outputs": [
    {
     "data": {
      "text/plain": [
       "'2022-06-18'"
      ]
     },
     "execution_count": 79,
     "metadata": {},
     "output_type": "execute_result"
    }
   ],
   "source": [
    "df_dash_2['date'].max()"
   ]
  },
  {
   "cell_type": "code",
   "execution_count": 80,
   "metadata": {
    "colab": {
     "base_uri": "https://localhost:8080/"
    },
    "executionInfo": {
     "elapsed": 271,
     "status": "ok",
     "timestamp": 1708261944027,
     "user": {
      "displayName": "Astarte",
      "userId": "15697340223878132473"
     },
     "user_tz": -60
    },
    "id": "1AZzxvjJWHgE",
    "outputId": "8c89a1f5-5cf5-479f-ede1-6a8413836c10",
    "tags": []
   },
   "outputs": [
    {
     "data": {
      "text/plain": [
       "Index(['level_0', 'location', 'index', 'iso_code', 'continent', 'date',\n",
       "       'total_cases', 'new_cases', 'total_deaths', 'new_deaths',\n",
       "       'hosp_patients', 'total_tests', 'new_tests', 'tests_per_case',\n",
       "       'total_vaccinations', 'people_vaccinated', 'people_fully_vaccinated',\n",
       "       'total_boosters', 'new_vaccinations', 'population', 'median_age',\n",
       "       'gdp_per_capita', 'life_expectancy', 'latitude', 'longitude',\n",
       "       'cases_per_person'],\n",
       "      dtype='object')"
      ]
     },
     "execution_count": 80,
     "metadata": {},
     "output_type": "execute_result"
    }
   ],
   "source": [
    "df_dash_2.columns"
   ]
  },
  {
   "cell_type": "code",
   "execution_count": 64,
   "metadata": {
    "executionInfo": {
     "elapsed": 2,
     "status": "ok",
     "timestamp": 1708261845520,
     "user": {
      "displayName": "Astarte",
      "userId": "15697340223878132473"
     },
     "user_tz": -60
    },
    "id": "roEyppcZMgFO",
    "tags": []
   },
   "outputs": [],
   "source": [
    "my_mapbox_token = 'paste-token-here'\n",
    "px.set_mapbox_access_token(my_mapbox_token)"
   ]
  },
  {
   "cell_type": "code",
   "execution_count": 87,
   "metadata": {
    "executionInfo": {
     "elapsed": 339,
     "status": "ok",
     "timestamp": 1708261846861,
     "user": {
      "displayName": "Astarte",
      "userId": "15697340223878132473"
     },
     "user_tz": -60
    },
    "id": "3ryjEDXEUkKa",
    "tags": []
   },
   "outputs": [],
   "source": [
    "df_dash_2 = df[df['date'] == df['date'].max()].fillna(0)\n",
    "\n",
    "metric_dict = {'total_cases': 'Total cases',\n",
    "               'total_deaths': 'Total deaths',\n",
    "               'total_tests': 'Total tests',\n",
    "               'total_vaccinations': 'Total vaccinations',\n",
    "               'people_fully_vaccinated': 'Number of fully vaccinated people'}\n",
    "\n",
    "continent_list = list(df_dash_2['continent'].drop_duplicates())"
   ]
  },
  {
   "cell_type": "code",
   "execution_count": 88,
   "metadata": {
    "executionInfo": {
     "elapsed": 244,
     "status": "ok",
     "timestamp": 1708261848159,
     "user": {
      "displayName": "Astarte",
      "userId": "15697340223878132473"
     },
     "user_tz": -60
    },
    "id": "F_I5RaU_UwKv",
    "tags": []
   },
   "outputs": [],
   "source": [
    "second_dash_app = dash.Dash()\n",
    "\n",
    "second_dash_app.layout = html.Div([\n",
    "    html.Div([\n",
    "        html.H1('COVID-19 Tracker')\n",
    "    ]),\n",
    "    html.P(\"Choose continent:\"),\n",
    "    dcc.Dropdown(\n",
    "        id='continent',\n",
    "        options=[{'value': str(continent), 'label': continent}\n",
    "                 for continent in continent_list],\n",
    "        value=continent_list[0]\n",
    "        ),\n",
    "    html.P(\"Choose metric:\"),\n",
    "    dcc.Dropdown(\n",
    "        id='metric',\n",
    "        options=[{'value': metric, 'label': metric_label}\n",
    "                 for metric, metric_label in metric_dict.items()],\n",
    "        value='total_cases'\n",
    "        ),\n",
    "    html.Br(),\n",
    "    html.Div(children=[\n",
    "        dcc.Graph(id=\"map\"),\n",
    "    ])\n",
    "\n",
    "])\n"
   ]
  },
  {
   "cell_type": "code",
   "execution_count": 89,
   "metadata": {
    "executionInfo": {
     "elapsed": 2,
     "status": "ok",
     "timestamp": 1708261849758,
     "user": {
      "displayName": "Astarte",
      "userId": "15697340223878132473"
     },
     "user_tz": -60
    },
    "id": "CStSFuDwUyjT",
    "tags": []
   },
   "outputs": [],
   "source": [
    "@second_dash_app.callback(\n",
    "    Output(component_id='map', component_property='figure'),\n",
    "    [Input(component_id='continent', component_property='value'),\n",
    "    Input(component_id='metric', component_property='value')]\n",
    ")\n",
    "def generate_graph(continent, metric):\n",
    "    df12 = df_dash_2[df_dash_2['continent'] == continent]\n",
    "    map = px.scatter_mapbox(\n",
    "        data_frame=df12,\n",
    "        lat='latitude',\n",
    "        lon='longitude',\n",
    "        size=df12[metric],\n",
    "        size_max=20,\n",
    "        hover_data={'location': True},\n",
    "        mapbox_style='dark',\n",
    "        zoom=1,\n",
    "        height=600,\n",
    "        title=f'COVID-19 - {metric_dict[metric]} in {continent}'\n",
    "    )\n",
    "    return map\n"
   ]
  },
  {
   "cell_type": "code",
   "execution_count": 90,
   "metadata": {
    "colab": {
     "base_uri": "https://localhost:8080/",
     "height": 688
    },
    "executionInfo": {
     "elapsed": 386,
     "status": "ok",
     "timestamp": 1708261851711,
     "user": {
      "displayName": "Astarte",
      "userId": "15697340223878132473"
     },
     "user_tz": -60
    },
    "id": "m0JLkwq6U0RW",
    "outputId": "3e9bbb36-1ec8-48f3-bc48-d766ddcb7620",
    "tags": []
   },
   "outputs": [
    {
     "data": {
      "text/html": [
       "\n",
       "        <iframe\n",
       "            width=\"100%\"\n",
       "            height=\"650\"\n",
       "            src=\"http://127.0.0.1:8050/\"\n",
       "            frameborder=\"0\"\n",
       "            allowfullscreen\n",
       "            \n",
       "        ></iframe>\n",
       "        "
      ],
      "text/plain": [
       "<IPython.lib.display.IFrame at 0x166b9b950>"
      ]
     },
     "metadata": {},
     "output_type": "display_data"
    }
   ],
   "source": [
    "thread = threading.Thread(target=second_dash_app.run_server)\n",
    "thread.start()\n"
   ]
  },
  {
   "cell_type": "markdown",
   "metadata": {
    "id": "o5H3AQ91W-tf"
   },
   "source": [
    "# Dashboard 3"
   ]
  },
  {
   "cell_type": "code",
   "execution_count": 91,
   "metadata": {
    "executionInfo": {
     "elapsed": 245,
     "status": "ok",
     "timestamp": 1708262574933,
     "user": {
      "displayName": "Astarte",
      "userId": "15697340223878132473"
     },
     "user_tz": -60
    },
    "id": "san-v27oW-Uh",
    "tags": []
   },
   "outputs": [],
   "source": [
    "import plotly.graph_objs as go\n",
    "\n",
    "df_dash_3 = df\n",
    "\n",
    "countries_list = list(df_dash_3['location'].drop_duplicates())"
   ]
  },
  {
   "cell_type": "code",
   "execution_count": 92,
   "metadata": {
    "colab": {
     "base_uri": "https://localhost:8080/"
    },
    "executionInfo": {
     "elapsed": 2,
     "status": "ok",
     "timestamp": 1708262575808,
     "user": {
      "displayName": "Astarte",
      "userId": "15697340223878132473"
     },
     "user_tz": -60
    },
    "id": "u6RxFzhYTOcl",
    "outputId": "5b81d808-c426-4c00-e77f-fac3a727662d",
    "tags": []
   },
   "outputs": [
    {
     "data": {
      "text/plain": [
       "Index(['index', 'iso_code', 'continent', 'location', 'date', 'total_cases',\n",
       "       'new_cases', 'total_deaths', 'new_deaths', 'hosp_patients',\n",
       "       'total_tests', 'new_tests', 'tests_per_case', 'total_vaccinations',\n",
       "       'people_vaccinated', 'people_fully_vaccinated', 'total_boosters',\n",
       "       'new_vaccinations', 'population', 'median_age', 'gdp_per_capita',\n",
       "       'life_expectancy', 'latitude', 'longitude'],\n",
       "      dtype='object')"
      ]
     },
     "execution_count": 92,
     "metadata": {},
     "output_type": "execute_result"
    }
   ],
   "source": [
    "df_dash_3.columns"
   ]
  },
  {
   "cell_type": "code",
   "execution_count": 97,
   "metadata": {
    "executionInfo": {
     "elapsed": 376,
     "status": "ok",
     "timestamp": 1708262578639,
     "user": {
      "displayName": "Astarte",
      "userId": "15697340223878132473"
     },
     "user_tz": -60
    },
    "id": "siFJG6aoXIMs",
    "tags": []
   },
   "outputs": [],
   "source": [
    "third_dash_app = dash.Dash()\n",
    "\n",
    "third_dash_app.layout = html.Div([\n",
    "    html.Div([\n",
    "        html.H1('COVID-19 Tracker')\n",
    "    ]),\n",
    "    html.P(\"Choose top x countries:\"),\n",
    "    dcc.Slider(5, 20, 5,\n",
    "        value=5,\n",
    "        id='slider'\n",
    "    ),\n",
    "    html.Br(),\n",
    "    html.Div(children=[\n",
    "        dcc.Graph(id='1-graph', style={'display':'inline-block', 'width': '48%'}),\n",
    "        dcc.Graph(id='2-graph', style={'display':'inline-block', 'width': '48%'})\n",
    "    ])\n",
    "\n",
    "])\n"
   ]
  },
  {
   "cell_type": "code",
   "execution_count": 98,
   "metadata": {
    "executionInfo": {
     "elapsed": 3,
     "status": "ok",
     "timestamp": 1708262579977,
     "user": {
      "displayName": "Astarte",
      "userId": "15697340223878132473"
     },
     "user_tz": -60
    },
    "id": "qMi-Vv4CXPbQ",
    "tags": []
   },
   "outputs": [],
   "source": [
    "@third_dash_app.callback(\n",
    "    Output(component_id='1-graph', component_property='figure'),\n",
    "    [Input(component_id='slider', component_property='value')]\n",
    ")\n",
    "def generate_vaccinations_graph(n):\n",
    "    max_date = df_dash_3['date'].max()\n",
    "    df13 = df_dash_3[df_dash_3['date'] == max_date].sort_values(by='total_vaccinations', ascending=False).head(n).fillna(0)\n",
    "    fig = px.bar(\n",
    "        data_frame=df13,\n",
    "        x='location',\n",
    "        y='total_vaccinations',\n",
    "        title=f'Number of vaccinations',\n",
    "        labels={'total_vaccinations': 'Total vaccinations'}\n",
    "    )\n",
    "    return fig\n"
   ]
  },
  {
   "cell_type": "code",
   "execution_count": 99,
   "metadata": {
    "executionInfo": {
     "elapsed": 258,
     "status": "ok",
     "timestamp": 1708262584378,
     "user": {
      "displayName": "Astarte",
      "userId": "15697340223878132473"
     },
     "user_tz": -60
    },
    "id": "cADw2odoSDum",
    "tags": []
   },
   "outputs": [],
   "source": [
    "@third_dash_app.callback(\n",
    "    Output(component_id='2-graph', component_property='figure'),\n",
    "    [Input(component_id='slider', component_property='value')]\n",
    ")\n",
    "def generate_vaccination_ratio_graph(n):\n",
    "    max_date = df_dash_3['date'].max()\n",
    "    df14 = df_dash_3[df_dash_3['date'] == max_date]\n",
    "    df14['vaccination_ratio'] = df14['total_vaccinations'] / df14['population']\n",
    "    df14 = df14.sort_values(by='vaccination_ratio', ascending=False).head(n).fillna(0)\n",
    "    fig = px.bar(\n",
    "        data_frame=df14,\n",
    "        x='location',\n",
    "        y='vaccination_ratio',\n",
    "        title=f'Vaccination ratio',\n",
    "        labels={'vaccination_ratio': 'Vaccination ratio'}\n",
    "    )\n",
    "    return fig\n"
   ]
  },
  {
   "cell_type": "code",
   "execution_count": 106,
   "metadata": {
    "colab": {
     "base_uri": "https://localhost:8080/",
     "height": 688
    },
    "executionInfo": {
     "elapsed": 257,
     "status": "ok",
     "timestamp": 1708262585670,
     "user": {
      "displayName": "Astarte",
      "userId": "15697340223878132473"
     },
     "user_tz": -60
    },
    "id": "rjfd-qYwXSrL",
    "outputId": "3f982b63-2834-41bd-d83c-d76700226150",
    "tags": []
   },
   "outputs": [
    {
     "data": {
      "text/html": [
       "\n",
       "        <iframe\n",
       "            width=\"100%\"\n",
       "            height=\"650\"\n",
       "            src=\"http://127.0.0.1:8050/\"\n",
       "            frameborder=\"0\"\n",
       "            allowfullscreen\n",
       "            \n",
       "        ></iframe>\n",
       "        "
      ],
      "text/plain": [
       "<IPython.lib.display.IFrame at 0x167281210>"
      ]
     },
     "metadata": {},
     "output_type": "display_data"
    },
    {
     "name": "stderr",
     "output_type": "stream",
     "text": [
      "/var/folders/lv/0md7gw4n2n37m2s_m_qjjpn80000gn/T/ipykernel_16643/3413959028.py:8: SettingWithCopyWarning:\n",
      "\n",
      "\n",
      "A value is trying to be set on a copy of a slice from a DataFrame.\n",
      "Try using .loc[row_indexer,col_indexer] = value instead\n",
      "\n",
      "See the caveats in the documentation: https://pandas.pydata.org/pandas-docs/stable/user_guide/indexing.html#returning-a-view-versus-a-copy\n",
      "\n",
      "/var/folders/lv/0md7gw4n2n37m2s_m_qjjpn80000gn/T/ipykernel_16643/3413959028.py:8: SettingWithCopyWarning:\n",
      "\n",
      "\n",
      "A value is trying to be set on a copy of a slice from a DataFrame.\n",
      "Try using .loc[row_indexer,col_indexer] = value instead\n",
      "\n",
      "See the caveats in the documentation: https://pandas.pydata.org/pandas-docs/stable/user_guide/indexing.html#returning-a-view-versus-a-copy\n",
      "\n"
     ]
    }
   ],
   "source": [
    "thread = threading.Thread(target=third_dash_app.run_server)\n",
    "thread.start()\n",
    "# output.serve_kernel_port_as_window(port=8050)"
   ]
  }
 ],
 "metadata": {
  "colab": {
   "authorship_tag": "ABX9TyMLS790p6biYiifhYEUctby",
   "collapsed_sections": [
    "p6BM6gF9TqLk",
    "g3aZUGJNNar3",
    "-o622xAaWNS-"
   ],
   "provenance": []
  },
  "kernelspec": {
   "display_name": "Python 3 (ipykernel)",
   "language": "python",
   "name": "python3"
  },
  "language_info": {
   "codemirror_mode": {
    "name": "ipython",
    "version": 3
   },
   "file_extension": ".py",
   "mimetype": "text/x-python",
   "name": "python",
   "nbconvert_exporter": "python",
   "pygments_lexer": "ipython3",
   "version": "3.11.4"
  }
 },
 "nbformat": 4,
 "nbformat_minor": 4
}
