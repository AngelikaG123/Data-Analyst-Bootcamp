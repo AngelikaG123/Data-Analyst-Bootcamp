{
 "cells": [
  {
   "cell_type": "code",
   "execution_count": 9,
   "id": "73093ed9",
   "metadata": {},
   "outputs": [],
   "source": [
    "import psycopg2\n",
    "import json\n",
    "import re\n",
    "\n",
    "# insert database info\n",
    "connection = psycopg2.connect(\n",
    "    host=' ',\n",
    "    user=' ',  \n",
    "    password=' ', \n",
    "    dbname=' ', \n",
    ")\n",
    "\n",
    "cursor = connection.cursor()\n",
    "\n",
    "file1 = './files/clients.json'\n",
    "file2 = './files/todo.json'"
   ]
  },
  {
   "cell_type": "code",
   "execution_count": 8,
   "id": "6be6f0a3",
   "metadata": {},
   "outputs": [
    {
     "name": "stdout",
     "output_type": "stream",
     "text": [
      "List of men's names and surnames:\n",
      "Bennett Walter\n",
      "Burris Rodriquez\n",
      "\n",
      "List of active customers:\n",
      "Burris Rodriquez\n",
      "\n",
      "List of clients with the tag `adipisicing`:\n",
      "Bennett Walter\n",
      "Alexandra Garrison\n",
      "Burris Rodriquez\n",
      "\n",
      "Customer list with Polish telephone number:\n",
      "Bennett Walter\n"
     ]
    }
   ],
   "source": [
    "# show information from file\n",
    "\n",
    "with open(file1) as file:\n",
    "    data = json.loads(file.read())\n",
    "\n",
    "print(\"List of men's names and surnames:\")\n",
    "for i in range(0,len(data['clients'])):\n",
    "    if data['clients'][i]['gender'] == \"male\":\n",
    "        print(data['clients'][i]['name'])\n",
    "print()\n",
    "\n",
    "print(\"List of active customers:\")\n",
    "for i in range(0,len(data['clients'])):\n",
    "    if data['clients'][i]['isActive'] == True:\n",
    "            print(data['clients'][i]['name'])\n",
    "print()\n",
    "\n",
    "print(\"List of clients with the tag `adipisicing`:\")\n",
    "for i in range(0,len(data['clients'])):\n",
    "    if 'adipisicing' in data['clients'][i]['tags']:\n",
    "            print(data['clients'][i]['name'])\n",
    "print()\n",
    "        \n",
    "print(\"Customer list with Polish telephone number:\")\n",
    "pattern = r\".*\\+48.*\"\n",
    "for client in data['clients']:\n",
    "    phone_number = client.get('phone', '')  \n",
    "    if re.match(pattern, phone_number):\n",
    "        print(client['name'])"
   ]
  },
  {
   "cell_type": "markdown",
   "id": "60da0854",
   "metadata": {},
   "source": [
    "*Work on todo.json file:*"
   ]
  },
  {
   "cell_type": "code",
   "execution_count": 19,
   "id": "0c8b5373",
   "metadata": {},
   "outputs": [
    {
     "name": "stdout",
     "output_type": "stream",
     "text": [
      "Enter your name:Angelika\n"
     ]
    }
   ],
   "source": [
    "# Ask for a name here and create a `todo.json` file with appropriate content\n",
    "name = str(input(\"Enter your name:\"))\n",
    "\n",
    "dictionary = {'owner':name, \n",
    "              'tasks': []}\n",
    "as_json = json.dumps(dictionary)\n",
    "with open(file2, 'w') as file:\n",
    "    file.write(as_json)\n",
    "    "
   ]
  },
  {
   "cell_type": "code",
   "execution_count": 20,
   "id": "e1e73632",
   "metadata": {},
   "outputs": [
    {
     "name": "stdout",
     "output_type": "stream",
     "text": [
      "What task should I add to my list?\n",
      "Read a book\n"
     ]
    }
   ],
   "source": [
    "# Ask for the content of the new task and add it to the list in the file\n",
    "with open(file2) as file:\n",
    "    todo = json.loads(file.read())\n",
    "\n",
    "task = input('What task should I add to my list?\\n')\n",
    "todo['tasks'].append(task)\n",
    "\n",
    "with open(file2, 'w') as file:\n",
    "    file.write(json.dumps(todo))"
   ]
  },
  {
   "cell_type": "code",
   "execution_count": 21,
   "id": "f2bad1c1",
   "metadata": {},
   "outputs": [
    {
     "name": "stdout",
     "output_type": "stream",
     "text": [
      "Angelika, your task for today is Read a book\n"
     ]
    }
   ],
   "source": [
    "# Write a list of previously added tasks\n",
    "with open(file2) as file:\n",
    "    data = json.loads(file.read())\n",
    "\n",
    "owner = data['owner']\n",
    "tasks = data['tasks']\n",
    "\n",
    "for i in range(0, len(tasks)):\n",
    "    task = tasks[i]\n",
    "    wynik = f\"{owner}, your task for today is {task}\"\n",
    "    print(wynik)"
   ]
  },
  {
   "cell_type": "code",
   "execution_count": null,
   "id": "e1f9e9fc",
   "metadata": {},
   "outputs": [],
   "source": []
  }
 ],
 "metadata": {
  "kernelspec": {
   "display_name": "Python 3 (ipykernel)",
   "language": "python",
   "name": "python3"
  },
  "language_info": {
   "codemirror_mode": {
    "name": "ipython",
    "version": 3
   },
   "file_extension": ".py",
   "mimetype": "text/x-python",
   "name": "python",
   "nbconvert_exporter": "python",
   "pygments_lexer": "ipython3",
   "version": "3.11.4"
  }
 },
 "nbformat": 4,
 "nbformat_minor": 5
}
