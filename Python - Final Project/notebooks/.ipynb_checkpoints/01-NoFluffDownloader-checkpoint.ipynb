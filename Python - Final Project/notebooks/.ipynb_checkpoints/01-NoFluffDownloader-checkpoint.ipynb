{
 "cells": [
  {
   "cell_type": "code",
   "execution_count": 19,
   "metadata": {
    "tags": []
   },
   "outputs": [],
   "source": [
    "from time import sleep\n",
    "from datetime import datetime\n",
    "from bs4 import BeautifulSoup\n",
    "from pathlib import Path\n",
    "from selenium.webdriver import Chrome\n",
    "from selenium.webdriver.chrome.service import Service as ChromeService\n",
    "import requests"
   ]
  },
  {
   "cell_type": "code",
   "execution_count": 20,
   "metadata": {},
   "outputs": [],
   "source": [
    "def download_page(page_number: int, job_name: str) -> BeautifulSoup:\n",
    "    \"\"\"\n",
    "    Enters the website and downloads all its content\n",
    "    \"\"\"\n",
    "    global browser\n",
    "    url = f\"https://nofluffjobs.com/pl/?criteria=jobPosition%3D'{job_name}'&page={page_number}\"\n",
    "    browser.get(url)\n",
    "    return BeautifulSoup(browser.page_source)"
   ]
  },
  {
   "cell_type": "code",
   "execution_count": 21,
   "metadata": {},
   "outputs": [],
   "source": [
    "def page_without_next_page_arrow(page: BeautifulSoup) -> bool:\n",
    "    \"\"\"\n",
    "    Checks if the page is empty/the last one\n",
    "    Condition: there's no \"next page\" arrow on the website\n",
    "    \"\"\"\n",
    "    res = False\n",
    "    next_page_arrows = page.findAll(\"a\", attrs={\"aria-label\": \"Next\"})\n",
    "    if not next_page_arrows:\n",
    "        res = True\n",
    "    return res\n",
    "\n",
    "def other_offers_of_interest(page: BeautifulSoup) -> bool:\n",
    "    \"\"\"\n",
    "    Checks if the page contains \"Mogą Cię też zainteresować\" \n",
    "    \"\"\"\n",
    "    res = False\n",
    "    tags = page.findAll(\"h1\", attrs={\"class\": \"list-title\"})\n",
    "    for tag in tags:\n",
    "        if tag.getText() == ' Mogą Cię też zainteresować ':\n",
    "            res = True\n",
    "    return res"
   ]
  },
  {
   "cell_type": "code",
   "execution_count": 22,
   "metadata": {},
   "outputs": [],
   "source": [
    "def get_job_offers(job_name: str) -> list:\n",
    "    \"\"\"\n",
    "    Downloads current job offers for a query\n",
    "\n",
    "    @param job_name: search query\n",
    "    @returns: list with dictionary {page - page number, job - job posting, html - original html of a website}\n",
    "    \"\"\"\n",
    "    results = []\n",
    "    \n",
    "    page_number = 1\n",
    "    while True:\n",
    "        page = download_page(page_number, job_name)\n",
    "        warunek_strona_ostatnia = page_without_next_page_arrow(page) or other_offers_of_interest(page)\n",
    "        results.append(page)\n",
    "        if warunek_strona_ostatnia:\n",
    "            break\n",
    "        page_number = page_number + 1\n",
    "    return results"
   ]
  },
  {
   "cell_type": "code",
   "execution_count": 23,
   "metadata": {
    "tags": []
   },
   "outputs": [],
   "source": [
    "drivers_path = Path('../drivers/chromedriver')  \n",
    "drivers_path.resolve()\n",
    "\n",
    "service = ChromeService(r'../drivers/chromedriver') \n",
    "browser = Chrome(service=service)\n",
    "browser.implicitly_wait(10)"
   ]
  },
  {
   "cell_type": "code",
   "execution_count": 24,
   "metadata": {
    "tags": []
   },
   "outputs": [],
   "source": [
    "jobs = ['data analyst', 'data scientist', 'data engineer']\n",
    "\n",
    "# dowload info for queries listed in \"jobs\"\n",
    "job_offers = {}\n",
    "for job in jobs:\n",
    "    job_offers[job] = get_job_offers(job)"
   ]
  },
  {
   "cell_type": "code",
   "execution_count": 26,
   "metadata": {
    "tags": []
   },
   "outputs": [],
   "source": [
    "# save info about jobs to html file \n",
    "dt = datetime.now().strftime(\"%Y%m%d_%H%M%S\")\n",
    "for job in job_offers:\n",
    "    for page_num, page in enumerate(job_offers[job]):\n",
    "        with open(f\"../data/raw/{job}_{page_num}_{dt}.html\", \"w\", encoding='utf-8') as f:\n",
    "            f.write(BeautifulSoup.prettify(page, formatter='html'))\n",
    "browser.quit()"
   ]
  }
 ],
 "metadata": {
  "kernelspec": {
   "display_name": "Python 3 (ipykernel)",
   "language": "python",
   "name": "python3"
  },
  "language_info": {
   "codemirror_mode": {
    "name": "ipython",
    "version": 3
   },
   "file_extension": ".py",
   "mimetype": "text/x-python",
   "name": "python",
   "nbconvert_exporter": "python",
   "pygments_lexer": "ipython3",
   "version": "3.11.4"
  }
 },
 "nbformat": 4,
 "nbformat_minor": 4
}
