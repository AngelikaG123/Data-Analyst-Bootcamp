{
 "cells": [
  {
   "cell_type": "code",
   "execution_count": 34,
   "metadata": {
    "tags": []
   },
   "outputs": [],
   "source": [
    "import pandas as pd\n",
    "import glob\n",
    "\n",
    "directory = '../data/interim/'\n",
    "\n",
    "file_pattern = '*.csv'\n",
    "matching_files = glob.glob(directory + file_pattern)\n",
    "\n",
    "if matching_files:\n",
    "    first_matching_file = matching_files[0]\n",
    "    df = pd.read_csv(first_matching_file, sep=';', decimal='.')\n",
    "else:\n",
    "    print(\"No CSV files found in the specified directory.\")"
   ]
  },
  {
   "cell_type": "code",
   "execution_count": 35,
   "metadata": {
    "tags": []
   },
   "outputs": [],
   "source": [
    "df = df.loc[df['salary_currency']=='PLN']"
   ]
  },
  {
   "cell_type": "code",
   "execution_count": 36,
   "metadata": {
    "tags": []
   },
   "outputs": [],
   "source": [
    "df['name'] = df['name'].str.lower()\n",
    "df['location_city'] = df['location_city'].str.lower()"
   ]
  },
  {
   "cell_type": "code",
   "execution_count": 37,
   "metadata": {
    "tags": []
   },
   "outputs": [],
   "source": [
    "df['salary_avg'] = (df['salary_low']+df['salary_high'])/2"
   ]
  },
  {
   "cell_type": "code",
   "execution_count": 38,
   "metadata": {
    "tags": []
   },
   "outputs": [
    {
     "data": {
      "text/plain": [
       "array(['warszawa', 'zdalnie', 'kraków', 'budapest', 'warsaw', 'prague',\n",
       "       'wroc&lstrok;aw', 'katowice'], dtype=object)"
      ]
     },
     "execution_count": 38,
     "metadata": {},
     "output_type": "execute_result"
    }
   ],
   "source": [
    "df['location_city'].unique()"
   ]
  },
  {
   "cell_type": "code",
   "execution_count": 39,
   "metadata": {
    "tags": []
   },
   "outputs": [],
   "source": [
    "df.loc[df['location_city']=='warsaw','location_city'] = \"warszawa\"\n",
    "df.loc[df['location_city']=='wroc&lstrok;aw','location_city'] = \"wrocław\"\n",
    "df.loc[df['location_city']=='pozna&nacute;','location_city'] = \"poznań\"\n",
    "df.loc[df['location_city']=='krakow','location_city'] = \"kraków\"\n",
    "df.loc[df['location_city']=='zdalnie','location_city'] = \"remote\""
   ]
  },
  {
   "cell_type": "code",
   "execution_count": 40,
   "metadata": {
    "tags": []
   },
   "outputs": [],
   "source": [
    "selected_cities = ['warszawa', 'wrocław', 'kraków', 'trójmiasto', 'katowice', 'poznań']\n",
    "df.loc[df['location_city'].isin(selected_cities), 'location_country'] = \"PL\"\n",
    "\n",
    "df.loc[df['location_city']=='zdalnie', 'location_country'] = \"N/A\"\n",
    "\n",
    "df.loc[df['location_city']=='prague', 'location_country'] = \"CZ\"\n",
    "\n",
    "df.loc[df['location_city']=='budapest', 'location_country'] = \"HU\""
   ]
  },
  {
   "cell_type": "code",
   "execution_count": 41,
   "metadata": {
    "tags": []
   },
   "outputs": [
    {
     "data": {
      "text/plain": [
       "array(['PL', nan, 'HU', 'CZ'], dtype=object)"
      ]
     },
     "execution_count": 41,
     "metadata": {},
     "output_type": "execute_result"
    }
   ],
   "source": [
    "df.head(5)\n",
    "df['location_country'].unique()"
   ]
  },
  {
   "cell_type": "code",
   "execution_count": 42,
   "metadata": {
    "tags": []
   },
   "outputs": [],
   "source": [
    "df['is_senior'] = 0\n",
    "df.loc[df['name'].str.lower().str.find('senior') >= 0, 'is_senior'] = 1"
   ]
  },
  {
   "cell_type": "code",
   "execution_count": 43,
   "metadata": {
    "tags": []
   },
   "outputs": [],
   "source": [
    "from datetime import datetime\n",
    "dt = datetime.now().strftime(\"%Y_%m_%d__%H_%M_%S\")\n",
    "df.to_csv(f'../data/processed/job_offers_{dt}.csv', sep=';', encoding='UTF', index=False)"
   ]
  }
 ],
 "metadata": {
  "kernelspec": {
   "display_name": "Python 3 (ipykernel)",
   "language": "python",
   "name": "python3"
  },
  "language_info": {
   "codemirror_mode": {
    "name": "ipython",
    "version": 3
   },
   "file_extension": ".py",
   "mimetype": "text/x-python",
   "name": "python",
   "nbconvert_exporter": "python",
   "pygments_lexer": "ipython3",
   "version": "3.11.4"
  }
 },
 "nbformat": 4,
 "nbformat_minor": 4
}
